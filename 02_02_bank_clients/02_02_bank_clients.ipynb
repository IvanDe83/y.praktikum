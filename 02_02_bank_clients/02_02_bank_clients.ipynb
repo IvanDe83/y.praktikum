{
 "cells": [
  {
   "cell_type": "markdown",
   "metadata": {},
   "source": [
    "# Отток клиентов"
   ]
  },
  {
   "cell_type": "markdown",
   "metadata": {},
   "source": [
    "Из «Бета-Банка» стали уходить клиенты. Каждый месяц. Немного, но заметно. Банковские маркетологи посчитали: сохранять текущих клиентов дешевле, чем привлекать новых.\n",
    "\n",
    "Нужно спрогнозировать, уйдёт клиент из банка в ближайшее время или нет. Вам предоставлены исторические данные о поведении клиентов и расторжении договоров с банком. \n",
    "\n",
    "Постройте модель с предельно большим значением *F1*-меры. Чтобы сдать проект успешно, нужно довести метрику до 0.59. Проверьте *F1*-меру на тестовой выборке самостоятельно.\n",
    "\n",
    "Дополнительно измеряйте *AUC-ROC*, сравнивайте её значение с *F1*-мерой.\n",
    "\n",
    "Источник данных: [https://www.kaggle.com/barelydedicated/bank-customer-churn-modeling](https://www.kaggle.com/barelydedicated/bank-customer-churn-modeling)"
   ]
  },
  {
   "cell_type": "markdown",
   "metadata": {},
   "source": [
    "Вот так напишут всё, что сделать надо, и не напишешь нормальный план работы.\n",
    "\n",
    "Всего у нас будет 3 этапа:\n",
    "\n",
    "1. Подготовка данных. Здесь мы исследует каждую переменную и доведём её до удобоваримого для модели состояния\n",
    "2. Напишем функцию, которая сделает сразу несколько пунктов: сделает модели ohe, отмасштабирует, разобьёт выборку на нужные df, подберёт оптимальную модель с точки зрения метрики f1 и проверит её на тестовой выборке и на адекватность\n",
    "3. Выводы"
   ]
  },
  {
   "cell_type": "markdown",
   "metadata": {},
   "source": [
    "# 1. Подготовка данных"
   ]
  },
  {
   "cell_type": "code",
   "execution_count": 1,
   "metadata": {},
   "outputs": [
    {
     "name": "stdout",
     "output_type": "stream",
     "text": [
      "<class 'pandas.core.frame.DataFrame'>\n",
      "RangeIndex: 10000 entries, 0 to 9999\n",
      "Data columns (total 14 columns):\n",
      "RowNumber          10000 non-null int64\n",
      "CustomerId         10000 non-null int64\n",
      "Surname            10000 non-null object\n",
      "CreditScore        10000 non-null int64\n",
      "Geography          10000 non-null object\n",
      "Gender             10000 non-null object\n",
      "Age                10000 non-null int64\n",
      "Tenure             9091 non-null float64\n",
      "Balance            10000 non-null float64\n",
      "NumOfProducts      10000 non-null int64\n",
      "HasCrCard          10000 non-null int64\n",
      "IsActiveMember     10000 non-null int64\n",
      "EstimatedSalary    10000 non-null float64\n",
      "Exited             10000 non-null int64\n",
      "dtypes: float64(3), int64(8), object(3)\n",
      "memory usage: 1.1+ MB\n"
     ]
    },
    {
     "data": {
      "text/html": [
       "<div>\n",
       "<style scoped>\n",
       "    .dataframe tbody tr th:only-of-type {\n",
       "        vertical-align: middle;\n",
       "    }\n",
       "\n",
       "    .dataframe tbody tr th {\n",
       "        vertical-align: top;\n",
       "    }\n",
       "\n",
       "    .dataframe thead th {\n",
       "        text-align: right;\n",
       "    }\n",
       "</style>\n",
       "<table border=\"1\" class=\"dataframe\">\n",
       "  <thead>\n",
       "    <tr style=\"text-align: right;\">\n",
       "      <th></th>\n",
       "      <th>RowNumber</th>\n",
       "      <th>CustomerId</th>\n",
       "      <th>Surname</th>\n",
       "      <th>CreditScore</th>\n",
       "      <th>Geography</th>\n",
       "      <th>Gender</th>\n",
       "      <th>Age</th>\n",
       "      <th>Tenure</th>\n",
       "      <th>Balance</th>\n",
       "      <th>NumOfProducts</th>\n",
       "      <th>HasCrCard</th>\n",
       "      <th>IsActiveMember</th>\n",
       "      <th>EstimatedSalary</th>\n",
       "      <th>Exited</th>\n",
       "    </tr>\n",
       "  </thead>\n",
       "  <tbody>\n",
       "    <tr>\n",
       "      <td>0</td>\n",
       "      <td>1</td>\n",
       "      <td>15634602</td>\n",
       "      <td>Hargrave</td>\n",
       "      <td>619</td>\n",
       "      <td>France</td>\n",
       "      <td>Female</td>\n",
       "      <td>42</td>\n",
       "      <td>2.0</td>\n",
       "      <td>0.00</td>\n",
       "      <td>1</td>\n",
       "      <td>1</td>\n",
       "      <td>1</td>\n",
       "      <td>101348.88</td>\n",
       "      <td>1</td>\n",
       "    </tr>\n",
       "    <tr>\n",
       "      <td>1</td>\n",
       "      <td>2</td>\n",
       "      <td>15647311</td>\n",
       "      <td>Hill</td>\n",
       "      <td>608</td>\n",
       "      <td>Spain</td>\n",
       "      <td>Female</td>\n",
       "      <td>41</td>\n",
       "      <td>1.0</td>\n",
       "      <td>83807.86</td>\n",
       "      <td>1</td>\n",
       "      <td>0</td>\n",
       "      <td>1</td>\n",
       "      <td>112542.58</td>\n",
       "      <td>0</td>\n",
       "    </tr>\n",
       "    <tr>\n",
       "      <td>2</td>\n",
       "      <td>3</td>\n",
       "      <td>15619304</td>\n",
       "      <td>Onio</td>\n",
       "      <td>502</td>\n",
       "      <td>France</td>\n",
       "      <td>Female</td>\n",
       "      <td>42</td>\n",
       "      <td>8.0</td>\n",
       "      <td>159660.80</td>\n",
       "      <td>3</td>\n",
       "      <td>1</td>\n",
       "      <td>0</td>\n",
       "      <td>113931.57</td>\n",
       "      <td>1</td>\n",
       "    </tr>\n",
       "    <tr>\n",
       "      <td>3</td>\n",
       "      <td>4</td>\n",
       "      <td>15701354</td>\n",
       "      <td>Boni</td>\n",
       "      <td>699</td>\n",
       "      <td>France</td>\n",
       "      <td>Female</td>\n",
       "      <td>39</td>\n",
       "      <td>1.0</td>\n",
       "      <td>0.00</td>\n",
       "      <td>2</td>\n",
       "      <td>0</td>\n",
       "      <td>0</td>\n",
       "      <td>93826.63</td>\n",
       "      <td>0</td>\n",
       "    </tr>\n",
       "    <tr>\n",
       "      <td>4</td>\n",
       "      <td>5</td>\n",
       "      <td>15737888</td>\n",
       "      <td>Mitchell</td>\n",
       "      <td>850</td>\n",
       "      <td>Spain</td>\n",
       "      <td>Female</td>\n",
       "      <td>43</td>\n",
       "      <td>2.0</td>\n",
       "      <td>125510.82</td>\n",
       "      <td>1</td>\n",
       "      <td>1</td>\n",
       "      <td>1</td>\n",
       "      <td>79084.10</td>\n",
       "      <td>0</td>\n",
       "    </tr>\n",
       "  </tbody>\n",
       "</table>\n",
       "</div>"
      ],
      "text/plain": [
       "   RowNumber  CustomerId   Surname  CreditScore Geography  Gender  Age  \\\n",
       "0          1    15634602  Hargrave          619    France  Female   42   \n",
       "1          2    15647311      Hill          608     Spain  Female   41   \n",
       "2          3    15619304      Onio          502    France  Female   42   \n",
       "3          4    15701354      Boni          699    France  Female   39   \n",
       "4          5    15737888  Mitchell          850     Spain  Female   43   \n",
       "\n",
       "   Tenure    Balance  NumOfProducts  HasCrCard  IsActiveMember  \\\n",
       "0     2.0       0.00              1          1               1   \n",
       "1     1.0   83807.86              1          0               1   \n",
       "2     8.0  159660.80              3          1               0   \n",
       "3     1.0       0.00              2          0               0   \n",
       "4     2.0  125510.82              1          1               1   \n",
       "\n",
       "   EstimatedSalary  Exited  \n",
       "0        101348.88       1  \n",
       "1        112542.58       0  \n",
       "2        113931.57       1  \n",
       "3         93826.63       0  \n",
       "4         79084.10       0  "
      ]
     },
     "execution_count": 1,
     "metadata": {},
     "output_type": "execute_result"
    }
   ],
   "source": [
    "import pandas as pd\n",
    "import numpy as np\n",
    "import random as rd\n",
    "from sklearn.ensemble import RandomForestClassifier\n",
    "from sklearn.linear_model import LogisticRegression\n",
    "from sklearn.model_selection import train_test_split\n",
    "from sklearn.preprocessing import StandardScaler\n",
    "from sklearn.metrics import f1_score, confusion_matrix, roc_auc_score\n",
    "from sklearn.utils import shuffle\n",
    "import matplotlib.pyplot as plt\n",
    "import seaborn as sns\n",
    "plt.style.use('seaborn-deep')\n",
    "\n",
    "df = pd.read_csv('/datasets/Churn.csv')\n",
    "\n",
    "df.info()\n",
    "df.head()"
   ]
  },
  {
   "cell_type": "markdown",
   "metadata": {},
   "source": [
    "Видны пропуски, тип `float` и переменные с сомнительной ценностью для будущей модели. Будем разбираться.\n",
    "\n",
    "Старая функция `column_info` показывает информацию по переменной."
   ]
  },
  {
   "cell_type": "code",
   "execution_count": 2,
   "metadata": {},
   "outputs": [],
   "source": [
    "def column_info(data, column, quantitative=False, mean=True, median=True, hist=True, bins=30):    \n",
    "    lost = data[column].isna().sum() #смотрим количество пропусков\n",
    "    total = data.shape[0] #длина всех значений переменной\n",
    "    print('Тип данных столбца {}: {}:'.format(column, data[column].dtype))\n",
    "    print('В столбце {} пропущено {} из {} строк, что составляет {:.2%}'\n",
    "          .format(column, lost, total, lost / total)) #считаем процент пропусков\n",
    "    if quantitative:        \n",
    "        print('Минимальное значение: {}'.format(data[column].min()))\n",
    "        print('Максимальное значение: {}'.format(data[column].max()))\n",
    "        if mean:\n",
    "            print('Среднее значение: {:.2f}'.format(data[column].mean()))\n",
    "        if median:\n",
    "            print('Медианное значение: {}'.format(data[column].median()))\n",
    "        if hist:\n",
    "            fig, axs = plt.subplots(ncols=2, figsize=(15, 5))\n",
    "            sns.distplot(data[column], bins=bins, ax=axs[0])\n",
    "            sns.boxplot(data[column], ax=axs[1])            \n",
    "            plt.show()            \n",
    "    else:\n",
    "        print()\n",
    "        print('Количество значений в каждой из категорий:')\n",
    "        print(data[column].value_counts())        \n",
    "    print()"
   ]
  },
  {
   "cell_type": "code",
   "execution_count": 3,
   "metadata": {},
   "outputs": [],
   "source": [
    "df.columns = [i.lower() for i in df.columns]"
   ]
  },
  {
   "cell_type": "code",
   "execution_count": 4,
   "metadata": {},
   "outputs": [
    {
     "data": {
      "text/plain": [
       "0"
      ]
     },
     "execution_count": 4,
     "metadata": {},
     "output_type": "execute_result"
    }
   ],
   "source": [
    "df.duplicated().sum()"
   ]
  },
  {
   "cell_type": "markdown",
   "metadata": {},
   "source": [
    "Чисто на всякий случай.\n",
    "\n",
    "Зададимся вопросом: Есть ли у нас одни и те же люди, кто пользовался услугами банка несколько раз?"
   ]
  },
  {
   "cell_type": "code",
   "execution_count": 5,
   "metadata": {},
   "outputs": [
    {
     "data": {
      "text/plain": [
       "10000"
      ]
     },
     "execution_count": 5,
     "metadata": {},
     "output_type": "execute_result"
    }
   ],
   "source": [
    "len(df['customerid'].unique())"
   ]
  },
  {
   "cell_type": "markdown",
   "metadata": {},
   "source": [
    "Таких не обнаружено, а это значит, что переменная `customerid` не нужна. Едва ли вероятность ухода клиента зависит от первой буквы в фамилии.\n",
    "\n",
    "Таким образом переменнвые `RowNumber`, `customerid`, `surname` можно убрать за ненадобностью. Их роль на себя с лёгкостью берёт индекс."
   ]
  },
  {
   "cell_type": "code",
   "execution_count": 6,
   "metadata": {},
   "outputs": [
    {
     "name": "stdout",
     "output_type": "stream",
     "text": [
      "Тип данных столбца creditscore: int64:\n",
      "В столбце creditscore пропущено 0 из 10000 строк, что составляет 0.00%\n",
      "Минимальное значение: 350\n",
      "Максимальное значение: 850\n",
      "Среднее значение: 650.53\n",
      "Медианное значение: 652.0\n"
     ]
    },
    {
     "data": {
      "image/png": "[encoded data removed]",
      "text/plain": [
       "<Figure size 1080x360 with 2 Axes>"
      ]
     },
     "metadata": {
      "needs_background": "light"
     },
     "output_type": "display_data"
    },
    {
     "name": "stdout",
     "output_type": "stream",
     "text": [
      "\n"
     ]
    }
   ],
   "source": [
    "column_info(df, 'creditscore', quantitative=True)"
   ]
  },
  {
   "cell_type": "markdown",
   "metadata": {},
   "source": [
    "Распределение похоже на нормальное, все значения адекватные, так что выбросы не выбросы."
   ]
  },
  {
   "cell_type": "code",
   "execution_count": 7,
   "metadata": {},
   "outputs": [
    {
     "name": "stdout",
     "output_type": "stream",
     "text": [
      "Тип данных столбца geography: object:\n",
      "В столбце geography пропущено 0 из 10000 строк, что составляет 0.00%\n",
      "\n",
      "Количество значений в каждой из категорий:\n",
      "France     5014\n",
      "Germany    2509\n",
      "Spain      2477\n",
      "Name: geography, dtype: int64\n",
      "\n"
     ]
    }
   ],
   "source": [
    "column_info(df, 'geography')"
   ]
  },
  {
   "cell_type": "markdown",
   "metadata": {},
   "source": [
    "Всего 3 страны, для ohe самое то."
   ]
  },
  {
   "cell_type": "code",
   "execution_count": 8,
   "metadata": {},
   "outputs": [
    {
     "name": "stdout",
     "output_type": "stream",
     "text": [
      "Тип данных столбца gender: object:\n",
      "В столбце gender пропущено 0 из 10000 строк, что составляет 0.00%\n",
      "\n",
      "Количество значений в каждой из категорий:\n",
      "Male      5457\n",
      "Female    4543\n",
      "Name: gender, dtype: int64\n",
      "\n"
     ]
    }
   ],
   "source": [
    "column_info(df, 'gender') "
   ]
  },
  {
   "cell_type": "markdown",
   "metadata": {},
   "source": [
    "Всего 2 пола, малова-то по современным стандартам."
   ]
  },
  {
   "cell_type": "code",
   "execution_count": 9,
   "metadata": {},
   "outputs": [
    {
     "name": "stdout",
     "output_type": "stream",
     "text": [
      "Тип данных столбца age: int64:\n",
      "В столбце age пропущено 0 из 10000 строк, что составляет 0.00%\n",
      "Минимальное значение: 18\n",
      "Максимальное значение: 92\n",
      "Среднее значение: 38.92\n",
      "Медианное значение: 37.0\n"
     ]
    },
    {
     "data": {
      "image/png": "[encoded data removed]",
      "text/plain": [
       "<Figure size 1080x360 with 2 Axes>"
      ]
     },
     "metadata": {
      "needs_background": "light"
     },
     "output_type": "display_data"
    },
    {
     "name": "stdout",
     "output_type": "stream",
     "text": [
      "\n"
     ]
    }
   ],
   "source": [
    "column_info(df, 'age', quantitative=True, bins=30)"
   ]
  },
  {
   "cell_type": "markdown",
   "metadata": {},
   "source": [
    "Распределение похоже на нормальное, все значения адекватные, так что выбросы не выбросы."
   ]
  },
  {
   "cell_type": "code",
   "execution_count": 10,
   "metadata": {},
   "outputs": [
    {
     "name": "stdout",
     "output_type": "stream",
     "text": [
      "Тип данных столбца tenure: float64:\n",
      "В столбце tenure пропущено 909 из 10000 строк, что составляет 9.09%\n",
      "Минимальное значение: 0.0\n",
      "Максимальное значение: 10.0\n",
      "Среднее значение: 5.00\n",
      "Медианное значение: 5.0\n"
     ]
    },
    {
     "data": {
      "image/png": "[encoded data removed]",
      "text/plain": [
       "<Figure size 1080x360 with 2 Axes>"
      ]
     },
     "metadata": {
      "needs_background": "light"
     },
     "output_type": "display_data"
    },
    {
     "name": "stdout",
     "output_type": "stream",
     "text": [
      "\n"
     ]
    }
   ],
   "source": [
    "column_info(df, 'tenure', quantitative=True, bins=10)"
   ]
  },
  {
   "cell_type": "markdown",
   "metadata": {},
   "source": [
    "Значений слишком мало, чтобы говорить о характере распределения.\n",
    "\n",
    "Это единственная переменная с пропусками, заполним её медианой, чтобы потом можно было скормить её модели и перевести в тип `int`. \n",
    "\n",
    "Конечно, можно разбить выборку на категории по уровню дохода и брать медианы по категориям, но для данной задачи это может иметь минимальный эффект, поэтому пока заполним медианой по всей выборке, а если не будем получать требуемый критерий для выполнения задания, то вернёмся и заполним по категориям."
   ]
  },
  {
   "cell_type": "code",
   "execution_count": 11,
   "metadata": {},
   "outputs": [],
   "source": [
    "df['tenure'].fillna(df['tenure'].median(), inplace=True)"
   ]
  },
  {
   "cell_type": "code",
   "execution_count": 12,
   "metadata": {},
   "outputs": [
    {
     "name": "stdout",
     "output_type": "stream",
     "text": [
      "Тип данных столбца balance: float64:\n",
      "В столбце balance пропущено 0 из 10000 строк, что составляет 0.00%\n",
      "Минимальное значение: 0.0\n",
      "Максимальное значение: 250898.09\n",
      "Среднее значение: 76485.89\n",
      "Медианное значение: 97198.54000000001\n"
     ]
    },
    {
     "data": {
      "image/png": "[encoded data removed]",
      "text/plain": [
       "<Figure size 1080x360 with 2 Axes>"
      ]
     },
     "metadata": {
      "needs_background": "light"
     },
     "output_type": "display_data"
    },
    {
     "name": "stdout",
     "output_type": "stream",
     "text": [
      "\n"
     ]
    }
   ],
   "source": [
    "column_info(df, 'balance', quantitative=True, bins=10)"
   ]
  },
  {
   "cell_type": "markdown",
   "metadata": {},
   "source": [
    "Распределение было бы нормальным, если бы не большое количество 0-х значений."
   ]
  },
  {
   "cell_type": "code",
   "execution_count": 13,
   "metadata": {},
   "outputs": [
    {
     "name": "stdout",
     "output_type": "stream",
     "text": [
      "Тип данных столбца numofproducts: int64:\n",
      "В столбце numofproducts пропущено 0 из 10000 строк, что составляет 0.00%\n",
      "Минимальное значение: 1\n",
      "Максимальное значение: 4\n",
      "Среднее значение: 1.53\n",
      "Медианное значение: 1.0\n"
     ]
    },
    {
     "data": {
      "image/png": "[encoded data removed]",
      "text/plain": [
       "<Figure size 1080x360 with 2 Axes>"
      ]
     },
     "metadata": {
      "needs_background": "light"
     },
     "output_type": "display_data"
    },
    {
     "name": "stdout",
     "output_type": "stream",
     "text": [
      "\n"
     ]
    }
   ],
   "source": [
    "column_info(df, 'numofproducts', quantitative=True, bins=4)"
   ]
  },
  {
   "cell_type": "markdown",
   "metadata": {},
   "source": [
    "Тут тоже всё в порядке, по такому количеству значений нельзя сделать вывод о распределении."
   ]
  },
  {
   "cell_type": "code",
   "execution_count": 14,
   "metadata": {},
   "outputs": [
    {
     "name": "stdout",
     "output_type": "stream",
     "text": [
      "Тип данных столбца hascrcard: int64:\n",
      "В столбце hascrcard пропущено 0 из 10000 строк, что составляет 0.00%\n",
      "\n",
      "Количество значений в каждой из категорий:\n",
      "1    7055\n",
      "0    2945\n",
      "Name: hascrcard, dtype: int64\n",
      "\n"
     ]
    }
   ],
   "source": [
    "column_info(df, 'hascrcard')"
   ]
  },
  {
   "cell_type": "code",
   "execution_count": 15,
   "metadata": {},
   "outputs": [
    {
     "name": "stdout",
     "output_type": "stream",
     "text": [
      "Тип данных столбца isactivemember: int64:\n",
      "В столбце isactivemember пропущено 0 из 10000 строк, что составляет 0.00%\n",
      "\n",
      "Количество значений в каждой из категорий:\n",
      "1    5151\n",
      "0    4849\n",
      "Name: isactivemember, dtype: int64\n",
      "\n"
     ]
    }
   ],
   "source": [
    "column_info(df, 'isactivemember')"
   ]
  },
  {
   "cell_type": "code",
   "execution_count": 16,
   "metadata": {},
   "outputs": [
    {
     "name": "stdout",
     "output_type": "stream",
     "text": [
      "Тип данных столбца estimatedsalary: float64:\n",
      "В столбце estimatedsalary пропущено 0 из 10000 строк, что составляет 0.00%\n",
      "Минимальное значение: 11.58\n",
      "Максимальное значение: 199992.48\n",
      "Среднее значение: 100090.24\n",
      "Медианное значение: 100193.915\n"
     ]
    },
    {
     "data": {
      "image/png": "[encoded data removed]",
      "text/plain": [
       "<Figure size 1080x360 with 2 Axes>"
      ]
     },
     "metadata": {
      "needs_background": "light"
     },
     "output_type": "display_data"
    },
    {
     "name": "stdout",
     "output_type": "stream",
     "text": [
      "\n"
     ]
    }
   ],
   "source": [
    "column_info(df, 'estimatedsalary', quantitative=True)"
   ]
  },
  {
   "cell_type": "markdown",
   "metadata": {},
   "source": [
    "Равномерное распределение в доходах. Кажется, действие происходит не в России, и не в США и не на планете Земля."
   ]
  },
  {
   "cell_type": "code",
   "execution_count": 17,
   "metadata": {},
   "outputs": [
    {
     "name": "stdout",
     "output_type": "stream",
     "text": [
      "Тип данных столбца exited: int64:\n",
      "В столбце exited пропущено 0 из 10000 строк, что составляет 0.00%\n",
      "\n",
      "Количество значений в каждой из категорий:\n",
      "0    7963\n",
      "1    2037\n",
      "Name: exited, dtype: int64\n",
      "\n"
     ]
    }
   ],
   "source": [
    "column_info(df, 'exited')"
   ]
  },
  {
   "cell_type": "markdown",
   "metadata": {},
   "source": [
    "А вот тут уже видно, что сильного дисбаланса классов нет: подумаешь 1:4. На консультации говорили, что волноваться стоит начинать при соотношении 1:10. Но в дальнейшем мы увидим, что всё-таки перебалансировка нам поможет улучшить метрики.\n",
    "\n",
    "А есть ли у нас переменные, корреляция между которыми составляет больше 0.5?"
   ]
  },
  {
   "cell_type": "code",
   "execution_count": 18,
   "metadata": {},
   "outputs": [
    {
     "data": {
      "text/plain": [
       "rownumber          1\n",
       "customerid         1\n",
       "creditscore        1\n",
       "age                1\n",
       "tenure             1\n",
       "balance            1\n",
       "numofproducts      1\n",
       "hascrcard          1\n",
       "isactivemember     1\n",
       "estimatedsalary    1\n",
       "exited             1\n",
       "dtype: int64"
      ]
     },
     "execution_count": 18,
     "metadata": {},
     "output_type": "execute_result"
    }
   ],
   "source": [
    "df_corr = df.corr()\n",
    "df_corr[abs(df_corr) > 0.5].count()"
   ]
  },
  {
   "cell_type": "markdown",
   "metadata": {},
   "source": [
    "Всю матрицу рисовать не будем, всё равно мало что видно. А вот при такой подаче видно, что сильной корреляции (как тут называют коллинеарности) между переменными нет, так что все оставляем.\n",
    "\n",
    "Итак, выкидываем бесполезные переменные, а тип `float` переводим в `int`. Модель может не ускорим, а памяти немного сэкономии, хотя сдаётся мне, это больше эстетика."
   ]
  },
  {
   "cell_type": "code",
   "execution_count": 19,
   "metadata": {},
   "outputs": [
    {
     "name": "stdout",
     "output_type": "stream",
     "text": [
      "<class 'pandas.core.frame.DataFrame'>\n",
      "RangeIndex: 10000 entries, 0 to 9999\n",
      "Data columns (total 11 columns):\n",
      "creditscore        10000 non-null int64\n",
      "geography          10000 non-null object\n",
      "gender             10000 non-null object\n",
      "age                10000 non-null int64\n",
      "tenure             10000 non-null int64\n",
      "balance            10000 non-null int64\n",
      "numofproducts      10000 non-null int64\n",
      "hascrcard          10000 non-null int64\n",
      "isactivemember     10000 non-null int64\n",
      "estimatedsalary    10000 non-null int64\n",
      "exited             10000 non-null int64\n",
      "dtypes: int64(9), object(2)\n",
      "memory usage: 859.5+ KB\n"
     ]
    }
   ],
   "source": [
    "df.drop(['rownumber', 'customerid', 'surname'], axis=1, inplace=True)\n",
    "float_columns = ['tenure', 'balance', 'estimatedsalary']\n",
    "df[float_columns] = df[float_columns].astype(int)\n",
    "df.info()"
   ]
  },
  {
   "cell_type": "markdown",
   "metadata": {},
   "source": [
    "# 2. Исследование задачи"
   ]
  },
  {
   "cell_type": "markdown",
   "metadata": {},
   "source": [
    "Сделаем функцию, которая будет выполнять почти всю работу, предполагаемую проектом. Функция возвращает лучшую модель.\n",
    "\n",
    "- data - исследуемый DataFrame\n",
    "- tar_var - целевой признак\n",
    "- numeric - список тех переменных, которые мы признаём количественными\n",
    "- scale - нужно ли делать масштабирование\n",
    "- balanced - нужно ли в логистической регресии применять к классам пропорциональный вес\n",
    "- upsample - нужно ли перебалансировать классы добавлением меньшего класса\n",
    "- value - значение целевого класса"
   ]
  },
  {
   "cell_type": "code",
   "execution_count": 20,
   "metadata": {},
   "outputs": [],
   "source": [
    "def best_learn_categorial_model(data, tar_var, numeric, scale=False, balanced=False, upsample=False,\n",
    "                                value=1):\n",
    "    \n",
    "    print()\n",
    "    print('***Поехали!***')\n",
    "    print() \n",
    "    \n",
    "    #Масшбабируем количественные переменные\n",
    "    \n",
    "    if scale:    \n",
    "        scaler = StandardScaler()\n",
    "        scaler.fit(data[numeric])\n",
    "        data[numeric] = scaler.transform(data[numeric])    \n",
    "    print('***Масштабирование количественных переменных прошло успешно***')\n",
    "    print()\n",
    "    \n",
    "    #Интерпретируем категориальные переменные с помощью чисел ohe-методом\n",
    "    \n",
    "    df_ohe = pd.get_dummies(data, drop_first=True)\n",
    "    print('***Перевод категориальных переменных в количественные ohe-методом прошёл успешно***')\n",
    "    print()\n",
    "    \n",
    "    #Делим выбоки на переменные признаки и целевые признаки\n",
    "    \n",
    "    features = df_ohe.drop(tar_var, axis=1)\n",
    "    target = df_ohe[tar_var]\n",
    "\n",
    "    #Делим данные на тренировочную, валидационную и тестовую выборки в отношении 3:1:1\n",
    "    \n",
    "    features_train_valid, features_test, target_train_valid, target_test = (\n",
    "        train_test_split(features, target, test_size=0.2, random_state=21))\n",
    "    features_train, features_valid, target_train, target_valid = (\n",
    "        train_test_split(features_train_valid, target_train_valid, test_size=0.25, random_state=21))\n",
    "    print('Объём тренировочной выборки:', len(features_train))\n",
    "    print('Объём валидационной выборки:', len(features_valid))\n",
    "    print('Объём тестовой выборки:', len(features_test))\n",
    "    print()\n",
    "    print('***Разделение выборки на тренировочную, валидационную и тестовую прошло успешно***')\n",
    "    print()    \n",
    "    \n",
    "    #Апсемпл\n",
    "    \n",
    "    def upsample(features, target):\n",
    "        features_withoutvalue = features[target != value]\n",
    "        features_withvalue = features[target == value]\n",
    "        target_withoutvalue = target[target != value]\n",
    "        target_withvalue = target[target == value]\n",
    "        \n",
    "        print('Баланс классов в тренировочной выборке до апсемплинга:', len(features_withvalue),\n",
    "              ':', len(features_withoutvalue), '= {:.2f}'.format(len(features_withvalue) / \n",
    "                                                                 len(features_withoutvalue))) \n",
    "        print()\n",
    "        \n",
    "        repeat = round(len(features_withoutvalue) / len(features_withvalue))\n",
    "        \n",
    "        features_upsampled = pd.concat([features_withoutvalue] + [features_withvalue] * repeat)\n",
    "        target_upsampled = pd.concat([target_withoutvalue] + [target_withvalue] * repeat)\n",
    "        \n",
    "        features_upsampled_withvalue = features_upsampled[target == value]\n",
    "        features_upsampled_withoutvalue = features_upsampled[target != value]\n",
    "        \n",
    "        print('Баланс классов в тренировочной выборке после апсемплинга:', \n",
    "              len(features_upsampled_withvalue), ':', len(features_upsampled_withoutvalue),\n",
    "              '= {:.2f}'.format(len(features_upsampled_withvalue) / \n",
    "                                len(features_upsampled_withoutvalue))) \n",
    "        print()\n",
    "\n",
    "        features_upsampled, target_upsampled = shuffle(\n",
    "            features_upsampled, target_upsampled, random_state=21)\n",
    "\n",
    "        return features_upsampled, target_upsampled    \n",
    "    \n",
    "    if balanced:        \n",
    "        features_train_valid, target_train_valid = upsample(features_train_valid, target_train_valid)\n",
    "        print('***Апсэмплинг прошёл успешно***')\n",
    "        print()\n",
    "    \n",
    "    #Logistic\n",
    "    \n",
    "    if balanced:\n",
    "        model = LogisticRegression(class_weight='balanced', solver='liblinear', random_state=21)\n",
    "        model.fit(features_train, target_train)\n",
    "        predictions_valid = model.predict(features_valid)\n",
    "        f1_logistic = f1_score(target_valid, predictions_valid)        \n",
    "    else:\n",
    "        model = LogisticRegression(solver='liblinear', random_state=21)\n",
    "        model.fit(features_train, target_train)\n",
    "        predictions_valid = model.predict(features_valid)\n",
    "        f1_logistic = f1_score(target_valid, predictions_valid)\n",
    "        \n",
    "    print('***Результаты логистической модели***')   \n",
    "    probabilities_valid = model.predict_proba(features_valid)\n",
    "    probabilities_one_valid = probabilities_valid[:, 1]   \n",
    "    auc_roc_logistic = roc_auc_score(target_valid, probabilities_one_valid) \n",
    "    \n",
    "    fig = plt.subplots(figsize=(2, 4))\n",
    "    sns.barplot(x=['f1', 'roc_auc'], y=[f1_logistic, auc_roc_logistic])\n",
    "    plt.show()\n",
    "    \n",
    "    print('f1: {:.2f}'.format(f1_logistic))\n",
    "    print('roc_auc: {:.2f}'.format(auc_roc_logistic))\n",
    "    print()\n",
    "    \n",
    "    #Forest\n",
    "    \n",
    "    best_f1 = 0\n",
    "    best_depth = 1\n",
    "    best_estim = 1    \n",
    "    #Знаю, есть GridSearchCV, но говорят, он будет потом, решил пока обойтись циклами    \n",
    "    for i in range(1, 20):\n",
    "        for j in range(1, 45):\n",
    "            model = RandomForestClassifier(max_depth=i, n_estimators=j, random_state=21)\n",
    "            model.fit(features_train, target_train)\n",
    "            predictions_valid = model.predict(features_valid)\n",
    "            f1_forest = f1_score(target_valid, predictions_valid)\n",
    "            if f1_forest > best_f1:\n",
    "                best_f1 = f1_forest\n",
    "                best_depth = i\n",
    "                best_estim = j\n",
    "      \n",
    "    model = RandomForestClassifier(max_depth=best_depth, n_estimators=best_estim, random_state=21)\n",
    "    model.fit(features_train, target_train)\n",
    "    predictions_valid = model.predict(features_valid)      \n",
    "    f1_forest = f1_score(target_valid, predictions_valid)\n",
    "    \n",
    "    print('***Результаты леса***')   \n",
    "    probabilities_valid = model.predict_proba(features_valid)\n",
    "    probabilities_one_valid = probabilities_valid[:, 1]   \n",
    "    auc_roc_forest = roc_auc_score(target_valid, probabilities_one_valid) \n",
    "    \n",
    "    fig = plt.subplots(figsize=(2, 4))\n",
    "    sns.barplot(x=['f1', 'roc_auc'], y=[f1_forest, auc_roc_forest])\n",
    "    plt.show()\n",
    "    \n",
    "    print('f1: {:.2f}'.format(f1_forest))\n",
    "    print('roc_auc: {:.2f}'.format(auc_roc_forest))\n",
    "    print()\n",
    "    print('С гиперпараметрами max_depth: {:.2f} и n_estimators: {:.2f}'\n",
    "          .format(best_depth, best_estim))  \n",
    "    print() \n",
    "    \n",
    "    #Среди моделей выбираем ту, которая даёт лучший рузультат. Обучаем эту модель сразу на \n",
    "    #тренировочной и валидационной выборках.\n",
    "    \n",
    "    if f1_logistic < f1_forest:\n",
    "        print('***Лес победил. Модель учит лес***')\n",
    "        print()\n",
    "        model = RandomForestClassifier(max_depth=best_depth, n_estimators=best_estim, random_state=21)\n",
    "        model.fit(features_train_valid, target_train_valid)\n",
    "    else:   \n",
    "        print('***Логистика победила. Модель учит логистика***')\n",
    "        print()\n",
    "        if balanced:\n",
    "            model = LogisticRegression(class_weight='balanced', solver='liblinear', random_state=21)\n",
    "            model.fit(features_train_valid, target_train_valid)            \n",
    "        else:\n",
    "            model = LogisticRegression(solver='liblinear', random_state=21)\n",
    "            model.fit(features_train_valid, target_train_valid)         \n",
    "    \n",
    "    #Проверяем модель на тестовой выборке\n",
    "    \n",
    "    probabilities_test = model.predict_proba(features_test)\n",
    "    probabilities_one_test = probabilities_test[:, 1]   \n",
    "    auc_roc = roc_auc_score(target_test, probabilities_one_test)\n",
    "    predictions_test = model.predict(features_test)\n",
    "    f1 = f1_score(target_test, predictions_test)\n",
    "    \n",
    "    fig = plt.subplots(figsize=(2, 4))\n",
    "    sns.barplot(x=['f1', 'roc_auc'], y=[f1, auc_roc])\n",
    "    plt.show()\n",
    "    \n",
    "    print('***Результаты на тестовой выборке***')\n",
    "    print('f1: {:.2f}'.format(f1))\n",
    "    print('roc_auc: {:.2f}'.format(auc_roc))\n",
    "    print()\n",
    "    \n",
    "    #Насколько конфузится модель?\n",
    "    \n",
    "    print('***Матрица конфузии финальной модели:***')\n",
    "    print()\n",
    "    print(confusion_matrix(target_test, predictions_test))\n",
    "    print()\n",
    "    \n",
    "    #Проверяем модель на адекватность. Заполняем 0 и 1 в соотвествии с вероятностью их появления\n",
    "    \n",
    "    probabilities = np.bincount(target_train_valid)\n",
    "    zero_prob = probabilities[0] / (probabilities[0] + probabilities[1])\n",
    "    one_prob = probabilities[1] / (probabilities[0] + probabilities[1])\n",
    "    predictions_test = [rd.choices([0, 1], weights=[zero_prob, one_prob], \n",
    "                                   k=1)[0] for i in range(len(target_test))]\n",
    "    \n",
    "    f1_nonadeq = f1_score(target_test, predictions_test)\n",
    "    probabilities_one_valid = [one_prob for i in range(len(target_train_valid))]\n",
    "    auc_roc_nonadeq = roc_auc_score(target_train_valid, probabilities_one_valid)\n",
    "    \n",
    "    print('***Неадекватная модель***')    \n",
    "    print()\n",
    "    print('f1: {:.2f}'.format(f1_nonadeq))\n",
    "    print('roc_auc: {:.2f}'.format(auc_roc_nonadeq))\n",
    "    print()\n",
    "    print('***Сравнение неадекватной моделью с лучшей моделью***')\n",
    "    pd.DataFrame(data={'неадекватная': [f1_nonadeq, auc_roc_nonadeq], 'лучшая': [f1, auc_roc]}, \n",
    "                 index=['f1', 'roc_auc']).plot(kind='bar', figsize=(4,4))\n",
    "    plt.legend(loc=2, frameon=False)    \n",
    "    plt.show()\n",
    "    print()\n",
    "    \n",
    "    return model"
   ]
  },
  {
   "cell_type": "code",
   "execution_count": 21,
   "metadata": {
    "scrolled": false
   },
   "outputs": [
    {
     "name": "stdout",
     "output_type": "stream",
     "text": [
      "\n",
      "***Поехали!***\n",
      "\n",
      "***Масштабирование количественных переменных прошло успешно***\n",
      "\n",
      "***Перевод категориальных переменных в количественные ohe-методом прошёл успешно***\n",
      "\n",
      "Объём тренировочной выборки: 6000\n",
      "Объём валидационной выборки: 2000\n",
      "Объём тестовой выборки: 2000\n",
      "\n",
      "***Разделение выборки на тренировочную, валидационную и тестовую прошло успешно***\n",
      "\n",
      "***Результаты логистической модели***\n"
     ]
    },
    {
     "data": {
      "image/png": "[encoded data removed]",
      "text/plain": [
       "<Figure size 144x288 with 1 Axes>"
      ]
     },
     "metadata": {
      "needs_background": "light"
     },
     "output_type": "display_data"
    },
    {
     "name": "stdout",
     "output_type": "stream",
     "text": [
      "f1: 0.31\n",
      "roc_auc: 0.78\n",
      "\n",
      "***Результаты леса***\n"
     ]
    },
    {
     "data": {
      "image/png": "[encoded data removed]",
      "text/plain": [
       "<Figure size 144x288 with 1 Axes>"
      ]
     },
     "metadata": {
      "needs_background": "light"
     },
     "output_type": "display_data"
    },
    {
     "name": "stdout",
     "output_type": "stream",
     "text": [
      "f1: 0.61\n",
      "roc_auc: 0.85\n",
      "\n",
      "С гиперпараметрами max_depth: 14.00 и n_estimators: 35.00\n",
      "\n",
      "***Лес победил. Модель учит лес***\n",
      "\n"
     ]
    },
    {
     "data": {
      "image/png": "[encoded data removed]",
      "text/plain": [
       "<Figure size 144x288 with 1 Axes>"
      ]
     },
     "metadata": {
      "needs_background": "light"
     },
     "output_type": "display_data"
    },
    {
     "name": "stdout",
     "output_type": "stream",
     "text": [
      "***Результаты на тестовой выборке***\n",
      "f1: 0.58\n",
      "roc_auc: 0.85\n",
      "\n",
      "***Матрица конфузии финальной модели:***\n",
      "\n",
      "[[1547   53]\n",
      " [ 216  184]]\n",
      "\n",
      "***Неадекватная модель***\n",
      "\n",
      "f1: 0.19\n",
      "roc_auc: 0.50\n",
      "\n",
      "***Сравнение неадекватной моделью с лучшей моделью***\n"
     ]
    },
    {
     "data": {
      "image/png": "[encoded data removed]",
      "text/plain": [
       "<Figure size 288x288 with 1 Axes>"
      ]
     },
     "metadata": {
      "needs_background": "light"
     },
     "output_type": "display_data"
    },
    {
     "name": "stdout",
     "output_type": "stream",
     "text": [
      "\n"
     ]
    }
   ],
   "source": [
    "numeric = ['creditscore', 'age', 'tenure', 'balance', 'numofproducts', 'estimatedsalary']\n",
    "\n",
    "_ = best_learn_categorial_model(df, 'exited', numeric=numeric, scale=True)"
   ]
  },
  {
   "cell_type": "code",
   "execution_count": 22,
   "metadata": {
    "scrolled": false
   },
   "outputs": [
    {
     "name": "stdout",
     "output_type": "stream",
     "text": [
      "\n",
      "***Поехали!***\n",
      "\n",
      "***Масштабирование количественных переменных прошло успешно***\n",
      "\n",
      "***Перевод категориальных переменных в количественные ohe-методом прошёл успешно***\n",
      "\n",
      "Объём тренировочной выборки: 6000\n",
      "Объём валидационной выборки: 2000\n",
      "Объём тестовой выборки: 2000\n",
      "\n",
      "***Разделение выборки на тренировочную, валидационную и тестовую прошло успешно***\n",
      "\n",
      "Баланс классов в тренировочной выборке до апсемплинга: 1637 : 6363 = 0.26\n",
      "\n",
      "Баланс классов в тренировочной выборке после апсемплинга: 6548 : 6363 = 1.03\n",
      "\n",
      "***Апсэмплинг прошёл успешно***\n",
      "\n",
      "***Результаты логистической модели***\n"
     ]
    },
    {
     "name": "stderr",
     "output_type": "stream",
     "text": [
      "/opt/conda/lib/python3.7/site-packages/ipykernel_launcher.py:59: UserWarning: Boolean Series key will be reindexed to match DataFrame index.\n",
      "/opt/conda/lib/python3.7/site-packages/ipykernel_launcher.py:60: UserWarning: Boolean Series key will be reindexed to match DataFrame index.\n"
     ]
    },
    {
     "data": {
      "image/png": "[encoded data removed]",
      "text/plain": [
       "<Figure size 144x288 with 1 Axes>"
      ]
     },
     "metadata": {
      "needs_background": "light"
     },
     "output_type": "display_data"
    },
    {
     "name": "stdout",
     "output_type": "stream",
     "text": [
      "f1: 0.51\n",
      "roc_auc: 0.79\n",
      "\n",
      "***Результаты леса***\n"
     ]
    },
    {
     "data": {
      "image/png": "[encoded data removed]",
      "text/plain": [
       "<Figure size 144x288 with 1 Axes>"
      ]
     },
     "metadata": {
      "needs_background": "light"
     },
     "output_type": "display_data"
    },
    {
     "name": "stdout",
     "output_type": "stream",
     "text": [
      "f1: 0.61\n",
      "roc_auc: 0.85\n",
      "\n",
      "С гиперпараметрами max_depth: 14.00 и n_estimators: 35.00\n",
      "\n",
      "***Лес победил. Модель учит лес***\n",
      "\n"
     ]
    },
    {
     "data": {
      "image/png": "[encoded data removed]",
      "text/plain": [
       "<Figure size 144x288 with 1 Axes>"
      ]
     },
     "metadata": {
      "needs_background": "light"
     },
     "output_type": "display_data"
    },
    {
     "name": "stdout",
     "output_type": "stream",
     "text": [
      "***Результаты на тестовой выборке***\n",
      "f1: 0.60\n",
      "roc_auc: 0.84\n",
      "\n",
      "***Матрица конфузии финальной модели:***\n",
      "\n",
      "[[1432  168]\n",
      " [ 158  242]]\n",
      "\n",
      "***Неадекватная модель***\n",
      "\n",
      "f1: 0.28\n",
      "roc_auc: 0.50\n",
      "\n",
      "***Сравнение неадекватной моделью с лучшей моделью***\n"
     ]
    },
    {
     "data": {
      "image/png": "[encoded data removed]",
      "text/plain": [
       "<Figure size 288x288 with 1 Axes>"
      ]
     },
     "metadata": {
      "needs_background": "light"
     },
     "output_type": "display_data"
    },
    {
     "name": "stdout",
     "output_type": "stream",
     "text": [
      "\n"
     ]
    }
   ],
   "source": [
    "_ = best_learn_categorial_model(df, 'exited', numeric=numeric, balanced=True, scale=True)"
   ]
  },
  {
   "cell_type": "markdown",
   "metadata": {},
   "source": [
    "**Вывод про перебалансировку** С одной стороны плохо, что таким подходом можно повысить количество целевых строк только в целое количество раз (по одному добавлять сложно, так как нужно учитывать такие строки уже попали в новую таблицу), а с другой стороны, что это за дисбаланс классов, когда целыми числами нельзя устранить баланс.\n",
    "\n",
    "Почему, я думаю, что почти всегда нужно предпочесть апсемплинг даунсемплингу? Потому что когда мы удаляем, то теряем реальные данные, на которых модель может учиться, а вот когда добавляем уже имеющиеся данные, то по-сути информауия остаётся прежней, просто мы повышаем значимость того или иного класса."
   ]
  },
  {
   "cell_type": "markdown",
   "metadata": {},
   "source": [
    "# 3. Вывод"
   ]
  },
  {
   "cell_type": "code",
   "execution_count": 64,
   "metadata": {},
   "outputs": [
    {
     "data": {
      "text/html": [
       "<div>\n",
       "<style scoped>\n",
       "    .dataframe tbody tr th:only-of-type {\n",
       "        vertical-align: middle;\n",
       "    }\n",
       "\n",
       "    .dataframe tbody tr th {\n",
       "        vertical-align: top;\n",
       "    }\n",
       "\n",
       "    .dataframe thead th {\n",
       "        text-align: right;\n",
       "    }\n",
       "</style>\n",
       "<table border=\"1\" class=\"dataframe\">\n",
       "  <thead>\n",
       "    <tr style=\"text-align: right;\">\n",
       "      <th></th>\n",
       "      <th></th>\n",
       "      <th>unbalanced</th>\n",
       "      <th>balanced</th>\n",
       "    </tr>\n",
       "    <tr>\n",
       "      <th>model</th>\n",
       "      <th>metrics</th>\n",
       "      <th></th>\n",
       "      <th></th>\n",
       "    </tr>\n",
       "  </thead>\n",
       "  <tbody>\n",
       "    <tr>\n",
       "      <td rowspan=\"2\" valign=\"top\">logistic</td>\n",
       "      <td>f1</td>\n",
       "      <td>0.31</td>\n",
       "      <td>0.51</td>\n",
       "    </tr>\n",
       "    <tr>\n",
       "      <td>roc_auc</td>\n",
       "      <td>0.78</td>\n",
       "      <td>0.79</td>\n",
       "    </tr>\n",
       "    <tr>\n",
       "      <td rowspan=\"2\" valign=\"top\">forest</td>\n",
       "      <td>f1</td>\n",
       "      <td>0.58</td>\n",
       "      <td>0.60</td>\n",
       "    </tr>\n",
       "    <tr>\n",
       "      <td>roc_auc</td>\n",
       "      <td>0.85</td>\n",
       "      <td>0.84</td>\n",
       "    </tr>\n",
       "    <tr>\n",
       "      <td rowspan=\"2\" valign=\"top\">random</td>\n",
       "      <td>f1</td>\n",
       "      <td>0.19</td>\n",
       "      <td>0.28</td>\n",
       "    </tr>\n",
       "    <tr>\n",
       "      <td>roc_auc</td>\n",
       "      <td>0.50</td>\n",
       "      <td>0.50</td>\n",
       "    </tr>\n",
       "  </tbody>\n",
       "</table>\n",
       "</div>"
      ],
      "text/plain": [
       "                  unbalanced  balanced\n",
       "model    metrics                      \n",
       "logistic f1             0.31      0.51\n",
       "         roc_auc        0.78      0.79\n",
       "forest   f1             0.58      0.60\n",
       "         roc_auc        0.85      0.84\n",
       "random   f1             0.19      0.28\n",
       "         roc_auc        0.50      0.50"
      ]
     },
     "execution_count": 64,
     "metadata": {},
     "output_type": "execute_result"
    }
   ],
   "source": [
    "(pd.DataFrame(data={'unbalanced': [0.31, 0.78, 0.58, 0.85, 0.19, 0.5], \n",
    "                   'balanced': [0.51, 0.79, 0.6, 0.84, 0.28, 0.5], \n",
    "                   'model': ['logistic', 'logistic', 'forest', 'forest', 'random', 'random'], \n",
    "                   'metrics': ['f1', 'roc_auc', 'f1', 'roc_auc', 'f1', 'roc_auc'] })\n",
    "                   .set_index(['model', 'metrics'])\n",
    ")"
   ]
  },
  {
   "cell_type": "code",
   "execution_count": 63,
   "metadata": {},
   "outputs": [
    {
     "data": {
      "image/png": "[encoded data removed]",
      "text/plain": [
       "<Figure size 1080x360 with 2 Axes>"
      ]
     },
     "metadata": {
      "needs_background": "light"
     },
     "output_type": "display_data"
    }
   ],
   "source": [
    "fig, axs = plt.subplots(ncols=2, figsize=(15, 5))\n",
    "(pd.DataFrame(data={'unbalanced': [0.31, 0.58, 0.19], \n",
    "                    'balanced': [0.51, 0.6, 0.28]}, index = ['logistic', 'forest', 'random'])\n",
    "                    .sort_values(by='balanced', ascending=False)\n",
    "                    .plot(kind='bar', title='метрика f1', ax=axs[0])\n",
    ")\n",
    "(pd.DataFrame(data={'unbalanced': [0.78, 0.85, 0.5], \n",
    "                    'balanced': [0.79, 0.84, 0.5]}, index = ['logistic', 'forest', 'random'])\n",
    "                    .sort_values(by='balanced', ascending=False)\n",
    "                    .plot(kind='bar', title='метрика roc_auc', ax=axs[1])\n",
    ")\n",
    "plt.show()"
   ]
  },
  {
   "cell_type": "markdown",
   "metadata": {},
   "source": [
    "Результат по метрике f1 превзошёл пороговый 0.59.\n",
    "\n",
    "Лес выигрывает у логистики по метрикам, что ожидаемо. Зато логистика работает гораздо быстрее. Обе модели значительно превзошли случайную модель, и, тем самым, прошли тест на адекватность.\n",
    "\n",
    "Балансировка в большей степени влияет на метрику f1, отсюда вывод, что roc_auc больше подходит для несбалансированных классов.\n",
    "\n",
    "Каждый подход внёс вклад в улучшение метрик: ohe (без него бы вообще ничего не запустилось), масштабирование (наибольший импакт) и балансировка классов (показала заметный прирост только для логистики).\n",
    "\n",
    "Для бизнеса: Модель показала себя достаточно успешной и может быть рекомендована для прогнозирования оттока клиентов из банка. Превосходство случайно модели ровно в 2 раза.\n"
   ]
  }
 ],
 "metadata": {
  "kernelspec": {
   "display_name": "Python 3",
   "language": "python",
   "name": "python3"
  },
  "language_info": {
   "codemirror_mode": {
    "name": "ipython",
    "version": 3
   },
   "file_extension": ".py",
   "mimetype": "text/x-python",
   "name": "python",
   "nbconvert_exporter": "python",
   "pygments_lexer": "ipython3",
   "version": "3.7.6"
  }
 },
 "nbformat": 4,
 "nbformat_minor": 2
}
