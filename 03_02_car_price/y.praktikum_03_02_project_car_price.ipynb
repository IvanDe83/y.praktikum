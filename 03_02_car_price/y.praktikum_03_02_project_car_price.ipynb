{
 "cells": [
  {
   "cell_type": "markdown",
   "metadata": {},
   "source": [
    "Сервис по продаже автомобилей с пробегом «Не бит, не крашен» разрабатывает приложение для привлечения новых клиентов. В нём можно быстро узнать рыночную стоимость своего автомобиля. В вашем распоряжении исторические данные: технические характеристики, комплектации и цены автомобилей. Вам нужно построить модель для определения стоимости. \n",
    "\n",
    "Заказчику важны:\n",
    "\n",
    "- качество предсказания;\n",
    "- скорость предсказания;\n",
    "- время обучения.\n",
    "\n",
    "План работ:\n",
    "\n",
    "- 1. [Анализ данных](#the_destination01)\n",
    "- 2. [Подготавливаем к обучению](#the_destination02)\n",
    "- 3. [Обучение](#the_destination03)\n",
    "    - 3.1 [LightGBM](#the_destination04)\n",
    "    - 3.2 [CLF](#the_destination05)\n",
    "    - 3.3 [REG](#the_destination06)\n",
    "    - 3.4 [Dummy](#the_destination07)\n",
    "- 4. [Вывод](#the_destination08)"
   ]
  },
  {
   "cell_type": "markdown",
   "metadata": {},
   "source": [
    "# 1. Анализ данных<a id='the_destination01'></a>"
   ]
  },
  {
   "cell_type": "code",
   "execution_count": 246,
   "metadata": {},
   "outputs": [],
   "source": [
    "import pandas as pd\n",
    "import numpy as np\n",
    "\n",
    "import matplotlib.pyplot as plt\n",
    "import seaborn as sns\n",
    "import time\n",
    "\n",
    "from sklearn.dummy import DummyRegressor\n",
    "from sklearn.ensemble import GradientBoostingRegressor\n",
    "from sklearn.linear_model import LinearRegression\n",
    "from sklearn.metrics import mean_squared_error, make_scorer\n",
    "from sklearn.model_selection import GridSearchCV, train_test_split\n",
    "from sklearn.preprocessing import MinMaxScaler, OrdinalEncoder, StandardScaler\n",
    "\n",
    "from lightgbm import LGBMRegressor\n",
    "\n",
    "df = pd.read_csv('/datasets/autos.csv')\n",
    "state = np.random.RandomState(21)\n",
    "\n",
    "np.set_printoptions(precision=3)\n",
    "sns.set()"
   ]
  },
  {
   "cell_type": "markdown",
   "metadata": {},
   "source": [
    "Функция `column_info` показывает информацию по столбцу."
   ]
  },
  {
   "cell_type": "code",
   "execution_count": 247,
   "metadata": {},
   "outputs": [],
   "source": [
    "def column_info(data, column, quantitative=False, mean=True, median=True, hist=True, bins=50):    \n",
    "    lost = data[column].isna().sum() #смотрим количество пропусков\n",
    "    total = data.shape[0] #длина всех значений переменной\n",
    "    print()\n",
    "    print('*** Информация по столбцу {} ***'.format(column))\n",
    "    print()\n",
    "    print('Тип данных столбца {}: {}:'.format(column, data[column].dtype))\n",
    "    print('В столбце {} пропущено {} из {} строк, что составляет {:.2%}'\n",
    "          .format(column, lost, total, lost / total)) #считаем процент пропусков\n",
    "    if quantitative:        \n",
    "        print('Минимальное значение: {:.2f}'.format(data[column].min()))\n",
    "        print('Максимальное значение: {:.2f}'.format(data[column].max()))\n",
    "        if mean:\n",
    "            print('Среднее значение: {:.2f}'.format(data[column].mean()))\n",
    "        if median:\n",
    "            print('Медианное значение: {:.2f}'.format(data[column].median()))\n",
    "        if hist:\n",
    "            gridsize = (5, 1)\n",
    "            fig = plt.figure(figsize=(15, 5))\n",
    "            ax1 = plt.subplot2grid(gridsize, (0, 0))\n",
    "            ax2 = plt.subplot2grid(gridsize, (1, 0), rowspan=4)                       \n",
    "            sns.boxplot(data[column], ax=ax1)            \n",
    "            sns.distplot(data[column], kde=False, bins=bins, ax=ax2)            \n",
    "            ax1.get_xaxis().set_visible(False)            \n",
    "            plt.show()                        \n",
    "    else:\n",
    "        print()\n",
    "        print('Количество значений в каждой из категорий:')\n",
    "        print(data[column].value_counts())        \n",
    "    print()"
   ]
  },
  {
   "cell_type": "markdown",
   "metadata": {},
   "source": [
    "Функция `bar_chart` отображает информацию в виде баров в минималистичном виде."
   ]
  },
  {
   "cell_type": "code",
   "execution_count": 248,
   "metadata": {},
   "outputs": [],
   "source": [
    "def bar_chart(array, column_names, title, color='mediumseagreen', figsize=(6,4)):\n",
    "    plt.figure(figsize=figsize)    \n",
    "    n = len(array)\n",
    "    \n",
    "    bars = plt.bar(np.arange(n), array, color=color)\n",
    "    \n",
    "    for bar in bars:\n",
    "        height = bar.get_height()\n",
    "        plt.gca().text(bar.get_x() + bar.get_width()/2, height*.90, '{0:.{1}f}'.format(height, 2), \n",
    "                     ha='center', color='black', fontsize=11)\n",
    "\n",
    "    plt.tick_params(which='both', bottom=False, top=False, left=False, right=False, labelbottom=True) \n",
    "    \n",
    "    for spine in plt.gca().spines.values():\n",
    "        spine.set_visible(False)\n",
    "\n",
    "    plt.xticks(range(n), column_names, alpha=0.8);\n",
    "    plt.title(title, alpha=0.8)"
   ]
  },
  {
   "cell_type": "markdown",
   "metadata": {},
   "source": [
    "Функция `wise_fillna` заполняет nan средним или медианой по соотвествующим категориям из другого выбранного столбца."
   ]
  },
  {
   "cell_type": "code",
   "execution_count": 249,
   "metadata": {},
   "outputs": [],
   "source": [
    "def wise_fillna(data, column_out, column_in, quantitative=False, mean=True):\n",
    "    if quantitative:\n",
    "        if mean:            \n",
    "            for i in data[column_in].unique():\n",
    "                mean = data.loc[data[column_in]==i, column_out].mean()\n",
    "                data.loc[data[column_in]==i, column_out] = data.loc[data[column_in]==i, column_out].fillna(mean)\n",
    "            data[column_out] = data[column_out].fillna(data[column_out].mean())  \n",
    "        else:\n",
    "            for i in data[column_in].unique():\n",
    "                median = data.loc[data[column_in]==i, column_out].median()\n",
    "                data.loc[data[column_in]==i, column_out] = data.loc[data[column_in]==i, column_out].fillna(median)\n",
    "            data[column_out] = data[column_out].fillna(data[column_out].median())\n",
    "    else:    \n",
    "        for i in data[column_in].unique():\n",
    "            most_freq = data.loc[data[column_in]==i, column_out].value_counts().index[0]\n",
    "            data.loc[data[column_in]==i, column_out] = data.loc[data[column_in]==i, column_out].fillna(most_freq)"
   ]
  },
  {
   "cell_type": "code",
   "execution_count": 250,
   "metadata": {},
   "outputs": [],
   "source": [
    "df.columns = [i.lower() for i in df.columns]"
   ]
  },
  {
   "cell_type": "markdown",
   "metadata": {},
   "source": [
    "Смотрим глазами. Всё норм, есть nan-ы, куда без них."
   ]
  },
  {
   "cell_type": "code",
   "execution_count": 251,
   "metadata": {},
   "outputs": [
    {
     "data": {
      "text/html": [
       "<div>\n",
       "<style scoped>\n",
       "    .dataframe tbody tr th:only-of-type {\n",
       "        vertical-align: middle;\n",
       "    }\n",
       "\n",
       "    .dataframe tbody tr th {\n",
       "        vertical-align: top;\n",
       "    }\n",
       "\n",
       "    .dataframe thead th {\n",
       "        text-align: right;\n",
       "    }\n",
       "</style>\n",
       "<table border=\"1\" class=\"dataframe\">\n",
       "  <thead>\n",
       "    <tr style=\"text-align: right;\">\n",
       "      <th></th>\n",
       "      <th>datecrawled</th>\n",
       "      <th>price</th>\n",
       "      <th>vehicletype</th>\n",
       "      <th>registrationyear</th>\n",
       "      <th>gearbox</th>\n",
       "      <th>power</th>\n",
       "      <th>model</th>\n",
       "      <th>kilometer</th>\n",
       "      <th>registrationmonth</th>\n",
       "      <th>fueltype</th>\n",
       "      <th>brand</th>\n",
       "      <th>notrepaired</th>\n",
       "      <th>datecreated</th>\n",
       "      <th>numberofpictures</th>\n",
       "      <th>postalcode</th>\n",
       "      <th>lastseen</th>\n",
       "    </tr>\n",
       "  </thead>\n",
       "  <tbody>\n",
       "    <tr>\n",
       "      <td>229435</td>\n",
       "      <td>2016-03-20 22:39:34</td>\n",
       "      <td>7399</td>\n",
       "      <td>coupe</td>\n",
       "      <td>2000</td>\n",
       "      <td>manual</td>\n",
       "      <td>193</td>\n",
       "      <td>3er</td>\n",
       "      <td>150000</td>\n",
       "      <td>4</td>\n",
       "      <td>petrol</td>\n",
       "      <td>bmw</td>\n",
       "      <td>no</td>\n",
       "      <td>2016-03-20 00:00:00</td>\n",
       "      <td>0</td>\n",
       "      <td>44575</td>\n",
       "      <td>2016-04-01 11:44:37</td>\n",
       "    </tr>\n",
       "    <tr>\n",
       "      <td>287627</td>\n",
       "      <td>2016-03-30 16:53:47</td>\n",
       "      <td>6999</td>\n",
       "      <td>wagon</td>\n",
       "      <td>2007</td>\n",
       "      <td>manual</td>\n",
       "      <td>140</td>\n",
       "      <td>passat</td>\n",
       "      <td>150000</td>\n",
       "      <td>1</td>\n",
       "      <td>gasoline</td>\n",
       "      <td>volkswagen</td>\n",
       "      <td>no</td>\n",
       "      <td>2016-03-30 00:00:00</td>\n",
       "      <td>0</td>\n",
       "      <td>30419</td>\n",
       "      <td>2016-04-07 08:16:42</td>\n",
       "    </tr>\n",
       "    <tr>\n",
       "      <td>147772</td>\n",
       "      <td>2016-03-18 17:06:42</td>\n",
       "      <td>14200</td>\n",
       "      <td>suv</td>\n",
       "      <td>2006</td>\n",
       "      <td>auto</td>\n",
       "      <td>0</td>\n",
       "      <td>q7</td>\n",
       "      <td>150000</td>\n",
       "      <td>9</td>\n",
       "      <td>gasoline</td>\n",
       "      <td>audi</td>\n",
       "      <td>no</td>\n",
       "      <td>2016-03-18 00:00:00</td>\n",
       "      <td>0</td>\n",
       "      <td>56070</td>\n",
       "      <td>2016-03-23 18:16:16</td>\n",
       "    </tr>\n",
       "    <tr>\n",
       "      <td>304671</td>\n",
       "      <td>2016-03-07 15:53:22</td>\n",
       "      <td>3800</td>\n",
       "      <td>other</td>\n",
       "      <td>2004</td>\n",
       "      <td>manual</td>\n",
       "      <td>136</td>\n",
       "      <td>other</td>\n",
       "      <td>5000</td>\n",
       "      <td>0</td>\n",
       "      <td>gasoline</td>\n",
       "      <td>peugeot</td>\n",
       "      <td>NaN</td>\n",
       "      <td>2016-03-07 00:00:00</td>\n",
       "      <td>0</td>\n",
       "      <td>60389</td>\n",
       "      <td>2016-04-05 19:44:40</td>\n",
       "    </tr>\n",
       "    <tr>\n",
       "      <td>72292</td>\n",
       "      <td>2016-03-09 22:49:57</td>\n",
       "      <td>1800</td>\n",
       "      <td>sedan</td>\n",
       "      <td>2001</td>\n",
       "      <td>auto</td>\n",
       "      <td>101</td>\n",
       "      <td>focus</td>\n",
       "      <td>80000</td>\n",
       "      <td>1</td>\n",
       "      <td>petrol</td>\n",
       "      <td>ford</td>\n",
       "      <td>NaN</td>\n",
       "      <td>2016-03-09 00:00:00</td>\n",
       "      <td>0</td>\n",
       "      <td>45144</td>\n",
       "      <td>2016-03-10 09:44:15</td>\n",
       "    </tr>\n",
       "    <tr>\n",
       "      <td>20677</td>\n",
       "      <td>2016-03-09 14:52:39</td>\n",
       "      <td>6399</td>\n",
       "      <td>wagon</td>\n",
       "      <td>2005</td>\n",
       "      <td>manual</td>\n",
       "      <td>150</td>\n",
       "      <td>3er</td>\n",
       "      <td>150000</td>\n",
       "      <td>11</td>\n",
       "      <td>petrol</td>\n",
       "      <td>bmw</td>\n",
       "      <td>no</td>\n",
       "      <td>2016-03-09 00:00:00</td>\n",
       "      <td>0</td>\n",
       "      <td>48703</td>\n",
       "      <td>2016-03-12 13:45:12</td>\n",
       "    </tr>\n",
       "    <tr>\n",
       "      <td>282600</td>\n",
       "      <td>2016-03-23 12:49:48</td>\n",
       "      <td>400</td>\n",
       "      <td>sedan</td>\n",
       "      <td>1995</td>\n",
       "      <td>NaN</td>\n",
       "      <td>0</td>\n",
       "      <td>golf</td>\n",
       "      <td>60000</td>\n",
       "      <td>11</td>\n",
       "      <td>petrol</td>\n",
       "      <td>volkswagen</td>\n",
       "      <td>yes</td>\n",
       "      <td>2016-03-23 00:00:00</td>\n",
       "      <td>0</td>\n",
       "      <td>13055</td>\n",
       "      <td>2016-04-05 12:45:06</td>\n",
       "    </tr>\n",
       "    <tr>\n",
       "      <td>48662</td>\n",
       "      <td>2016-03-24 13:56:21</td>\n",
       "      <td>14990</td>\n",
       "      <td>coupe</td>\n",
       "      <td>1974</td>\n",
       "      <td>auto</td>\n",
       "      <td>185</td>\n",
       "      <td>other</td>\n",
       "      <td>150000</td>\n",
       "      <td>10</td>\n",
       "      <td>petrol</td>\n",
       "      <td>mercedes_benz</td>\n",
       "      <td>no</td>\n",
       "      <td>2016-03-24 00:00:00</td>\n",
       "      <td>0</td>\n",
       "      <td>72379</td>\n",
       "      <td>2016-04-07 05:46:38</td>\n",
       "    </tr>\n",
       "    <tr>\n",
       "      <td>341088</td>\n",
       "      <td>2016-03-25 22:51:20</td>\n",
       "      <td>3500</td>\n",
       "      <td>sedan</td>\n",
       "      <td>1991</td>\n",
       "      <td>manual</td>\n",
       "      <td>150</td>\n",
       "      <td>3er</td>\n",
       "      <td>150000</td>\n",
       "      <td>10</td>\n",
       "      <td>petrol</td>\n",
       "      <td>bmw</td>\n",
       "      <td>no</td>\n",
       "      <td>2016-03-25 00:00:00</td>\n",
       "      <td>0</td>\n",
       "      <td>27574</td>\n",
       "      <td>2016-04-05 12:44:52</td>\n",
       "    </tr>\n",
       "    <tr>\n",
       "      <td>245084</td>\n",
       "      <td>2016-03-14 15:47:21</td>\n",
       "      <td>2500</td>\n",
       "      <td>wagon</td>\n",
       "      <td>2003</td>\n",
       "      <td>manual</td>\n",
       "      <td>163</td>\n",
       "      <td>a4</td>\n",
       "      <td>150000</td>\n",
       "      <td>10</td>\n",
       "      <td>gasoline</td>\n",
       "      <td>audi</td>\n",
       "      <td>no</td>\n",
       "      <td>2016-03-14 00:00:00</td>\n",
       "      <td>0</td>\n",
       "      <td>21266</td>\n",
       "      <td>2016-03-26 09:17:04</td>\n",
       "    </tr>\n",
       "  </tbody>\n",
       "</table>\n",
       "</div>"
      ],
      "text/plain": [
       "                datecrawled  price vehicletype  registrationyear gearbox  \\\n",
       "229435  2016-03-20 22:39:34   7399       coupe              2000  manual   \n",
       "287627  2016-03-30 16:53:47   6999       wagon              2007  manual   \n",
       "147772  2016-03-18 17:06:42  14200         suv              2006    auto   \n",
       "304671  2016-03-07 15:53:22   3800       other              2004  manual   \n",
       "72292   2016-03-09 22:49:57   1800       sedan              2001    auto   \n",
       "20677   2016-03-09 14:52:39   6399       wagon              2005  manual   \n",
       "282600  2016-03-23 12:49:48    400       sedan              1995     NaN   \n",
       "48662   2016-03-24 13:56:21  14990       coupe              1974    auto   \n",
       "341088  2016-03-25 22:51:20   3500       sedan              1991  manual   \n",
       "245084  2016-03-14 15:47:21   2500       wagon              2003  manual   \n",
       "\n",
       "        power   model  kilometer  registrationmonth  fueltype          brand  \\\n",
       "229435    193     3er     150000                  4    petrol            bmw   \n",
       "287627    140  passat     150000                  1  gasoline     volkswagen   \n",
       "147772      0      q7     150000                  9  gasoline           audi   \n",
       "304671    136   other       5000                  0  gasoline        peugeot   \n",
       "72292     101   focus      80000                  1    petrol           ford   \n",
       "20677     150     3er     150000                 11    petrol            bmw   \n",
       "282600      0    golf      60000                 11    petrol     volkswagen   \n",
       "48662     185   other     150000                 10    petrol  mercedes_benz   \n",
       "341088    150     3er     150000                 10    petrol            bmw   \n",
       "245084    163      a4     150000                 10  gasoline           audi   \n",
       "\n",
       "       notrepaired          datecreated  numberofpictures  postalcode  \\\n",
       "229435          no  2016-03-20 00:00:00                 0       44575   \n",
       "287627          no  2016-03-30 00:00:00                 0       30419   \n",
       "147772          no  2016-03-18 00:00:00                 0       56070   \n",
       "304671         NaN  2016-03-07 00:00:00                 0       60389   \n",
       "72292          NaN  2016-03-09 00:00:00                 0       45144   \n",
       "20677           no  2016-03-09 00:00:00                 0       48703   \n",
       "282600         yes  2016-03-23 00:00:00                 0       13055   \n",
       "48662           no  2016-03-24 00:00:00                 0       72379   \n",
       "341088          no  2016-03-25 00:00:00                 0       27574   \n",
       "245084          no  2016-03-14 00:00:00                 0       21266   \n",
       "\n",
       "                   lastseen  \n",
       "229435  2016-04-01 11:44:37  \n",
       "287627  2016-04-07 08:16:42  \n",
       "147772  2016-03-23 18:16:16  \n",
       "304671  2016-04-05 19:44:40  \n",
       "72292   2016-03-10 09:44:15  \n",
       "20677   2016-03-12 13:45:12  \n",
       "282600  2016-04-05 12:45:06  \n",
       "48662   2016-04-07 05:46:38  \n",
       "341088  2016-04-05 12:44:52  \n",
       "245084  2016-03-26 09:17:04  "
      ]
     },
     "execution_count": 251,
     "metadata": {},
     "output_type": "execute_result"
    }
   ],
   "source": [
    "df.sample(n=10, random_state=state)"
   ]
  },
  {
   "cell_type": "markdown",
   "metadata": {},
   "source": [
    "Смотрим, где ждать nan-ы."
   ]
  },
  {
   "cell_type": "code",
   "execution_count": 252,
   "metadata": {},
   "outputs": [
    {
     "data": {
      "text/plain": [
       "datecrawled              0\n",
       "price                    0\n",
       "vehicletype          37490\n",
       "registrationyear         0\n",
       "gearbox              19833\n",
       "power                    0\n",
       "model                19705\n",
       "kilometer                0\n",
       "registrationmonth        0\n",
       "fueltype             32895\n",
       "brand                    0\n",
       "notrepaired          71154\n",
       "datecreated              0\n",
       "numberofpictures         0\n",
       "postalcode               0\n",
       "lastseen                 0\n",
       "dtype: int64"
      ]
     },
     "execution_count": 252,
     "metadata": {},
     "output_type": "execute_result"
    }
   ],
   "source": [
    "df.isna().sum()"
   ]
  },
  {
   "cell_type": "markdown",
   "metadata": {},
   "source": [
    "`datecrawled` - дата и время, когда были просканированы данные. Нам такое не нужно."
   ]
  },
  {
   "cell_type": "code",
   "execution_count": 253,
   "metadata": {},
   "outputs": [],
   "source": [
    "df.drop('datecrawled', axis=1, inplace=True)"
   ]
  },
  {
   "cell_type": "markdown",
   "metadata": {},
   "source": [
    "Смотрим глазами на строки с аномально низкими ценами. Не видим ничего особенного."
   ]
  },
  {
   "cell_type": "code",
   "execution_count": 254,
   "metadata": {},
   "outputs": [
    {
     "data": {
      "text/html": [
       "<div>\n",
       "<style scoped>\n",
       "    .dataframe tbody tr th:only-of-type {\n",
       "        vertical-align: middle;\n",
       "    }\n",
       "\n",
       "    .dataframe tbody tr th {\n",
       "        vertical-align: top;\n",
       "    }\n",
       "\n",
       "    .dataframe thead th {\n",
       "        text-align: right;\n",
       "    }\n",
       "</style>\n",
       "<table border=\"1\" class=\"dataframe\">\n",
       "  <thead>\n",
       "    <tr style=\"text-align: right;\">\n",
       "      <th></th>\n",
       "      <th>price</th>\n",
       "      <th>vehicletype</th>\n",
       "      <th>registrationyear</th>\n",
       "      <th>gearbox</th>\n",
       "      <th>power</th>\n",
       "      <th>model</th>\n",
       "      <th>kilometer</th>\n",
       "      <th>registrationmonth</th>\n",
       "      <th>fueltype</th>\n",
       "      <th>brand</th>\n",
       "      <th>notrepaired</th>\n",
       "      <th>datecreated</th>\n",
       "      <th>numberofpictures</th>\n",
       "      <th>postalcode</th>\n",
       "      <th>lastseen</th>\n",
       "    </tr>\n",
       "  </thead>\n",
       "  <tbody>\n",
       "    <tr>\n",
       "      <td>135104</td>\n",
       "      <td>0</td>\n",
       "      <td>NaN</td>\n",
       "      <td>1990</td>\n",
       "      <td>manual</td>\n",
       "      <td>0</td>\n",
       "      <td>NaN</td>\n",
       "      <td>80000</td>\n",
       "      <td>3</td>\n",
       "      <td>NaN</td>\n",
       "      <td>trabant</td>\n",
       "      <td>NaN</td>\n",
       "      <td>2016-03-29 00:00:00</td>\n",
       "      <td>0</td>\n",
       "      <td>58802</td>\n",
       "      <td>2016-04-06 04:45:48</td>\n",
       "    </tr>\n",
       "    <tr>\n",
       "      <td>221803</td>\n",
       "      <td>0</td>\n",
       "      <td>NaN</td>\n",
       "      <td>2016</td>\n",
       "      <td>manual</td>\n",
       "      <td>150</td>\n",
       "      <td>astra</td>\n",
       "      <td>150000</td>\n",
       "      <td>9</td>\n",
       "      <td>gasoline</td>\n",
       "      <td>opel</td>\n",
       "      <td>NaN</td>\n",
       "      <td>2016-04-03 00:00:00</td>\n",
       "      <td>0</td>\n",
       "      <td>26427</td>\n",
       "      <td>2016-04-03 20:57:22</td>\n",
       "    </tr>\n",
       "    <tr>\n",
       "      <td>179234</td>\n",
       "      <td>0</td>\n",
       "      <td>small</td>\n",
       "      <td>1998</td>\n",
       "      <td>manual</td>\n",
       "      <td>54</td>\n",
       "      <td>corsa</td>\n",
       "      <td>150000</td>\n",
       "      <td>0</td>\n",
       "      <td>NaN</td>\n",
       "      <td>opel</td>\n",
       "      <td>NaN</td>\n",
       "      <td>2016-03-28 00:00:00</td>\n",
       "      <td>0</td>\n",
       "      <td>42555</td>\n",
       "      <td>2016-04-04 19:47:06</td>\n",
       "    </tr>\n",
       "    <tr>\n",
       "      <td>15361</td>\n",
       "      <td>0</td>\n",
       "      <td>wagon</td>\n",
       "      <td>1995</td>\n",
       "      <td>manual</td>\n",
       "      <td>116</td>\n",
       "      <td>3er</td>\n",
       "      <td>150000</td>\n",
       "      <td>11</td>\n",
       "      <td>petrol</td>\n",
       "      <td>bmw</td>\n",
       "      <td>NaN</td>\n",
       "      <td>2016-03-19 00:00:00</td>\n",
       "      <td>0</td>\n",
       "      <td>4924</td>\n",
       "      <td>2016-04-06 13:17:12</td>\n",
       "    </tr>\n",
       "    <tr>\n",
       "      <td>210004</td>\n",
       "      <td>0</td>\n",
       "      <td>convertible</td>\n",
       "      <td>2001</td>\n",
       "      <td>manual</td>\n",
       "      <td>101</td>\n",
       "      <td>NaN</td>\n",
       "      <td>150000</td>\n",
       "      <td>2</td>\n",
       "      <td>petrol</td>\n",
       "      <td>opel</td>\n",
       "      <td>no</td>\n",
       "      <td>2016-03-17 00:00:00</td>\n",
       "      <td>0</td>\n",
       "      <td>49477</td>\n",
       "      <td>2016-03-19 11:16:27</td>\n",
       "    </tr>\n",
       "    <tr>\n",
       "      <td>336877</td>\n",
       "      <td>0</td>\n",
       "      <td>NaN</td>\n",
       "      <td>2000</td>\n",
       "      <td>NaN</td>\n",
       "      <td>0</td>\n",
       "      <td>arosa</td>\n",
       "      <td>150000</td>\n",
       "      <td>0</td>\n",
       "      <td>NaN</td>\n",
       "      <td>seat</td>\n",
       "      <td>NaN</td>\n",
       "      <td>2016-03-10 00:00:00</td>\n",
       "      <td>0</td>\n",
       "      <td>74363</td>\n",
       "      <td>2016-03-11 12:47:52</td>\n",
       "    </tr>\n",
       "    <tr>\n",
       "      <td>32395</td>\n",
       "      <td>0</td>\n",
       "      <td>other</td>\n",
       "      <td>1991</td>\n",
       "      <td>auto</td>\n",
       "      <td>0</td>\n",
       "      <td>NaN</td>\n",
       "      <td>30000</td>\n",
       "      <td>0</td>\n",
       "      <td>NaN</td>\n",
       "      <td>sonstige_autos</td>\n",
       "      <td>yes</td>\n",
       "      <td>2016-03-20 00:00:00</td>\n",
       "      <td>0</td>\n",
       "      <td>31812</td>\n",
       "      <td>2016-03-23 22:47:22</td>\n",
       "    </tr>\n",
       "    <tr>\n",
       "      <td>78274</td>\n",
       "      <td>20</td>\n",
       "      <td>NaN</td>\n",
       "      <td>1995</td>\n",
       "      <td>NaN</td>\n",
       "      <td>0</td>\n",
       "      <td>80</td>\n",
       "      <td>5000</td>\n",
       "      <td>0</td>\n",
       "      <td>NaN</td>\n",
       "      <td>audi</td>\n",
       "      <td>NaN</td>\n",
       "      <td>2016-03-06 00:00:00</td>\n",
       "      <td>0</td>\n",
       "      <td>47475</td>\n",
       "      <td>2016-04-06 20:44:54</td>\n",
       "    </tr>\n",
       "    <tr>\n",
       "      <td>333566</td>\n",
       "      <td>0</td>\n",
       "      <td>NaN</td>\n",
       "      <td>2016</td>\n",
       "      <td>manual</td>\n",
       "      <td>58</td>\n",
       "      <td>twingo</td>\n",
       "      <td>150000</td>\n",
       "      <td>6</td>\n",
       "      <td>petrol</td>\n",
       "      <td>renault</td>\n",
       "      <td>NaN</td>\n",
       "      <td>2016-04-01 00:00:00</td>\n",
       "      <td>0</td>\n",
       "      <td>47057</td>\n",
       "      <td>2016-04-05 18:18:35</td>\n",
       "    </tr>\n",
       "    <tr>\n",
       "      <td>68719</td>\n",
       "      <td>1</td>\n",
       "      <td>NaN</td>\n",
       "      <td>2015</td>\n",
       "      <td>NaN</td>\n",
       "      <td>0</td>\n",
       "      <td>NaN</td>\n",
       "      <td>5000</td>\n",
       "      <td>0</td>\n",
       "      <td>NaN</td>\n",
       "      <td>sonstige_autos</td>\n",
       "      <td>NaN</td>\n",
       "      <td>2016-03-09 00:00:00</td>\n",
       "      <td>0</td>\n",
       "      <td>41564</td>\n",
       "      <td>2016-03-09 14:43:11</td>\n",
       "    </tr>\n",
       "  </tbody>\n",
       "</table>\n",
       "</div>"
      ],
      "text/plain": [
       "        price  vehicletype  registrationyear gearbox  power   model  \\\n",
       "135104      0          NaN              1990  manual      0     NaN   \n",
       "221803      0          NaN              2016  manual    150   astra   \n",
       "179234      0        small              1998  manual     54   corsa   \n",
       "15361       0        wagon              1995  manual    116     3er   \n",
       "210004      0  convertible              2001  manual    101     NaN   \n",
       "336877      0          NaN              2000     NaN      0   arosa   \n",
       "32395       0        other              1991    auto      0     NaN   \n",
       "78274      20          NaN              1995     NaN      0      80   \n",
       "333566      0          NaN              2016  manual     58  twingo   \n",
       "68719       1          NaN              2015     NaN      0     NaN   \n",
       "\n",
       "        kilometer  registrationmonth  fueltype           brand notrepaired  \\\n",
       "135104      80000                  3       NaN         trabant         NaN   \n",
       "221803     150000                  9  gasoline            opel         NaN   \n",
       "179234     150000                  0       NaN            opel         NaN   \n",
       "15361      150000                 11    petrol             bmw         NaN   \n",
       "210004     150000                  2    petrol            opel          no   \n",
       "336877     150000                  0       NaN            seat         NaN   \n",
       "32395       30000                  0       NaN  sonstige_autos         yes   \n",
       "78274        5000                  0       NaN            audi         NaN   \n",
       "333566     150000                  6    petrol         renault         NaN   \n",
       "68719        5000                  0       NaN  sonstige_autos         NaN   \n",
       "\n",
       "                datecreated  numberofpictures  postalcode             lastseen  \n",
       "135104  2016-03-29 00:00:00                 0       58802  2016-04-06 04:45:48  \n",
       "221803  2016-04-03 00:00:00                 0       26427  2016-04-03 20:57:22  \n",
       "179234  2016-03-28 00:00:00                 0       42555  2016-04-04 19:47:06  \n",
       "15361   2016-03-19 00:00:00                 0        4924  2016-04-06 13:17:12  \n",
       "210004  2016-03-17 00:00:00                 0       49477  2016-03-19 11:16:27  \n",
       "336877  2016-03-10 00:00:00                 0       74363  2016-03-11 12:47:52  \n",
       "32395   2016-03-20 00:00:00                 0       31812  2016-03-23 22:47:22  \n",
       "78274   2016-03-06 00:00:00                 0       47475  2016-04-06 20:44:54  \n",
       "333566  2016-04-01 00:00:00                 0       47057  2016-04-05 18:18:35  \n",
       "68719   2016-03-09 00:00:00                 0       41564  2016-03-09 14:43:11  "
      ]
     },
     "execution_count": 254,
     "metadata": {},
     "output_type": "execute_result"
    }
   ],
   "source": [
    "df[df.price < 50].sample(n=10, random_state=state)"
   ]
  },
  {
   "cell_type": "markdown",
   "metadata": {},
   "source": [
    "Смотрим, сколько процентов строк с аномально низкой ценой."
   ]
  },
  {
   "cell_type": "code",
   "execution_count": 255,
   "metadata": {},
   "outputs": [
    {
     "name": "stdout",
     "output_type": "stream",
     "text": [
      "Процент авто с ценой, меньшей 50 евро 3.51%\n"
     ]
    }
   ],
   "source": [
    "print('Процент авто с ценой, меньшей 50 евро {:.2%}'.format(len(df[df.price < 50]) / len(df)))"
   ]
  },
  {
   "cell_type": "markdown",
   "metadata": {},
   "source": [
    "Это всё таки целевой признак, тут нужно быть максимсально точным. Процент авто с деффектной ценой терпимый, так что предпочту это просто удалить из ДФ."
   ]
  },
  {
   "cell_type": "code",
   "execution_count": 256,
   "metadata": {},
   "outputs": [],
   "source": [
    "df = df[df.price >= 50]"
   ]
  },
  {
   "cell_type": "markdown",
   "metadata": {},
   "source": [
    "Столбец `price`. Смотрим, что получилось. Всё в порядке."
   ]
  },
  {
   "cell_type": "code",
   "execution_count": 257,
   "metadata": {},
   "outputs": [
    {
     "name": "stdout",
     "output_type": "stream",
     "text": [
      "\n",
      "*** Информация по столбцу price ***\n",
      "\n",
      "Тип данных столбца price: int64:\n",
      "В столбце price пропущено 0 из 341946 строк, что составляет 0.00%\n",
      "Минимальное значение: 50.00\n",
      "Максимальное значение: 20000.00\n",
      "Среднее значение: 4577.08\n",
      "Медианное значение: 2900.00\n"
     ]
    },
    {
     "data": {
      "image/png": "[encoded data removed]",
      "text/plain": [
       "<Figure size 1080x360 with 2 Axes>"
      ]
     },
     "metadata": {},
     "output_type": "display_data"
    },
    {
     "name": "stdout",
     "output_type": "stream",
     "text": [
      "\n"
     ]
    }
   ],
   "source": [
    "column_info(df, 'price', quantitative=True)"
   ]
  },
  {
   "cell_type": "markdown",
   "metadata": {},
   "source": [
    "Столбец `model`. Заполняем nan-ы значением `unknown`."
   ]
  },
  {
   "cell_type": "code",
   "execution_count": 258,
   "metadata": {},
   "outputs": [
    {
     "name": "stdout",
     "output_type": "stream",
     "text": [
      "\n",
      "*** Информация по столбцу model ***\n",
      "\n",
      "Тип данных столбца model: object:\n",
      "В столбце model пропущено 17163 из 341946 строк, что составляет 5.02%\n",
      "\n",
      "Количество значений в каждой из категорий:\n",
      "golf                  28138\n",
      "other                 23568\n",
      "3er                   19092\n",
      "polo                  12572\n",
      "corsa                 12137\n",
      "                      ...  \n",
      "i3                        8\n",
      "rangerover                4\n",
      "serie_3                   3\n",
      "range_rover_evoque        2\n",
      "serie_1                   1\n",
      "Name: model, Length: 250, dtype: int64\n",
      "\n"
     ]
    }
   ],
   "source": [
    "column_info(df, 'model')"
   ]
  },
  {
   "cell_type": "code",
   "execution_count": 259,
   "metadata": {},
   "outputs": [],
   "source": [
    "df.model.fillna('unknown', inplace=True)"
   ]
  },
  {
   "cell_type": "markdown",
   "metadata": {},
   "source": [
    "Столбец `vehicletype`. Заполняем nan-ы \"умным заполнителем\", опираясь на категории из столбца `model`. Предполагаем, что характеристики у автомобилей по моделям примерно одинаковые."
   ]
  },
  {
   "cell_type": "code",
   "execution_count": 260,
   "metadata": {},
   "outputs": [
    {
     "name": "stdout",
     "output_type": "stream",
     "text": [
      "\n",
      "*** Информация по столбцу vehicletype ***\n",
      "\n",
      "Тип данных столбца vehicletype: object:\n",
      "В столбце vehicletype пропущено 32979 из 341946 строк, что составляет 9.64%\n",
      "\n",
      "Количество значений в каждой из категорий:\n",
      "sedan          89169\n",
      "small          77792\n",
      "wagon          63524\n",
      "bus            28272\n",
      "convertible    19820\n",
      "coupe          15568\n",
      "suv            11766\n",
      "other           3056\n",
      "Name: vehicletype, dtype: int64\n",
      "\n"
     ]
    }
   ],
   "source": [
    "column_info(df, 'vehicletype')"
   ]
  },
  {
   "cell_type": "code",
   "execution_count": 261,
   "metadata": {},
   "outputs": [],
   "source": [
    "wise_fillna(df, 'vehicletype', 'model')"
   ]
  },
  {
   "cell_type": "markdown",
   "metadata": {},
   "source": [
    "Беда с годами. Пытаемся понять какая и исправить это. Едва ли у нас имеются автомобили до 1900 года и после 2020 года. Надо эти машины времени убрать, их не так уж и много."
   ]
  },
  {
   "cell_type": "code",
   "execution_count": 262,
   "metadata": {},
   "outputs": [
    {
     "name": "stdout",
     "output_type": "stream",
     "text": [
      "Неадекватные года: 0.04%\n"
     ]
    }
   ],
   "source": [
    "print('Неадекватные года: {:.2%}'.format(len(df[(df.registrationyear < 1900) | (df.registrationyear > 2020)]) / len(df)))"
   ]
  },
  {
   "cell_type": "code",
   "execution_count": 263,
   "metadata": {},
   "outputs": [],
   "source": [
    "df = df[(df.registrationyear >= 1900) & (df.registrationyear <= 2020)]"
   ]
  },
  {
   "cell_type": "markdown",
   "metadata": {},
   "source": [
    "Столбец `registrationyear`. Смотрим, что получилось. Всё в порядке."
   ]
  },
  {
   "cell_type": "code",
   "execution_count": 264,
   "metadata": {},
   "outputs": [
    {
     "name": "stdout",
     "output_type": "stream",
     "text": [
      "\n",
      "*** Информация по столбцу registrationyear ***\n",
      "\n",
      "Тип данных столбца registrationyear: int64:\n",
      "В столбце registrationyear пропущено 0 из 341819 строк, что составляет 0.00%\n",
      "Минимальное значение: 1910.00\n",
      "Максимальное значение: 2019.00\n",
      "Среднее значение: 2003.20\n",
      "Медианное значение: 2003.00\n"
     ]
    },
    {
     "data": {
      "image/png": "[encoded data removed]",
      "text/plain": [
       "<Figure size 1080x360 with 2 Axes>"
      ]
     },
     "metadata": {},
     "output_type": "display_data"
    },
    {
     "name": "stdout",
     "output_type": "stream",
     "text": [
      "\n"
     ]
    }
   ],
   "source": [
    "column_info(df, 'registrationyear', quantitative=True)"
   ]
  },
  {
   "cell_type": "markdown",
   "metadata": {},
   "source": [
    "Столбец `gearbox`. Заполняем nan-ы \"умным заполнителем\", опираясь на категории из столбца `model`. Предполагаем, что характеристики у автомобилей по моделям примерно одинаковые."
   ]
  },
  {
   "cell_type": "code",
   "execution_count": 265,
   "metadata": {},
   "outputs": [
    {
     "name": "stdout",
     "output_type": "stream",
     "text": [
      "\n",
      "*** Информация по столбцу gearbox ***\n",
      "\n",
      "Тип данных столбца gearbox: object:\n",
      "В столбце gearbox пропущено 16563 из 341819 строк, что составляет 4.85%\n",
      "\n",
      "Количество значений в каждой из категорий:\n",
      "manual    260571\n",
      "auto       64685\n",
      "Name: gearbox, dtype: int64\n",
      "\n"
     ]
    }
   ],
   "source": [
    "column_info(df, 'gearbox')\n",
    "wise_fillna(df, 'gearbox', 'model')"
   ]
  },
  {
   "cell_type": "markdown",
   "metadata": {},
   "source": [
    "С мощностью тоже не всё в порядке. Исправлем это теми же подходами."
   ]
  },
  {
   "cell_type": "code",
   "execution_count": 266,
   "metadata": {},
   "outputs": [
    {
     "name": "stdout",
     "output_type": "stream",
     "text": [
      "Неадекватная мощность: 10.42%\n"
     ]
    }
   ],
   "source": [
    "print('Неадекватная мощность: {:.2%}'.format(len(df[(df.power < 5) | (df.power > 2000)]) / len(df)))"
   ]
  },
  {
   "cell_type": "code",
   "execution_count": 267,
   "metadata": {},
   "outputs": [],
   "source": [
    "df.loc[df.power == 0, 'power'] = np.nan\n",
    "df.loc[df.power >= 1000, 'power'] = np.nan"
   ]
  },
  {
   "cell_type": "code",
   "execution_count": 268,
   "metadata": {},
   "outputs": [
    {
     "name": "stderr",
     "output_type": "stream",
     "text": [
      "/opt/conda/lib/python3.7/site-packages/numpy/lib/nanfunctions.py:1111: RuntimeWarning: Mean of empty slice\n",
      "  return np.nanmean(a, axis, out=out, keepdims=keepdims)\n"
     ]
    }
   ],
   "source": [
    "wise_fillna(df, 'power', 'model', quantitative=True, mean=False)"
   ]
  },
  {
   "cell_type": "markdown",
   "metadata": {},
   "source": [
    "Столбец `power`. Смотрим, что получилось. Всё в порядке."
   ]
  },
  {
   "cell_type": "code",
   "execution_count": 269,
   "metadata": {},
   "outputs": [
    {
     "name": "stdout",
     "output_type": "stream",
     "text": [
      "\n",
      "*** Информация по столбцу power ***\n",
      "\n",
      "Тип данных столбца power: float64:\n",
      "В столбце power пропущено 0 из 341819 строк, что составляет 0.00%\n",
      "Минимальное значение: 1.00\n",
      "Максимальное значение: 999.00\n",
      "Среднее значение: 118.94\n",
      "Медианное значение: 109.00\n"
     ]
    },
    {
     "data": {
      "image/png": "[encoded data removed]",
      "text/plain": [
       "<Figure size 1080x360 with 2 Axes>"
      ]
     },
     "metadata": {},
     "output_type": "display_data"
    },
    {
     "name": "stdout",
     "output_type": "stream",
     "text": [
      "\n"
     ]
    }
   ],
   "source": [
    "column_info(df, 'power', quantitative=True)"
   ]
  },
  {
   "cell_type": "markdown",
   "metadata": {},
   "source": [
    "С пробегом тоже беда. Почему-то 67.16% авто с одним пробегом 150000. Возможно, это ограничение сервиса, но выглядит странно. Тем не менее характеристика важная для определения цены поддержанного автомобился, так что придётся оставить."
   ]
  },
  {
   "cell_type": "code",
   "execution_count": 270,
   "metadata": {},
   "outputs": [
    {
     "name": "stdout",
     "output_type": "stream",
     "text": [
      "\n",
      "*** Информация по столбцу kilometer ***\n",
      "\n",
      "Тип данных столбца kilometer: int64:\n",
      "В столбце kilometer пропущено 0 из 341819 строк, что составляет 0.00%\n",
      "Минимальное значение: 5000.00\n",
      "Максимальное значение: 150000.00\n",
      "Среднее значение: 128500.19\n",
      "Медианное значение: 150000.00\n"
     ]
    },
    {
     "data": {
      "image/png": "[encoded data removed]",
      "text/plain": [
       "<Figure size 1080x360 with 2 Axes>"
      ]
     },
     "metadata": {},
     "output_type": "display_data"
    },
    {
     "name": "stdout",
     "output_type": "stream",
     "text": [
      "\n"
     ]
    }
   ],
   "source": [
    "column_info(df, 'kilometer', quantitative=True, bins=8)"
   ]
  },
  {
   "cell_type": "code",
   "execution_count": 271,
   "metadata": {},
   "outputs": [
    {
     "name": "stdout",
     "output_type": "stream",
     "text": [
      "Неадекватный пробег: 67.16%\n"
     ]
    }
   ],
   "source": [
    "print('Неадекватный пробег: {:.2%}'.format(len(df[df.kilometer == 150000]) / len(df)))"
   ]
  },
  {
   "cell_type": "markdown",
   "metadata": {},
   "source": [
    "Столбец `registrationmonth` нам не нужен. От него не должно много зависеть."
   ]
  },
  {
   "cell_type": "code",
   "execution_count": 272,
   "metadata": {},
   "outputs": [],
   "source": [
    "df.drop('registrationmonth', axis=1, inplace=True)"
   ]
  },
  {
   "cell_type": "markdown",
   "metadata": {},
   "source": [
    "Столбец `fueltype`. Всё то же самое."
   ]
  },
  {
   "cell_type": "code",
   "execution_count": 273,
   "metadata": {},
   "outputs": [],
   "source": [
    "wise_fillna(df, 'fueltype', 'model')"
   ]
  },
  {
   "cell_type": "code",
   "execution_count": 274,
   "metadata": {},
   "outputs": [
    {
     "name": "stdout",
     "output_type": "stream",
     "text": [
      "\n",
      "*** Информация по столбцу fueltype ***\n",
      "\n",
      "Тип данных столбца fueltype: object:\n",
      "В столбце fueltype пропущено 0 из 341819 строк, что составляет 0.00%\n",
      "\n",
      "Количество значений в каждой из категорий:\n",
      "petrol      234513\n",
      "gasoline    101134\n",
      "lpg           5155\n",
      "cng            549\n",
      "hybrid         226\n",
      "other          155\n",
      "electric        87\n",
      "Name: fueltype, dtype: int64\n",
      "\n"
     ]
    }
   ],
   "source": [
    "column_info(df, 'fueltype')"
   ]
  },
  {
   "cell_type": "markdown",
   "metadata": {},
   "source": [
    "Тут всё ок."
   ]
  },
  {
   "cell_type": "code",
   "execution_count": 275,
   "metadata": {},
   "outputs": [
    {
     "name": "stdout",
     "output_type": "stream",
     "text": [
      "\n",
      "*** Информация по столбцу brand ***\n",
      "\n",
      "Тип данных столбца brand: object:\n",
      "В столбце brand пропущено 0 из 341819 строк, что составляет 0.00%\n",
      "\n",
      "Количество значений в каждой из категорий:\n",
      "volkswagen        74060\n",
      "opel              38315\n",
      "bmw               35585\n",
      "mercedes_benz     31209\n",
      "audi              28438\n",
      "ford              24353\n",
      "renault           17315\n",
      "peugeot           10741\n",
      "fiat               9295\n",
      "seat               6696\n",
      "mazda              5445\n",
      "skoda              5429\n",
      "smart              5151\n",
      "citroen            4999\n",
      "nissan             4791\n",
      "toyota             4526\n",
      "hyundai            3523\n",
      "mini               3160\n",
      "volvo              3111\n",
      "mitsubishi         2912\n",
      "honda              2704\n",
      "sonstige_autos     2702\n",
      "kia                2403\n",
      "suzuki             2270\n",
      "alfa_romeo         2215\n",
      "chevrolet          1700\n",
      "chrysler           1359\n",
      "dacia               888\n",
      "daihatsu            773\n",
      "subaru              726\n",
      "porsche             708\n",
      "jeep                653\n",
      "land_rover          533\n",
      "daewoo              530\n",
      "saab                512\n",
      "jaguar              488\n",
      "trabant             478\n",
      "rover               458\n",
      "lancia              452\n",
      "lada                213\n",
      "Name: brand, dtype: int64\n",
      "\n"
     ]
    }
   ],
   "source": [
    "column_info(df, 'brand')"
   ]
  },
  {
   "cell_type": "markdown",
   "metadata": {},
   "source": [
    "Столбец `notrepaired`. Заполняем nan-ы значением `unknown`."
   ]
  },
  {
   "cell_type": "code",
   "execution_count": 276,
   "metadata": {},
   "outputs": [
    {
     "name": "stdout",
     "output_type": "stream",
     "text": [
      "\n",
      "*** Информация по столбцу notrepaired ***\n",
      "\n",
      "Тип данных столбца notrepaired: object:\n",
      "В столбце notrepaired пропущено 64756 из 341819 строк, что составляет 18.94%\n",
      "\n",
      "Количество значений в каждой из категорий:\n",
      "no     243310\n",
      "yes     33753\n",
      "Name: notrepaired, dtype: int64\n",
      "\n"
     ]
    }
   ],
   "source": [
    "column_info(df, 'notrepaired')"
   ]
  },
  {
   "cell_type": "code",
   "execution_count": 277,
   "metadata": {},
   "outputs": [],
   "source": [
    "df.notrepaired.fillna('unknown', inplace=True)"
   ]
  },
  {
   "cell_type": "markdown",
   "metadata": {},
   "source": [
    "Дата создания объявления нам тут не нужна."
   ]
  },
  {
   "cell_type": "code",
   "execution_count": 278,
   "metadata": {},
   "outputs": [],
   "source": [
    "df.drop('datecreated', axis=1, inplace=True)"
   ]
  },
  {
   "cell_type": "markdown",
   "metadata": {},
   "source": [
    "Картинок везде 0. Избавляемся от этого столбца."
   ]
  },
  {
   "cell_type": "code",
   "execution_count": 279,
   "metadata": {},
   "outputs": [
    {
     "name": "stdout",
     "output_type": "stream",
     "text": [
      "\n",
      "*** Информация по столбцу numberofpictures ***\n",
      "\n",
      "Тип данных столбца numberofpictures: int64:\n",
      "В столбце numberofpictures пропущено 0 из 341819 строк, что составляет 0.00%\n",
      "\n",
      "Количество значений в каждой из категорий:\n",
      "0    341819\n",
      "Name: numberofpictures, dtype: int64\n",
      "\n"
     ]
    }
   ],
   "source": [
    "column_info(df, 'numberofpictures')"
   ]
  },
  {
   "cell_type": "code",
   "execution_count": 280,
   "metadata": {},
   "outputs": [],
   "source": [
    "df.drop('numberofpictures', axis=1, inplace=True)"
   ]
  },
  {
   "cell_type": "markdown",
   "metadata": {},
   "source": [
    "С почтовыми индексами (то есть с географией) всё в порядке."
   ]
  },
  {
   "cell_type": "code",
   "execution_count": 281,
   "metadata": {},
   "outputs": [
    {
     "name": "stdout",
     "output_type": "stream",
     "text": [
      "\n",
      "*** Информация по столбцу postalcode ***\n",
      "\n",
      "Тип данных столбца postalcode: int64:\n",
      "В столбце postalcode пропущено 0 из 341819 строк, что составляет 0.00%\n",
      "Минимальное значение: 1067.00\n",
      "Максимальное значение: 99998.00\n",
      "\n"
     ]
    }
   ],
   "source": [
    "column_info(df, 'postalcode', quantitative=True, mean=False, median=False, hist=False)"
   ]
  },
  {
   "cell_type": "code",
   "execution_count": 282,
   "metadata": {},
   "outputs": [
    {
     "name": "stdout",
     "output_type": "stream",
     "text": [
      "\n",
      "*** Информация по столбцу postalcode ***\n",
      "\n",
      "Тип данных столбца postalcode: int64:\n",
      "В столбце postalcode пропущено 0 из 341819 строк, что составляет 0.00%\n",
      "\n",
      "Количество значений в каждой из категорий:\n",
      "10115    811\n",
      "65428    603\n",
      "66333    324\n",
      "44145    301\n",
      "32257    300\n",
      "        ... \n",
      "29496      1\n",
      "78345      1\n",
      "6638       1\n",
      "94359      1\n",
      "24638      1\n",
      "Name: postalcode, Length: 8138, dtype: int64\n",
      "\n"
     ]
    }
   ],
   "source": [
    "column_info(df, 'postalcode')"
   ]
  },
  {
   "cell_type": "code",
   "execution_count": 283,
   "metadata": {},
   "outputs": [],
   "source": [
    "df.drop('postalcode', axis=1, inplace=True)"
   ]
  },
  {
   "cell_type": "markdown",
   "metadata": {},
   "source": [
    "Информация о том, когда владелец последний раз был на сайте, ничего с цене автомобиля не добавляет."
   ]
  },
  {
   "cell_type": "code",
   "execution_count": 284,
   "metadata": {},
   "outputs": [],
   "source": [
    "df.drop('lastseen', axis=1, inplace=True)"
   ]
  },
  {
   "cell_type": "markdown",
   "metadata": {},
   "source": [
    "Смотрим, что получилось."
   ]
  },
  {
   "cell_type": "code",
   "execution_count": 285,
   "metadata": {},
   "outputs": [
    {
     "data": {
      "text/html": [
       "<div>\n",
       "<style scoped>\n",
       "    .dataframe tbody tr th:only-of-type {\n",
       "        vertical-align: middle;\n",
       "    }\n",
       "\n",
       "    .dataframe tbody tr th {\n",
       "        vertical-align: top;\n",
       "    }\n",
       "\n",
       "    .dataframe thead th {\n",
       "        text-align: right;\n",
       "    }\n",
       "</style>\n",
       "<table border=\"1\" class=\"dataframe\">\n",
       "  <thead>\n",
       "    <tr style=\"text-align: right;\">\n",
       "      <th></th>\n",
       "      <th>price</th>\n",
       "      <th>vehicletype</th>\n",
       "      <th>registrationyear</th>\n",
       "      <th>gearbox</th>\n",
       "      <th>power</th>\n",
       "      <th>model</th>\n",
       "      <th>kilometer</th>\n",
       "      <th>fueltype</th>\n",
       "      <th>brand</th>\n",
       "      <th>notrepaired</th>\n",
       "    </tr>\n",
       "  </thead>\n",
       "  <tbody>\n",
       "    <tr>\n",
       "      <td>288045</td>\n",
       "      <td>1500</td>\n",
       "      <td>wagon</td>\n",
       "      <td>2000</td>\n",
       "      <td>manual</td>\n",
       "      <td>125.0</td>\n",
       "      <td>forester</td>\n",
       "      <td>150000</td>\n",
       "      <td>petrol</td>\n",
       "      <td>subaru</td>\n",
       "      <td>no</td>\n",
       "    </tr>\n",
       "    <tr>\n",
       "      <td>253846</td>\n",
       "      <td>5500</td>\n",
       "      <td>bus</td>\n",
       "      <td>2007</td>\n",
       "      <td>manual</td>\n",
       "      <td>111.0</td>\n",
       "      <td>scenic</td>\n",
       "      <td>60000</td>\n",
       "      <td>petrol</td>\n",
       "      <td>renault</td>\n",
       "      <td>no</td>\n",
       "    </tr>\n",
       "    <tr>\n",
       "      <td>2977</td>\n",
       "      <td>700</td>\n",
       "      <td>suv</td>\n",
       "      <td>1998</td>\n",
       "      <td>auto</td>\n",
       "      <td>204.0</td>\n",
       "      <td>other</td>\n",
       "      <td>150000</td>\n",
       "      <td>petrol</td>\n",
       "      <td>ford</td>\n",
       "      <td>yes</td>\n",
       "    </tr>\n",
       "    <tr>\n",
       "      <td>152067</td>\n",
       "      <td>1450</td>\n",
       "      <td>small</td>\n",
       "      <td>2002</td>\n",
       "      <td>manual</td>\n",
       "      <td>75.0</td>\n",
       "      <td>corsa</td>\n",
       "      <td>150000</td>\n",
       "      <td>petrol</td>\n",
       "      <td>opel</td>\n",
       "      <td>no</td>\n",
       "    </tr>\n",
       "    <tr>\n",
       "      <td>52241</td>\n",
       "      <td>8750</td>\n",
       "      <td>suv</td>\n",
       "      <td>2004</td>\n",
       "      <td>auto</td>\n",
       "      <td>163.0</td>\n",
       "      <td>xc_reihe</td>\n",
       "      <td>150000</td>\n",
       "      <td>gasoline</td>\n",
       "      <td>volvo</td>\n",
       "      <td>no</td>\n",
       "    </tr>\n",
       "    <tr>\n",
       "      <td>345796</td>\n",
       "      <td>6801</td>\n",
       "      <td>sedan</td>\n",
       "      <td>2009</td>\n",
       "      <td>manual</td>\n",
       "      <td>170.0</td>\n",
       "      <td>a6</td>\n",
       "      <td>100000</td>\n",
       "      <td>gasoline</td>\n",
       "      <td>audi</td>\n",
       "      <td>unknown</td>\n",
       "    </tr>\n",
       "    <tr>\n",
       "      <td>321041</td>\n",
       "      <td>390</td>\n",
       "      <td>small</td>\n",
       "      <td>1996</td>\n",
       "      <td>manual</td>\n",
       "      <td>44.0</td>\n",
       "      <td>corsa</td>\n",
       "      <td>150000</td>\n",
       "      <td>petrol</td>\n",
       "      <td>opel</td>\n",
       "      <td>unknown</td>\n",
       "    </tr>\n",
       "    <tr>\n",
       "      <td>310820</td>\n",
       "      <td>2900</td>\n",
       "      <td>wagon</td>\n",
       "      <td>2001</td>\n",
       "      <td>manual</td>\n",
       "      <td>179.0</td>\n",
       "      <td>other</td>\n",
       "      <td>150000</td>\n",
       "      <td>gasoline</td>\n",
       "      <td>audi</td>\n",
       "      <td>yes</td>\n",
       "    </tr>\n",
       "    <tr>\n",
       "      <td>171677</td>\n",
       "      <td>2499</td>\n",
       "      <td>sedan</td>\n",
       "      <td>1999</td>\n",
       "      <td>manual</td>\n",
       "      <td>170.0</td>\n",
       "      <td>3er</td>\n",
       "      <td>150000</td>\n",
       "      <td>petrol</td>\n",
       "      <td>bmw</td>\n",
       "      <td>yes</td>\n",
       "    </tr>\n",
       "    <tr>\n",
       "      <td>207384</td>\n",
       "      <td>10600</td>\n",
       "      <td>suv</td>\n",
       "      <td>2007</td>\n",
       "      <td>auto</td>\n",
       "      <td>340.0</td>\n",
       "      <td>cayenne</td>\n",
       "      <td>150000</td>\n",
       "      <td>petrol</td>\n",
       "      <td>porsche</td>\n",
       "      <td>no</td>\n",
       "    </tr>\n",
       "  </tbody>\n",
       "</table>\n",
       "</div>"
      ],
      "text/plain": [
       "        price vehicletype  registrationyear gearbox  power     model  \\\n",
       "288045   1500       wagon              2000  manual  125.0  forester   \n",
       "253846   5500         bus              2007  manual  111.0    scenic   \n",
       "2977      700         suv              1998    auto  204.0     other   \n",
       "152067   1450       small              2002  manual   75.0     corsa   \n",
       "52241    8750         suv              2004    auto  163.0  xc_reihe   \n",
       "345796   6801       sedan              2009  manual  170.0        a6   \n",
       "321041    390       small              1996  manual   44.0     corsa   \n",
       "310820   2900       wagon              2001  manual  179.0     other   \n",
       "171677   2499       sedan              1999  manual  170.0       3er   \n",
       "207384  10600         suv              2007    auto  340.0   cayenne   \n",
       "\n",
       "        kilometer  fueltype    brand notrepaired  \n",
       "288045     150000    petrol   subaru          no  \n",
       "253846      60000    petrol  renault          no  \n",
       "2977       150000    petrol     ford         yes  \n",
       "152067     150000    petrol     opel          no  \n",
       "52241      150000  gasoline    volvo          no  \n",
       "345796     100000  gasoline     audi     unknown  \n",
       "321041     150000    petrol     opel     unknown  \n",
       "310820     150000  gasoline     audi         yes  \n",
       "171677     150000    petrol      bmw         yes  \n",
       "207384     150000    petrol  porsche          no  "
      ]
     },
     "execution_count": 285,
     "metadata": {},
     "output_type": "execute_result"
    }
   ],
   "source": [
    "df.sample(n=10, random_state=state)"
   ]
  },
  {
   "cell_type": "markdown",
   "metadata": {},
   "source": [
    "Nan-ов нет."
   ]
  },
  {
   "cell_type": "code",
   "execution_count": 286,
   "metadata": {},
   "outputs": [
    {
     "data": {
      "text/plain": [
       "price               0\n",
       "vehicletype         0\n",
       "registrationyear    0\n",
       "gearbox             0\n",
       "power               0\n",
       "model               0\n",
       "kilometer           0\n",
       "fueltype            0\n",
       "brand               0\n",
       "notrepaired         0\n",
       "dtype: int64"
      ]
     },
     "execution_count": 286,
     "metadata": {},
     "output_type": "execute_result"
    }
   ],
   "source": [
    "df.isna().sum()"
   ]
  },
  {
   "cell_type": "markdown",
   "metadata": {},
   "source": [
    "Сильной корреляции также не наблюдается."
   ]
  },
  {
   "cell_type": "code",
   "execution_count": 287,
   "metadata": {},
   "outputs": [
    {
     "data": {
      "text/html": [
       "<div>\n",
       "<style scoped>\n",
       "    .dataframe tbody tr th:only-of-type {\n",
       "        vertical-align: middle;\n",
       "    }\n",
       "\n",
       "    .dataframe tbody tr th {\n",
       "        vertical-align: top;\n",
       "    }\n",
       "\n",
       "    .dataframe thead th {\n",
       "        text-align: right;\n",
       "    }\n",
       "</style>\n",
       "<table border=\"1\" class=\"dataframe\">\n",
       "  <thead>\n",
       "    <tr style=\"text-align: right;\">\n",
       "      <th></th>\n",
       "      <th>price</th>\n",
       "      <th>registrationyear</th>\n",
       "      <th>power</th>\n",
       "      <th>kilometer</th>\n",
       "    </tr>\n",
       "  </thead>\n",
       "  <tbody>\n",
       "    <tr>\n",
       "      <td>price</td>\n",
       "      <td>1.000000</td>\n",
       "      <td>0.377731</td>\n",
       "      <td>0.496127</td>\n",
       "      <td>-0.358419</td>\n",
       "    </tr>\n",
       "    <tr>\n",
       "      <td>registrationyear</td>\n",
       "      <td>0.377731</td>\n",
       "      <td>1.000000</td>\n",
       "      <td>0.096374</td>\n",
       "      <td>-0.194026</td>\n",
       "    </tr>\n",
       "    <tr>\n",
       "      <td>power</td>\n",
       "      <td>0.496127</td>\n",
       "      <td>0.096374</td>\n",
       "      <td>1.000000</td>\n",
       "      <td>0.099286</td>\n",
       "    </tr>\n",
       "    <tr>\n",
       "      <td>kilometer</td>\n",
       "      <td>-0.358419</td>\n",
       "      <td>-0.194026</td>\n",
       "      <td>0.099286</td>\n",
       "      <td>1.000000</td>\n",
       "    </tr>\n",
       "  </tbody>\n",
       "</table>\n",
       "</div>"
      ],
      "text/plain": [
       "                     price  registrationyear     power  kilometer\n",
       "price             1.000000          0.377731  0.496127  -0.358419\n",
       "registrationyear  0.377731          1.000000  0.096374  -0.194026\n",
       "power             0.496127          0.096374  1.000000   0.099286\n",
       "kilometer        -0.358419         -0.194026  0.099286   1.000000"
      ]
     },
     "execution_count": 287,
     "metadata": {},
     "output_type": "execute_result"
    }
   ],
   "source": [
    "df.corr()"
   ]
  },
  {
   "cell_type": "code",
   "execution_count": 288,
   "metadata": {},
   "outputs": [
    {
     "data": {
      "text/plain": [
       "48399"
      ]
     },
     "execution_count": 288,
     "metadata": {},
     "output_type": "execute_result"
    }
   ],
   "source": [
    "df.duplicated().sum()"
   ]
  },
  {
   "cell_type": "code",
   "execution_count": 289,
   "metadata": {},
   "outputs": [],
   "source": [
    "df.drop_duplicates(inplace=True)"
   ]
  },
  {
   "cell_type": "code",
   "execution_count": 290,
   "metadata": {},
   "outputs": [
    {
     "data": {
      "text/plain": [
       "0"
      ]
     },
     "execution_count": 290,
     "metadata": {},
     "output_type": "execute_result"
    }
   ],
   "source": [
    "df.duplicated().sum()"
   ]
  },
  {
   "cell_type": "code",
   "execution_count": 291,
   "metadata": {},
   "outputs": [
    {
     "data": {
      "text/plain": [
       "(293420, 10)"
      ]
     },
     "execution_count": 291,
     "metadata": {},
     "output_type": "execute_result"
    }
   ],
   "source": [
    "df.shape"
   ]
  },
  {
   "cell_type": "markdown",
   "metadata": {},
   "source": [
    "# 2. Подготавливаем в обучению<a id='the_destination02'></a>"
   ]
  },
  {
   "cell_type": "markdown",
   "metadata": {},
   "source": [
    "Переводим категориальные переменные в цифру."
   ]
  },
  {
   "cell_type": "code",
   "execution_count": 292,
   "metadata": {},
   "outputs": [],
   "source": [
    "categorical_features = ['vehicletype', 'gearbox', 'model', 'fueltype', 'brand', 'notrepaired']\n",
    "# quantitative_features = ['registrationyear', 'power', 'kilometer', 'postalcode']"
   ]
  },
  {
   "cell_type": "code",
   "execution_count": 293,
   "metadata": {},
   "outputs": [],
   "source": [
    "df_ordinal = df.copy()"
   ]
  },
  {
   "cell_type": "code",
   "execution_count": 294,
   "metadata": {},
   "outputs": [],
   "source": [
    "encoder = OrdinalEncoder()"
   ]
  },
  {
   "cell_type": "code",
   "execution_count": 295,
   "metadata": {},
   "outputs": [],
   "source": [
    "df_ordinal[categorical_features] = pd.DataFrame(encoder.fit_transform(df[categorical_features]), columns=categorical_features,\n",
    "                                                index=df.index)"
   ]
  },
  {
   "cell_type": "code",
   "execution_count": 296,
   "metadata": {},
   "outputs": [],
   "source": [
    "df_ordinal_20000 = df_ordinal.sample(n=20000, random_state=state).reset_index()"
   ]
  },
  {
   "cell_type": "markdown",
   "metadata": {},
   "source": [
    "Выделяем целевой признак `price`."
   ]
  },
  {
   "cell_type": "code",
   "execution_count": 297,
   "metadata": {},
   "outputs": [],
   "source": [
    "df_ordinal_features = df_ordinal_20000.drop('price', axis=1)"
   ]
  },
  {
   "cell_type": "code",
   "execution_count": 298,
   "metadata": {},
   "outputs": [],
   "source": [
    "df_ordinal_target = df_ordinal_20000.price"
   ]
  },
  {
   "cell_type": "markdown",
   "metadata": {},
   "source": [
    "Делим выборку на обучающую и тестовую."
   ]
  },
  {
   "cell_type": "code",
   "execution_count": 299,
   "metadata": {},
   "outputs": [],
   "source": [
    "X_train, X_test, y_train, y_test = train_test_split(df_ordinal_features, df_ordinal_target, random_state=state)"
   ]
  },
  {
   "cell_type": "markdown",
   "metadata": {},
   "source": [
    "Приводим все обучающие признаки к одному масштабу."
   ]
  },
  {
   "cell_type": "code",
   "execution_count": 300,
   "metadata": {},
   "outputs": [],
   "source": [
    "scaler = StandardScaler()\n",
    "X_train = scaler.fit_transform(X_train)\n",
    "\n",
    "X_test = scaler.transform(X_test)"
   ]
  },
  {
   "cell_type": "markdown",
   "metadata": {},
   "source": [
    "# 3. Обучение<a id='the_destination01'></a>"
   ]
  },
  {
   "cell_type": "markdown",
   "metadata": {},
   "source": [
    "Создаём скорер из метрики."
   ]
  },
  {
   "cell_type": "code",
   "execution_count": 301,
   "metadata": {},
   "outputs": [],
   "source": [
    "def scorer(original, predicted):        \n",
    "    return mean_squared_error(original, predicted) ** .5\n",
    "\n",
    "scorer = make_scorer(scorer, greater_is_better=False)"
   ]
  },
  {
   "cell_type": "markdown",
   "metadata": {},
   "source": [
    "### 3.1 LightGBM<a id='the_destination04'></a>"
   ]
  },
  {
   "cell_type": "markdown",
   "metadata": {},
   "source": [
    "Ищём оптимальные параметры из небольшого списка."
   ]
  },
  {
   "cell_type": "code",
   "execution_count": 302,
   "metadata": {},
   "outputs": [
    {
     "name": "stdout",
     "output_type": "stream",
     "text": [
      "Лучший rmse среди всех параметров: 1918.2393701152068\n",
      "Лучшие параметры: {'learning_rate': 0.1, 'max_depth': 10, 'n_estimators': 200, 'num_leaves': 25}\n"
     ]
    }
   ],
   "source": [
    "lgb_model = LGBMRegressor()\n",
    "\n",
    "parameters = {'learning_rate': [0.1, 0.5],              \n",
    "              'n_estimators': [200, 300],\n",
    "              'max_depth': [5, 10],\n",
    "              'num_leaves': [25, 50]\n",
    "              }\n",
    "\n",
    "grid_lgb = GridSearchCV(estimator=lgb_model, param_grid=parameters, cv=3, scoring=scorer)\n",
    "grid_lgb.fit(X_train, y_train)\n",
    "\n",
    "print('Лучший rmse среди всех параметров:', -grid_lgb.best_score_)\n",
    "print('Лучшие параметры:', grid_lgb.best_params_)"
   ]
  },
  {
   "cell_type": "markdown",
   "metadata": {},
   "source": [
    "Засекаем время."
   ]
  },
  {
   "cell_type": "code",
   "execution_count": 303,
   "metadata": {},
   "outputs": [
    {
     "name": "stdout",
     "output_type": "stream",
     "text": [
      "Время обучения lgb-модели: 5.302\n"
     ]
    }
   ],
   "source": [
    "time_start = time.time()\n",
    "\n",
    "lgb_model = LGBMRegressor(learning_rate=0.1, n_estimators=300, max_depth=10, num_leaves=50)\n",
    "lgb_model.fit(X_train, y_train)\n",
    "\n",
    "lgb_train_time = time.time() - time_start\n",
    "print('Время обучения lgb-модели: {:.3f}'.format(lgb_train_time))"
   ]
  },
  {
   "cell_type": "code",
   "execution_count": 304,
   "metadata": {},
   "outputs": [
    {
     "name": "stdout",
     "output_type": "stream",
     "text": [
      "Время предсказания lgb-модели: 0.297045230865478515625\n"
     ]
    }
   ],
   "source": [
    "time_start = time.time()\n",
    "\n",
    "lgb_predictions = lgb_model.predict(X_test)\n",
    "\n",
    "lgb_prediction_time = time.time() - time_start\n",
    "print('Время предсказания lgb-модели: {:.23}'.format(lgb_prediction_time))"
   ]
  },
  {
   "cell_type": "markdown",
   "metadata": {},
   "source": [
    "Смотрим качество."
   ]
  },
  {
   "cell_type": "code",
   "execution_count": 305,
   "metadata": {},
   "outputs": [
    {
     "name": "stdout",
     "output_type": "stream",
     "text": [
      "rsme lgb на обучающей выборке: 1235.97\n",
      "rsme lgb на тестовой выборке: 1866.26\n"
     ]
    }
   ],
   "source": [
    "rsme_lgb = mean_squared_error(y_test, lgb_predictions) ** .5\n",
    "print('rsme lgb на обучающей выборке: {:.2f}'.format(mean_squared_error(y_train, lgb_model.predict(X_train)) ** .5))\n",
    "print('rsme lgb на тестовой выборке: {:.2f}'.format(rsme_lgb))"
   ]
  },
  {
   "cell_type": "markdown",
   "metadata": {},
   "source": [
    "### 3.2 CLF<a id='the_destination05'></a>"
   ]
  },
  {
   "cell_type": "markdown",
   "metadata": {},
   "source": [
    "Ищём оптимальные параметры из небольшого списка."
   ]
  },
  {
   "cell_type": "code",
   "execution_count": 306,
   "metadata": {},
   "outputs": [
    {
     "name": "stdout",
     "output_type": "stream",
     "text": [
      "Лучший rmse среди всех параметров: 1960.4729985133558\n",
      "Лучшие параметры: {'learning_rate': 0.1, 'max_depth': 5, 'n_estimators': 80}\n"
     ]
    }
   ],
   "source": [
    "clf_model = GradientBoostingRegressor(random_state=state)\n",
    "\n",
    "parameters = {'learning_rate': [0.1, 0.5],              \n",
    "              'n_estimators': [40,80],\n",
    "              'max_depth': [3, 5]\n",
    "              }\n",
    "\n",
    "grid_clf = GridSearchCV(estimator=clf_model, param_grid=parameters, cv=3, scoring=scorer)\n",
    "grid_clf.fit(X_train, y_train)\n",
    "\n",
    "print('Лучший rmse среди всех параметров:', -grid_clf.best_score_)\n",
    "print('Лучшие параметры:', grid_clf.best_params_)"
   ]
  },
  {
   "cell_type": "markdown",
   "metadata": {},
   "source": [
    "Засекаем время."
   ]
  },
  {
   "cell_type": "code",
   "execution_count": 307,
   "metadata": {},
   "outputs": [
    {
     "name": "stdout",
     "output_type": "stream",
     "text": [
      "Время обучения clf-модели: 1.424\n"
     ]
    }
   ],
   "source": [
    "time_start = time.time()\n",
    "\n",
    "clf_model = GradientBoostingRegressor(learning_rate=.5, max_depth=5, n_estimators=80, random_state=state)\n",
    "clf_model.fit(X_train, y_train)\n",
    "\n",
    "clf_train_time = time.time() - time_start\n",
    "print('Время обучения clf-модели: {:.3f}'.format(clf_train_time))"
   ]
  },
  {
   "cell_type": "code",
   "execution_count": 308,
   "metadata": {},
   "outputs": [
    {
     "name": "stdout",
     "output_type": "stream",
     "text": [
      "Время предсказания clf-модели: 0.013\n"
     ]
    }
   ],
   "source": [
    "time_start = time.time()\n",
    "\n",
    "clf_predictions = clf_model.predict(X_test)\n",
    "\n",
    "clf_prediction_time = time.time() - time_start\n",
    "print('Время предсказания clf-модели: {:.3f}'.format(clf_prediction_time))"
   ]
  },
  {
   "cell_type": "markdown",
   "metadata": {},
   "source": [
    "Смотрим качество."
   ]
  },
  {
   "cell_type": "code",
   "execution_count": 309,
   "metadata": {},
   "outputs": [
    {
     "name": "stdout",
     "output_type": "stream",
     "text": [
      "rsme clf на обучающей выборке: 1275.62\n",
      "rsme clf на тестовой выборке: 1985.74\n"
     ]
    }
   ],
   "source": [
    "rsme_clf = mean_squared_error(y_test, clf_predictions) ** .5\n",
    "print('rsme clf на обучающей выборке: {:.2f}'.format(mean_squared_error(y_train, clf_model.predict(X_train)) ** .5))\n",
    "print('rsme clf на тестовой выборке: {:.2f}'.format(rsme_clf))"
   ]
  },
  {
   "cell_type": "markdown",
   "metadata": {},
   "source": [
    "### 3.3 REG<a id='the_destination06'></a>"
   ]
  },
  {
   "cell_type": "markdown",
   "metadata": {},
   "source": [
    "Засекаем время."
   ]
  },
  {
   "cell_type": "code",
   "execution_count": 310,
   "metadata": {},
   "outputs": [],
   "source": [
    "df_ohe = df.copy()\n",
    "df_ohe = pd.get_dummies(df_ohe, drop_first=True, columns=categorical_features)\n",
    "\n",
    "df_ohe_features = df_ohe.drop('price', axis=1)\n",
    "df_ohe_target = df_ohe.price\n",
    "\n",
    "scaler = MinMaxScaler()\n",
    "df_ohe = pd.DataFrame(scaler.fit_transform(df_ohe), index=df_ohe.index, columns = df_ohe.columns)\n",
    "\n",
    "X_train, X_test, y_train, y_test = train_test_split(df_ohe_features, df_ohe_target, random_state=state)"
   ]
  },
  {
   "cell_type": "code",
   "execution_count": 311,
   "metadata": {},
   "outputs": [
    {
     "name": "stdout",
     "output_type": "stream",
     "text": [
      "Время обучения reg-модели: 21.746\n"
     ]
    }
   ],
   "source": [
    "time_start = time.time()\n",
    "\n",
    "reg_model = LinearRegression()\n",
    "reg_model.fit(X_train, y_train)\n",
    "\n",
    "reg_train_time = time.time() - time_start\n",
    "print('Время обучения reg-модели: {:.3f}'.format(reg_train_time))"
   ]
  },
  {
   "cell_type": "code",
   "execution_count": 312,
   "metadata": {},
   "outputs": [
    {
     "name": "stdout",
     "output_type": "stream",
     "text": [
      "Время предсказания reg-модели: 0.145\n"
     ]
    }
   ],
   "source": [
    "time_start = time.time()\n",
    "\n",
    "reg_predictions = reg_model.predict(X_test)\n",
    "\n",
    "reg_prediction_time = time.time() - time_start\n",
    "print('Время предсказания reg-модели: {:.3}'.format(reg_prediction_time))"
   ]
  },
  {
   "cell_type": "markdown",
   "metadata": {},
   "source": [
    "Смотрим качество."
   ]
  },
  {
   "cell_type": "code",
   "execution_count": 313,
   "metadata": {},
   "outputs": [
    {
     "name": "stdout",
     "output_type": "stream",
     "text": [
      "rsme reg на обучающей выборке: 2818.40\n",
      "rsme reg на тестовой выборке: 2806.48\n"
     ]
    }
   ],
   "source": [
    "rsme_reg = mean_squared_error(y_test, reg_predictions) ** .5\n",
    "print('rsme reg на обучающей выборке: {:.2f}'.format(mean_squared_error(y_train, reg_model.predict(X_train)) ** .5))\n",
    "print('rsme reg на тестовой выборке: {:.2f}'.format(rsme_reg))"
   ]
  },
  {
   "cell_type": "markdown",
   "metadata": {},
   "source": [
    "Как бы переобучение, но, видимо, из-за специфики алгоритма, такое бывает. Чтобы этого избежать, можно повышать `n_neighbors` в разумных пределах."
   ]
  },
  {
   "cell_type": "markdown",
   "metadata": {},
   "source": [
    "### 3.4 Dummy<a id='the_destination07'></a>"
   ]
  },
  {
   "cell_type": "markdown",
   "metadata": {},
   "source": [
    "Проверяем на адекватность. "
   ]
  },
  {
   "cell_type": "code",
   "execution_count": 314,
   "metadata": {},
   "outputs": [
    {
     "name": "stdout",
     "output_type": "stream",
     "text": [
      "Время обучения dummy-модели: 0.003\n"
     ]
    }
   ],
   "source": [
    "time_start = time.time()\n",
    "\n",
    "dummy_model = DummyRegressor(strategy='median')\n",
    "\n",
    "dummy_model.fit(X_train, y_train)\n",
    "\n",
    "dummy_train_time = time.time() - time_start\n",
    "print('Время обучения dummy-модели: {:.3f}'.format(dummy_train_time))"
   ]
  },
  {
   "cell_type": "code",
   "execution_count": 315,
   "metadata": {},
   "outputs": [
    {
     "name": "stdout",
     "output_type": "stream",
     "text": [
      "Время предсказания dummy-модели: 0.000\n"
     ]
    }
   ],
   "source": [
    "time_start = time.time()\n",
    "\n",
    "dummy_predictions = dummy_model.predict(X_test)\n",
    "\n",
    "dummy_prediction_time = time.time() - time_start\n",
    "print('Время предсказания dummy-модели: {:.3f}'.format(dummy_prediction_time))"
   ]
  },
  {
   "cell_type": "code",
   "execution_count": 316,
   "metadata": {},
   "outputs": [
    {
     "name": "stdout",
     "output_type": "stream",
     "text": [
      "rsme dummy на обучающей выборке: 4875.01\n",
      "rsme dummy на тестовой выборке: 4910.48\n"
     ]
    }
   ],
   "source": [
    "rsme_dummy = mean_squared_error(y_test, dummy_predictions) ** .5\n",
    "\n",
    "print('rsme dummy на обучающей выборке: {:.2f}'.format(mean_squared_error(y_train, dummy_model.predict(X_train)) ** .5))\n",
    "print('rsme dummy на тестовой выборке: {:.2f}'.format(rsme_dummy))"
   ]
  },
  {
   "cell_type": "markdown",
   "metadata": {},
   "source": [
    "# 4. Вывод<a id='the_destination08'></a>"
   ]
  },
  {
   "cell_type": "code",
   "execution_count": 317,
   "metadata": {},
   "outputs": [],
   "source": [
    "results = pd.DataFrame({'quality': [rsme_lgb, rsme_clf, rsme_reg, rsme_dummy], \n",
    "                        'train_time': [lgb_train_time, clf_train_time, reg_train_time, dummy_train_time],\n",
    "                        'prediction_time': [lgb_prediction_time, clf_prediction_time, reg_prediction_time, dummy_prediction_time]},\n",
    "                       index=['lgb', 'clf', 'reg', 'dummy']\n",
    "                       )"
   ]
  },
  {
   "cell_type": "code",
   "execution_count": 318,
   "metadata": {},
   "outputs": [
    {
     "data": {
      "text/html": [
       "<div>\n",
       "<style scoped>\n",
       "    .dataframe tbody tr th:only-of-type {\n",
       "        vertical-align: middle;\n",
       "    }\n",
       "\n",
       "    .dataframe tbody tr th {\n",
       "        vertical-align: top;\n",
       "    }\n",
       "\n",
       "    .dataframe thead th {\n",
       "        text-align: right;\n",
       "    }\n",
       "</style>\n",
       "<table border=\"1\" class=\"dataframe\">\n",
       "  <thead>\n",
       "    <tr style=\"text-align: right;\">\n",
       "      <th></th>\n",
       "      <th>quality</th>\n",
       "      <th>train_time</th>\n",
       "      <th>prediction_time</th>\n",
       "    </tr>\n",
       "  </thead>\n",
       "  <tbody>\n",
       "    <tr>\n",
       "      <td>lgb</td>\n",
       "      <td>1866.258262</td>\n",
       "      <td>5.302299</td>\n",
       "      <td>0.297045</td>\n",
       "    </tr>\n",
       "    <tr>\n",
       "      <td>clf</td>\n",
       "      <td>1985.739676</td>\n",
       "      <td>1.424065</td>\n",
       "      <td>0.012510</td>\n",
       "    </tr>\n",
       "    <tr>\n",
       "      <td>reg</td>\n",
       "      <td>2806.475848</td>\n",
       "      <td>21.746031</td>\n",
       "      <td>0.144639</td>\n",
       "    </tr>\n",
       "    <tr>\n",
       "      <td>dummy</td>\n",
       "      <td>4910.477841</td>\n",
       "      <td>0.003033</td>\n",
       "      <td>0.000486</td>\n",
       "    </tr>\n",
       "  </tbody>\n",
       "</table>\n",
       "</div>"
      ],
      "text/plain": [
       "           quality  train_time  prediction_time\n",
       "lgb    1866.258262    5.302299         0.297045\n",
       "clf    1985.739676    1.424065         0.012510\n",
       "reg    2806.475848   21.746031         0.144639\n",
       "dummy  4910.477841    0.003033         0.000486"
      ]
     },
     "execution_count": 318,
     "metadata": {},
     "output_type": "execute_result"
    }
   ],
   "source": [
    "results.sort_values('quality')"
   ]
  },
  {
   "cell_type": "code",
   "execution_count": 319,
   "metadata": {},
   "outputs": [],
   "source": [
    "results.sort_values('quality', inplace=True)"
   ]
  },
  {
   "cell_type": "code",
   "execution_count": 320,
   "metadata": {},
   "outputs": [
    {
     "data": {
      "image/png": "[encoded data removed]",
      "text/plain": [
       "<Figure size 432x288 with 1 Axes>"
      ]
     },
     "metadata": {},
     "output_type": "display_data"
    }
   ],
   "source": [
    "bar_chart(results.quality, results.index, 'Качество')"
   ]
  },
  {
   "cell_type": "markdown",
   "metadata": {},
   "source": [
    "**Вывод** По качеству победил `lgb`. Все модели заметно лучше `dummy`."
   ]
  },
  {
   "cell_type": "code",
   "execution_count": 321,
   "metadata": {},
   "outputs": [
    {
     "data": {
      "text/html": [
       "<div>\n",
       "<style scoped>\n",
       "    .dataframe tbody tr th:only-of-type {\n",
       "        vertical-align: middle;\n",
       "    }\n",
       "\n",
       "    .dataframe tbody tr th {\n",
       "        vertical-align: top;\n",
       "    }\n",
       "\n",
       "    .dataframe thead th {\n",
       "        text-align: right;\n",
       "    }\n",
       "</style>\n",
       "<table border=\"1\" class=\"dataframe\">\n",
       "  <thead>\n",
       "    <tr style=\"text-align: right;\">\n",
       "      <th></th>\n",
       "      <th>quality</th>\n",
       "      <th>train_time</th>\n",
       "      <th>prediction_time</th>\n",
       "    </tr>\n",
       "  </thead>\n",
       "  <tbody>\n",
       "    <tr>\n",
       "      <td>dummy</td>\n",
       "      <td>4910.477841</td>\n",
       "      <td>0.003033</td>\n",
       "      <td>0.000486</td>\n",
       "    </tr>\n",
       "    <tr>\n",
       "      <td>clf</td>\n",
       "      <td>1985.739676</td>\n",
       "      <td>1.424065</td>\n",
       "      <td>0.012510</td>\n",
       "    </tr>\n",
       "    <tr>\n",
       "      <td>lgb</td>\n",
       "      <td>1866.258262</td>\n",
       "      <td>5.302299</td>\n",
       "      <td>0.297045</td>\n",
       "    </tr>\n",
       "    <tr>\n",
       "      <td>reg</td>\n",
       "      <td>2806.475848</td>\n",
       "      <td>21.746031</td>\n",
       "      <td>0.144639</td>\n",
       "    </tr>\n",
       "  </tbody>\n",
       "</table>\n",
       "</div>"
      ],
      "text/plain": [
       "           quality  train_time  prediction_time\n",
       "dummy  4910.477841    0.003033         0.000486\n",
       "clf    1985.739676    1.424065         0.012510\n",
       "lgb    1866.258262    5.302299         0.297045\n",
       "reg    2806.475848   21.746031         0.144639"
      ]
     },
     "execution_count": 321,
     "metadata": {},
     "output_type": "execute_result"
    }
   ],
   "source": [
    "results.sort_values('train_time')"
   ]
  },
  {
   "cell_type": "code",
   "execution_count": 322,
   "metadata": {},
   "outputs": [],
   "source": [
    "results.sort_values('train_time', inplace=True)"
   ]
  },
  {
   "cell_type": "code",
   "execution_count": 323,
   "metadata": {},
   "outputs": [
    {
     "data": {
      "image/png": "[encoded data removed]",
      "text/plain": [
       "<Figure size 432x288 with 1 Axes>"
      ]
     },
     "metadata": {},
     "output_type": "display_data"
    }
   ],
   "source": [
    "bar_chart(results.train_time, results.index, 'Время обучения')"
   ]
  },
  {
   "cell_type": "markdown",
   "metadata": {},
   "source": [
    "**Вывод** По времени обучения победил `dummy`, но это не считается. Великое ли дело, медиану посчитать. Среди адекватных моделей победила `lgb`. Ожидаемо, нет никаких итерационных процедур."
   ]
  },
  {
   "cell_type": "code",
   "execution_count": 324,
   "metadata": {},
   "outputs": [
    {
     "data": {
      "text/html": [
       "<div>\n",
       "<style scoped>\n",
       "    .dataframe tbody tr th:only-of-type {\n",
       "        vertical-align: middle;\n",
       "    }\n",
       "\n",
       "    .dataframe tbody tr th {\n",
       "        vertical-align: top;\n",
       "    }\n",
       "\n",
       "    .dataframe thead th {\n",
       "        text-align: right;\n",
       "    }\n",
       "</style>\n",
       "<table border=\"1\" class=\"dataframe\">\n",
       "  <thead>\n",
       "    <tr style=\"text-align: right;\">\n",
       "      <th></th>\n",
       "      <th>quality</th>\n",
       "      <th>train_time</th>\n",
       "      <th>prediction_time</th>\n",
       "    </tr>\n",
       "  </thead>\n",
       "  <tbody>\n",
       "    <tr>\n",
       "      <td>dummy</td>\n",
       "      <td>4910.477841</td>\n",
       "      <td>0.003033</td>\n",
       "      <td>0.000486</td>\n",
       "    </tr>\n",
       "    <tr>\n",
       "      <td>clf</td>\n",
       "      <td>1985.739676</td>\n",
       "      <td>1.424065</td>\n",
       "      <td>0.012510</td>\n",
       "    </tr>\n",
       "    <tr>\n",
       "      <td>reg</td>\n",
       "      <td>2806.475848</td>\n",
       "      <td>21.746031</td>\n",
       "      <td>0.144639</td>\n",
       "    </tr>\n",
       "    <tr>\n",
       "      <td>lgb</td>\n",
       "      <td>1866.258262</td>\n",
       "      <td>5.302299</td>\n",
       "      <td>0.297045</td>\n",
       "    </tr>\n",
       "  </tbody>\n",
       "</table>\n",
       "</div>"
      ],
      "text/plain": [
       "           quality  train_time  prediction_time\n",
       "dummy  4910.477841    0.003033         0.000486\n",
       "clf    1985.739676    1.424065         0.012510\n",
       "reg    2806.475848   21.746031         0.144639\n",
       "lgb    1866.258262    5.302299         0.297045"
      ]
     },
     "execution_count": 324,
     "metadata": {},
     "output_type": "execute_result"
    }
   ],
   "source": [
    "results.sort_values('prediction_time')"
   ]
  },
  {
   "cell_type": "code",
   "execution_count": 325,
   "metadata": {},
   "outputs": [],
   "source": [
    "results.sort_values('prediction_time', inplace=True)"
   ]
  },
  {
   "cell_type": "code",
   "execution_count": 326,
   "metadata": {},
   "outputs": [
    {
     "data": {
      "image/png": "[encoded data removed]",
      "text/plain": [
       "<Figure size 432x288 with 1 Axes>"
      ]
     },
     "metadata": {},
     "output_type": "display_data"
    }
   ],
   "source": [
    "bar_chart(results.prediction_time, results.index, 'Время предсказания')"
   ]
  },
  {
   "cell_type": "markdown",
   "metadata": {},
   "source": [
    "**Вывод** Предсказывает уже быстрее `clf` среди адекватных моделей. Предсказывает `reg` также заметно быстрее прямымми вычислениеями."
   ]
  },
  {
   "cell_type": "markdown",
   "metadata": {},
   "source": [
    "А кто сильнее по совокупности результатов? Приведём все результаты к одной шкале и положим, что качество в два раза важнее времени обучения и времени предсказания."
   ]
  },
  {
   "cell_type": "code",
   "execution_count": 327,
   "metadata": {},
   "outputs": [],
   "source": [
    "scaler = MinMaxScaler()\n",
    "results_final = pd.DataFrame(scaler.fit_transform(results), index=results.index, columns = results.columns)"
   ]
  },
  {
   "cell_type": "code",
   "execution_count": 328,
   "metadata": {},
   "outputs": [],
   "source": [
    "results_final['final'] = (2 * (1 - results_final['quality']) \n",
    "                          + (1 - results_final['train_time']) \n",
    "                          + (1 - results_final['prediction_time']))"
   ]
  },
  {
   "cell_type": "code",
   "execution_count": 329,
   "metadata": {},
   "outputs": [
    {
     "data": {
      "text/html": [
       "<div>\n",
       "<style scoped>\n",
       "    .dataframe tbody tr th:only-of-type {\n",
       "        vertical-align: middle;\n",
       "    }\n",
       "\n",
       "    .dataframe tbody tr th {\n",
       "        vertical-align: top;\n",
       "    }\n",
       "\n",
       "    .dataframe thead th {\n",
       "        text-align: right;\n",
       "    }\n",
       "</style>\n",
       "<table border=\"1\" class=\"dataframe\">\n",
       "  <thead>\n",
       "    <tr style=\"text-align: right;\">\n",
       "      <th></th>\n",
       "      <th>quality</th>\n",
       "      <th>train_time</th>\n",
       "      <th>prediction_time</th>\n",
       "      <th>final</th>\n",
       "    </tr>\n",
       "  </thead>\n",
       "  <tbody>\n",
       "    <tr>\n",
       "      <td>clf</td>\n",
       "      <td>0.039249</td>\n",
       "      <td>0.065356</td>\n",
       "      <td>0.040544</td>\n",
       "      <td>3.815603</td>\n",
       "    </tr>\n",
       "    <tr>\n",
       "      <td>lgb</td>\n",
       "      <td>0.000000</td>\n",
       "      <td>0.243723</td>\n",
       "      <td>1.000000</td>\n",
       "      <td>2.756277</td>\n",
       "    </tr>\n",
       "    <tr>\n",
       "      <td>dummy</td>\n",
       "      <td>1.000000</td>\n",
       "      <td>0.000000</td>\n",
       "      <td>0.000000</td>\n",
       "      <td>2.000000</td>\n",
       "    </tr>\n",
       "    <tr>\n",
       "      <td>reg</td>\n",
       "      <td>0.308853</td>\n",
       "      <td>1.000000</td>\n",
       "      <td>0.486083</td>\n",
       "      <td>1.896210</td>\n",
       "    </tr>\n",
       "  </tbody>\n",
       "</table>\n",
       "</div>"
      ],
      "text/plain": [
       "        quality  train_time  prediction_time     final\n",
       "clf    0.039249    0.065356         0.040544  3.815603\n",
       "lgb    0.000000    0.243723         1.000000  2.756277\n",
       "dummy  1.000000    0.000000         0.000000  2.000000\n",
       "reg    0.308853    1.000000         0.486083  1.896210"
      ]
     },
     "execution_count": 329,
     "metadata": {},
     "output_type": "execute_result"
    }
   ],
   "source": [
    "results_final.sort_values('final', ascending=False)"
   ]
  },
  {
   "cell_type": "code",
   "execution_count": 330,
   "metadata": {},
   "outputs": [],
   "source": [
    "results_final.sort_values('final', ascending=False, inplace=True)"
   ]
  },
  {
   "cell_type": "code",
   "execution_count": 331,
   "metadata": {},
   "outputs": [
    {
     "data": {
      "image/png": "[encoded data removed]",
      "text/plain": [
       "<Figure size 432x288 with 1 Axes>"
      ]
     },
     "metadata": {},
     "output_type": "display_data"
    }
   ],
   "source": [
    "bar_chart(results_final.final, results_final.index, 'Финал')"
   ]
  },
  {
   "cell_type": "markdown",
   "metadata": {},
   "source": [
    "**Вывод** Модель `clf` победила, набрав из 4 возможных балла 2.89. `lgb` отстала из-за сравнительно невысокой скорости работы, при этом показав лучший результат по предсказанию."
   ]
  }
 ],
 "metadata": {
  "kernelspec": {
   "display_name": "Python 3",
   "language": "python",
   "name": "python3"
  },
  "language_info": {
   "codemirror_mode": {
    "name": "ipython",
    "version": 3
   },
   "file_extension": ".py",
   "mimetype": "text/x-python",
   "name": "python",
   "nbconvert_exporter": "python",
   "pygments_lexer": "ipython3",
   "version": "3.7.9"
  }
 },
 "nbformat": 4,
 "nbformat_minor": 4
}
