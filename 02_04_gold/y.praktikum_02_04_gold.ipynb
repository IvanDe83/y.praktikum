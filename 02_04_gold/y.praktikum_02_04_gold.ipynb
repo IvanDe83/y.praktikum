{
 "cells": [
  {
   "cell_type": "markdown",
   "metadata": {},
   "source": [
    "# Описание проекта\n",
    "\n",
    "Подготовьте прототип модели машинного обучения для «Цифры». Компания разрабатывает решения для эффективной работы промышленных предприятий.\n",
    "\n",
    "Модель должна предсказать коэффициент восстановления золота из золотосодержащей руды. В вашем распоряжении данные с параметрами добычи и очистки. \n",
    "\n",
    "Модель поможет оптимизировать производство, чтобы не запускать предприятие с убыточными характеристиками.\n",
    "\n",
    "Вам нужно:\n",
    "\n",
    "1. Подготовить данные;\n",
    "2. Провести исследовательский анализ данных;\n",
    "3. Построить и обучить модель.\n",
    "\n",
    "Чтобы выполнить проект, обращайтесь к библиотекам *pandas*, *matplotlib* и *sklearn.* Вам поможет их документация.\n",
    "\n",
    "Содержание:\n",
    "\n",
    "1. [Изучаем данные](#the_destination01)\n",
    "    - 1.1 [Загружаем данные и библиотеки](#the_destination01.1)\n",
    "    - 1.2 [Признаки, недоступные в тестовой выборке](#the_destination01.2)\n",
    "    - 1.3 [Эффективность обогащения посчитана правильно?](#the_destination01.3)\n",
    "    \n",
    "2. [Анализ данных](#the_destination02)\n",
    "    - 2.1 [Как меняется концентрация металлов (Au, Ag, Pb) на различных этапах очистки](#the_destination02.1)\n",
    "    - 2.2 [Сравнение распределения размеров гранул сырья](#the_destination02.2)\n",
    "    - 2.3 [Суммарная концентрация веществ](#the_destination02.3)\n",
    "    \n",
    "3. [Прогноз rougher.recovery](#the_destination03)\n",
    "    - 3.1 [Подготовка данных](#the_destination03.1)\n",
    "    - 3.2 [Поиск оптимальной модели](#the_destination03.2)\n",
    "\n",
    "4. [Прогноз final.recovery](#the_destination04)\n",
    "    - 4.1 [Подготовка данных](#the_destination04.1)\n",
    "    - 4.2 [Поиск оптимальной модели](#the_destination04.2)\n",
    "    \n",
    "5. [Вывод](#the_destination05)"
   ]
  },
  {
   "cell_type": "markdown",
   "metadata": {},
   "source": [
    "# 1. Подготовка данных <a id='the_destination01'></a>"
   ]
  },
  {
   "cell_type": "markdown",
   "metadata": {},
   "source": [
    "## 1.1 Загружаем данные и библиотеки <a id='the_destination01.1'></a>"
   ]
  },
  {
   "cell_type": "code",
   "execution_count": 145,
   "metadata": {},
   "outputs": [],
   "source": [
    "import pandas as pd\n",
    "import numpy as np\n",
    "\n",
    "from sklearn.dummy import DummyRegressor\n",
    "from sklearn.ensemble import GradientBoostingRegressor\n",
    "from sklearn.metrics import mean_absolute_error, make_scorer\n",
    "from sklearn.model_selection import GridSearchCV\n",
    "from sklearn.preprocessing import StandardScaler\n",
    "from sklearn.svm import SVR\n",
    "\n",
    "import matplotlib.pyplot as plt\n",
    "import seaborn as sns\n",
    "\n",
    "from scipy.stats import kruskal\n",
    "\n",
    "train = pd.read_csv('/datasets/gold_recovery_train.csv')\n",
    "test = pd.read_csv('/datasets/gold_recovery_test.csv')\n",
    "full = pd.read_csv('/datasets/gold_recovery_full.csv')\n",
    "\n",
    "state = np.random.RandomState(21)\n",
    "sns.set()"
   ]
  },
  {
   "cell_type": "markdown",
   "metadata": {},
   "source": [
    "Старая функция `column_info` показывает информацию по столбцу."
   ]
  },
  {
   "cell_type": "code",
   "execution_count": 146,
   "metadata": {},
   "outputs": [],
   "source": [
    "def column_info(data, column, quantitative=False, mean=True, median=True, hist=True, bins=50):    \n",
    "    lost = data[column].isna().sum() #смотрим количество пропусков\n",
    "    total = data.shape[0] #длина всех значений переменной\n",
    "    print()\n",
    "    print('*** Информация по столбцу {} ***'.format(column))\n",
    "    print()\n",
    "    print('Тип данных столбца {}: {}:'.format(column, data[column].dtype))\n",
    "    print('В столбце {} пропущено {} из {} строк, что составляет {:.2%}'\n",
    "          .format(column, lost, total, lost / total)) #считаем процент пропусков\n",
    "    if quantitative:        \n",
    "        print('Минимальное значение: {:.2f}'.format(data[column].min()))\n",
    "        print('Максимальное значение: {:.2f}'.format(data[column].max()))\n",
    "        if mean:\n",
    "            print('Среднее значение: {:.2f}'.format(data[column].mean()))\n",
    "        if median:\n",
    "            print('Медианное значение: {:.2f}'.format(data[column].median()))\n",
    "        if hist:\n",
    "            gridsize = (5, 1)\n",
    "            fig = plt.figure(figsize=(15, 5))\n",
    "            ax1 = plt.subplot2grid(gridsize, (0, 0))\n",
    "            ax2 = plt.subplot2grid(gridsize, (1, 0), rowspan=4)                       \n",
    "            sns.boxplot(data[column], ax=ax1)            \n",
    "            sns.distplot(data[column], kde=False, bins=bins, ax=ax2)            \n",
    "            ax1.get_xaxis().set_visible(False)            \n",
    "            plt.show()                        \n",
    "    else:\n",
    "        print()\n",
    "        print('Количество значений в каждой из категорий:')\n",
    "        print(data[column].value_counts())        \n",
    "    print()"
   ]
  },
  {
   "cell_type": "markdown",
   "metadata": {},
   "source": [
    "Функция `bar_chart` выводит информацию с помощью баров в минималистичном виде."
   ]
  },
  {
   "cell_type": "code",
   "execution_count": 147,
   "metadata": {},
   "outputs": [],
   "source": [
    "def bar_chart(array, column_names, title, color='teal', figsize=(6,4)):\n",
    "    plt.figure(figsize=figsize)    \n",
    "    n = len(array)\n",
    "    \n",
    "    bars = plt.bar(np.arange(n), array, color=color)\n",
    "    \n",
    "    for bar in bars:\n",
    "        height = bar.get_height()\n",
    "        plt.gca().text(bar.get_x() + bar.get_width()/2, height*.90, '{0:.{1}f}'.format(height, 2), \n",
    "                     ha='center', color='w', fontsize=11)\n",
    "\n",
    "    plt.tick_params(which='both', bottom=False, top=False, left=False, right=False, labelbottom=True) \n",
    "    \n",
    "    for spine in plt.gca().spines.values():\n",
    "        spine.set_visible(False)\n",
    "\n",
    "    plt.xticks(range(n), column_names, alpha=0.8);\n",
    "    plt.title(title, alpha=0.8)"
   ]
  },
  {
   "cell_type": "markdown",
   "metadata": {},
   "source": [
    "Годится ли переменная `date` на роль индекса?"
   ]
  },
  {
   "cell_type": "code",
   "execution_count": 148,
   "metadata": {},
   "outputs": [
    {
     "data": {
      "text/plain": [
       "False"
      ]
     },
     "execution_count": 148,
     "metadata": {},
     "output_type": "execute_result"
    }
   ],
   "source": [
    "train['date'].duplicated().any()"
   ]
  },
  {
   "cell_type": "code",
   "execution_count": 149,
   "metadata": {},
   "outputs": [
    {
     "data": {
      "text/plain": [
       "False"
      ]
     },
     "execution_count": 149,
     "metadata": {},
     "output_type": "execute_result"
    }
   ],
   "source": [
    "test['date'].duplicated().any()"
   ]
  },
  {
   "cell_type": "code",
   "execution_count": 150,
   "metadata": {},
   "outputs": [
    {
     "data": {
      "text/plain": [
       "False"
      ]
     },
     "execution_count": 150,
     "metadata": {},
     "output_type": "execute_result"
    }
   ],
   "source": [
    "full['date'].duplicated().any()"
   ]
  },
  {
   "cell_type": "markdown",
   "metadata": {},
   "source": [
    "Мы видим, что для каждой выборки значения для строк `date` уникальны."
   ]
  },
  {
   "cell_type": "code",
   "execution_count": 151,
   "metadata": {},
   "outputs": [
    {
     "data": {
      "text/plain": [
       "0"
      ]
     },
     "execution_count": 151,
     "metadata": {},
     "output_type": "execute_result"
    }
   ],
   "source": [
    "len(np.intersect1d(train['date'], test['date']))"
   ]
  },
  {
   "cell_type": "markdown",
   "metadata": {},
   "source": [
    "Смотрим, есть ли одинаковые значения `date` в df `train` и `test`. Их нет."
   ]
  },
  {
   "cell_type": "code",
   "execution_count": 152,
   "metadata": {},
   "outputs": [
    {
     "data": {
      "text/plain": [
       "True"
      ]
     },
     "execution_count": 152,
     "metadata": {},
     "output_type": "execute_result"
    }
   ],
   "source": [
    "len(np.intersect1d(train['date'], full['date'])) == len(train)"
   ]
  },
  {
   "cell_type": "markdown",
   "metadata": {},
   "source": [
    "Все ли значения `date` из `train` присутствуют в `full`? Все."
   ]
  },
  {
   "cell_type": "code",
   "execution_count": 153,
   "metadata": {},
   "outputs": [
    {
     "data": {
      "text/plain": [
       "True"
      ]
     },
     "execution_count": 153,
     "metadata": {},
     "output_type": "execute_result"
    }
   ],
   "source": [
    "len(np.intersect1d(test['date'], full['date'])) == len(test)"
   ]
  },
  {
   "cell_type": "markdown",
   "metadata": {},
   "source": [
    "Все ли значения `date` из `test` присутствуют в `full`? Все.\n",
    "\n",
    "**Вывод** Столбец `date` годится в качестве индекса.\n",
    "\n",
    "Переводим даты в соответствующий формат и устанавливаем в качестве индексов `date`:"
   ]
  },
  {
   "cell_type": "code",
   "execution_count": 154,
   "metadata": {},
   "outputs": [],
   "source": [
    "train['date'] = pd.to_datetime(train['date'], format='%Y-%m-%d %H:%M:%S')\n",
    "test['date'] = pd.to_datetime(test['date'], format='%Y-%m-%d %H:%M:%S')\n",
    "full['date'] = pd.to_datetime(full['date'], format='%Y-%m-%d %H:%M:%S')\n",
    "train.set_index('date', inplace=True)\n",
    "test.set_index('date', inplace=True)\n",
    "full.set_index('date', inplace=True)"
   ]
  },
  {
   "cell_type": "markdown",
   "metadata": {},
   "source": [
    "## 1.2 Признаки, недоступные в тестовой выборке <a id='the_destination01.2'></a>"
   ]
  },
  {
   "cell_type": "markdown",
   "metadata": {},
   "source": [
    "Какие переменные отсутствуют в test, которые есть в train?"
   ]
  },
  {
   "cell_type": "code",
   "execution_count": 155,
   "metadata": {
    "scrolled": false
   },
   "outputs": [
    {
     "data": {
      "text/plain": [
       "['final.output.concentrate_ag',\n",
       " 'final.output.concentrate_pb',\n",
       " 'final.output.concentrate_sol',\n",
       " 'final.output.concentrate_au',\n",
       " 'final.output.recovery',\n",
       " 'final.output.tail_ag',\n",
       " 'final.output.tail_pb',\n",
       " 'final.output.tail_sol',\n",
       " 'final.output.tail_au',\n",
       " 'primary_cleaner.output.concentrate_ag',\n",
       " 'primary_cleaner.output.concentrate_pb',\n",
       " 'primary_cleaner.output.concentrate_sol',\n",
       " 'primary_cleaner.output.concentrate_au',\n",
       " 'primary_cleaner.output.tail_ag',\n",
       " 'primary_cleaner.output.tail_pb',\n",
       " 'primary_cleaner.output.tail_sol',\n",
       " 'primary_cleaner.output.tail_au',\n",
       " 'rougher.calculation.sulfate_to_au_concentrate',\n",
       " 'rougher.calculation.floatbank10_sulfate_to_au_feed',\n",
       " 'rougher.calculation.floatbank11_sulfate_to_au_feed',\n",
       " 'rougher.calculation.au_pb_ratio',\n",
       " 'rougher.output.concentrate_ag',\n",
       " 'rougher.output.concentrate_pb',\n",
       " 'rougher.output.concentrate_sol',\n",
       " 'rougher.output.concentrate_au',\n",
       " 'rougher.output.recovery',\n",
       " 'rougher.output.tail_ag',\n",
       " 'rougher.output.tail_pb',\n",
       " 'rougher.output.tail_sol',\n",
       " 'rougher.output.tail_au',\n",
       " 'secondary_cleaner.output.tail_ag',\n",
       " 'secondary_cleaner.output.tail_pb',\n",
       " 'secondary_cleaner.output.tail_sol',\n",
       " 'secondary_cleaner.output.tail_au']"
      ]
     },
     "execution_count": 155,
     "metadata": {},
     "output_type": "execute_result"
    }
   ],
   "source": [
    "difference_vars = [i for i in train.columns.to_list() if i not in test.columns.to_list()]\n",
    "difference_vars"
   ]
  },
  {
   "cell_type": "markdown",
   "metadata": {},
   "source": [
    "**Вывод** Эти параметры получаются в результате вычислений и результат действия процессов. То есть, чтобы не было утечек обучающей выборке их видеть не надо.\n",
    "\n",
    "Запоминаем обучающие переменные:"
   ]
  },
  {
   "cell_type": "code",
   "execution_count": 156,
   "metadata": {},
   "outputs": [],
   "source": [
    "features_var = test.columns"
   ]
  },
  {
   "cell_type": "markdown",
   "metadata": {},
   "source": [
    "Возьмём из `full` переменные для `test`:"
   ]
  },
  {
   "cell_type": "code",
   "execution_count": 157,
   "metadata": {},
   "outputs": [],
   "source": [
    "test = test.join(full[difference_vars])"
   ]
  },
  {
   "cell_type": "code",
   "execution_count": 158,
   "metadata": {},
   "outputs": [
    {
     "data": {
      "text/plain": [
       "(5856, 86)"
      ]
     },
     "execution_count": 158,
     "metadata": {},
     "output_type": "execute_result"
    }
   ],
   "source": [
    "test.shape"
   ]
  },
  {
   "cell_type": "code",
   "execution_count": 159,
   "metadata": {},
   "outputs": [
    {
     "name": "stdout",
     "output_type": "stream",
     "text": [
      "Процент пропущенных значений в train: 2.09%\n",
      "Процент пропущенных значений в train: 2.09%\n",
      "\n",
      "Процент пропущенных значений в test: 1.24%\n",
      "Процент пропущенных значений в test: 1.24%\n"
     ]
    }
   ],
   "source": [
    "print('Процент пропущенных значений в train: {:.2%}'.format(train.isna().sum().sum() / (train.shape[0] * train.shape[1])))\n",
    "train.fillna(full, inplace=True)\n",
    "print('Процент пропущенных значений в train: {:.2%}'.format(train.isna().sum().sum() / (train.shape[0] * train.shape[1])))\n",
    "print()\n",
    "print('Процент пропущенных значений в test: {:.2%}'.format(test.isna().sum().sum() / (test.shape[0] * test.shape[1])))\n",
    "test.fillna(full, inplace=True)\n",
    "print('Процент пропущенных значений в test: {:.2%}'.format(test.isna().sum().sum() / (test.shape[0] * test.shape[1])))"
   ]
  },
  {
   "cell_type": "markdown",
   "metadata": {},
   "source": [
    "**Вывод** Заполнение пропущенных значений в `train` и `test` из `full` никак не помогло."
   ]
  },
  {
   "cell_type": "markdown",
   "metadata": {},
   "source": [
    "## 1.3 Эффективность обогащения посчитана правильно? <a id='the_destination01.3'></a>"
   ]
  },
  {
   "cell_type": "markdown",
   "metadata": {},
   "source": [
    "Функция `recovery_calculation` вычисляет значение бизнес-метрики `recovery` для каждой отдельной строчки."
   ]
  },
  {
   "cell_type": "code",
   "execution_count": 160,
   "metadata": {},
   "outputs": [],
   "source": [
    "def recovery_calculation(row):    \n",
    "    c = row['rougher.output.concentrate_au'] / 100\n",
    "    f = row['rougher.input.feed_au'] / 100\n",
    "    t = row['rougher.output.tail_au'] / 100\n",
    "        \n",
    "    if f * (c - t) != 0:\n",
    "        recovery = c * (f - t) / (f * (c - t)) * 100\n",
    "        row['rougher.output.recovery_check'] = recovery\n",
    "    else:\n",
    "        row['rougher.output.recovery_check'] = np.nan \n",
    "    \n",
    "    return row"
   ]
  },
  {
   "cell_type": "markdown",
   "metadata": {},
   "source": [
    "Вычисляем `recovery` в соответствии с формулой и проверяем, соответствует ли оно уже предоставленному метрикой `mae`."
   ]
  },
  {
   "cell_type": "code",
   "execution_count": 161,
   "metadata": {},
   "outputs": [
    {
     "data": {
      "text/plain": [
       "1.2610383561665586e-14"
      ]
     },
     "execution_count": 161,
     "metadata": {},
     "output_type": "execute_result"
    }
   ],
   "source": [
    "train = train.apply(recovery_calculation, axis=1)\n",
    "train_for_mean = train[train['rougher.output.recovery'].notna() & train['rougher.output.recovery_check'].notna()]\n",
    "mean_absolute_error(train_for_mean['rougher.output.recovery'], train_for_mean['rougher.output.recovery_check'])"
   ]
  },
  {
   "cell_type": "markdown",
   "metadata": {},
   "source": [
    "**Вывод** Данные по `recovery` в `rougher` df `train` предоставлены корректно."
   ]
  },
  {
   "cell_type": "markdown",
   "metadata": {},
   "source": [
    "# 2. Анализ данных <a id='the_destination02'></a>"
   ]
  },
  {
   "cell_type": "markdown",
   "metadata": {},
   "source": [
    "## 2.1 Как меняется концентрация металлов (Au, Ag, Pb) на различных этапах очистки <a id='the_destination02.1'></a>"
   ]
  },
  {
   "cell_type": "markdown",
   "metadata": {},
   "source": [
    "Смотрим как меняется концентразия `au` на разных этапах процесса."
   ]
  },
  {
   "cell_type": "code",
   "execution_count": 162,
   "metadata": {},
   "outputs": [
    {
     "data": {
      "image/png": "[encoded data removed]",
      "text/plain": [
       "<Figure size 432x288 with 1 Axes>"
      ]
     },
     "metadata": {},
     "output_type": "display_data"
    }
   ],
   "source": [
    "data = [full['rougher.output.concentrate_au'].mean(),\n",
    "        full['primary_cleaner.output.concentrate_au'].mean(),\n",
    "        full['final.output.concentrate_au'].mean()\n",
    "       ]\n",
    "column_names = ['rougher', 'primary', 'final']\n",
    "\n",
    "bar_chart(data, column_names, 'concentrate_au')"
   ]
  },
  {
   "cell_type": "markdown",
   "metadata": {},
   "source": [
    "**Вывод** Концентрация золота увеличивается, для этого всё и делается.\n",
    "\n",
    "Смотрим как меняется концентразия `ag` на разных этапах процесса."
   ]
  },
  {
   "cell_type": "code",
   "execution_count": 163,
   "metadata": {},
   "outputs": [
    {
     "data": {
      "image/png": "[encoded data removed]",
      "text/plain": [
       "<Figure size 432x288 with 1 Axes>"
      ]
     },
     "metadata": {},
     "output_type": "display_data"
    }
   ],
   "source": [
    "data = [full['rougher.output.concentrate_ag'].mean(),\n",
    "        full['primary_cleaner.output.concentrate_ag'].mean(),\n",
    "        full['final.output.concentrate_ag'].mean()\n",
    "       ]\n",
    "column_names = ['rougher', 'primary', 'final']\n",
    "\n",
    "bar_chart(data, column_names, 'concentrate_ag')"
   ]
  },
  {
   "cell_type": "markdown",
   "metadata": {},
   "source": [
    "**Вывод** Концентрация серебра уменьшается, так как мы стремимся получить золото.\n",
    "\n",
    "Смотрим как меняется концентразия `pb` на разных этапах процесса."
   ]
  },
  {
   "cell_type": "code",
   "execution_count": 164,
   "metadata": {},
   "outputs": [
    {
     "data": {
      "image/png": "[encoded data removed]",
      "text/plain": [
       "<Figure size 432x288 with 1 Axes>"
      ]
     },
     "metadata": {},
     "output_type": "display_data"
    }
   ],
   "source": [
    "data = [full['rougher.output.concentrate_pb'].mean(),\n",
    "        full['primary_cleaner.output.concentrate_pb'].mean(),\n",
    "        full['final.output.concentrate_pb'].mean()\n",
    "       ]\n",
    "\n",
    "column_names = ['rougher', 'primary', 'final']\n",
    "\n",
    "bar_chart(data, column_names, 'concentrate_pb')"
   ]
  },
  {
   "cell_type": "markdown",
   "metadata": {},
   "source": [
    "**Вывод** Концентрация свинца увеличивается, но не сильно. Наверное, это не очень хорошо для процесса, но неизбежно."
   ]
  },
  {
   "cell_type": "markdown",
   "metadata": {},
   "source": [
    "## 2.2 Сравнение распределения размеров гранул сырья <a id='the_destination02.2'></a>"
   ]
  },
  {
   "cell_type": "markdown",
   "metadata": {},
   "source": [
    "Фунция `single_trimmer` избавляется от выбросов в смысле `boxplot`. Нужно нам это затем, чтобы точнее оценить распределения."
   ]
  },
  {
   "cell_type": "code",
   "execution_count": 165,
   "metadata": {},
   "outputs": [],
   "source": [
    "def single_trimmer(array, k=1.5):    \n",
    "    left_quantile = np.quantile(array, 0.25)\n",
    "    right_quantile = np.quantile(array, 0.75)\n",
    "    left_whisker = left_quantile - k * (right_quantile - left_quantile)\n",
    "    right_whisker = right_quantile + k * (right_quantile - left_quantile)\n",
    "    return array[(array >= left_whisker) & (array <= right_whisker)]"
   ]
  },
  {
   "cell_type": "markdown",
   "metadata": {},
   "source": [
    "Формируем распределения без пропусков и выбросов."
   ]
  },
  {
   "cell_type": "code",
   "execution_count": 166,
   "metadata": {},
   "outputs": [],
   "source": [
    "train_distr = single_trimmer(train['rougher.input.feed_size'].dropna())\n",
    "test_distr = single_trimmer(test['rougher.input.feed_size'].dropna())"
   ]
  },
  {
   "cell_type": "markdown",
   "metadata": {},
   "source": [
    "**Вывод** Как мы видим, визуально они заметно отличаются при этом не сильно похожи на нормальные."
   ]
  },
  {
   "cell_type": "code",
   "execution_count": 167,
   "metadata": {},
   "outputs": [
    {
     "data": {
      "image/png": "[encoded data removed]",
      "text/plain": [
       "<Figure size 1080x720 with 1 Axes>"
      ]
     },
     "metadata": {},
     "output_type": "display_data"
    }
   ],
   "source": [
    "plt.figure(figsize=(15, 10))\n",
    "sns.distplot(train_distr, bins=50, kde=False, label='Размер гранул в обучающей выборке')\n",
    "sns.distplot(test_distr, bins=50, kde=False, label='Размер гранул в тестовой выборке')\n",
    "plt.title('Распределение размеров гранул сырья на обучающей и тестовой выборках', fontsize=16)\n",
    "plt.xlabel('Размер гранул')\n",
    "plt.ylabel('Кол-во наблюдений')\n",
    "plt.legend()\n",
    "plt.show()"
   ]
  },
  {
   "cell_type": "code",
   "execution_count": 168,
   "metadata": {},
   "outputs": [
    {
     "name": "stdout",
     "output_type": "stream",
     "text": [
      "Средний размер гранулы в train: 58.68\n",
      "Средний размер гранулы в train: 55.94\n"
     ]
    }
   ],
   "source": [
    "print('Средний размер гранулы в train: {:.2f}'.format(train['rougher.input.feed_size'].mean()))\n",
    "print('Средний размер гранулы в train: {:.2f}'.format(test['rougher.input.feed_size'].mean()))"
   ]
  },
  {
   "cell_type": "markdown",
   "metadata": {},
   "source": [
    "**Вывод** А вот средние разметры гранул отличаются незначительно.\n",
    "\n",
    "Для того, чтобы ответить на вопрос, из одной генеральной совокупности взяты эти две выборки, воспользуемся критерием Краскела."
   ]
  },
  {
   "cell_type": "code",
   "execution_count": 169,
   "metadata": {},
   "outputs": [
    {
     "name": "stdout",
     "output_type": "stream",
     "text": [
      "p-значение:  8.225897693468535e-83\n"
     ]
    }
   ],
   "source": [
    "results = kruskal(train_distr, test_distr)\n",
    "print('p-значение: ', results.pvalue)"
   ]
  },
  {
   "cell_type": "markdown",
   "metadata": {},
   "source": [
    "**Вывод** Распределение выборок отличается. Что это значит? Неудачно разбили `full` на `train` и `test`. По-хорошему, нужно ещё раз с помощью `train_test_split` сделать это. Но у нас выборки уже готовы. Будем работать с тем, что дают. Как будет видно ниже, на результатах это сильно не сказалось."
   ]
  },
  {
   "cell_type": "markdown",
   "metadata": {},
   "source": [
    "## 2.3 Суммарная концентрация веществ <a id='the_destination02.3'></a>"
   ]
  },
  {
   "cell_type": "markdown",
   "metadata": {},
   "source": [
    "Суммарная концентрация всех веществ в на стадии `rougher` в выборке `train`."
   ]
  },
  {
   "cell_type": "code",
   "execution_count": 170,
   "metadata": {},
   "outputs": [
    {
     "name": "stdout",
     "output_type": "stream",
     "text": [
      "\n",
      "*** Информация по столбцу rougher.output.concentrate_sum ***\n",
      "\n",
      "Тип данных столбца rougher.output.concentrate_sum: float64:\n",
      "В столбце rougher.output.concentrate_sum пропущено 162 из 16860 строк, что составляет 0.96%\n",
      "Минимальное значение: 0.00\n",
      "Максимальное значение: 90.96\n",
      "Среднее значение: 60.31\n",
      "Медианное значение: 68.41\n"
     ]
    },
    {
     "data": {
      "image/png": "[encoded data removed]",
      "text/plain": [
       "<Figure size 1080x360 with 2 Axes>"
      ]
     },
     "metadata": {},
     "output_type": "display_data"
    },
    {
     "name": "stdout",
     "output_type": "stream",
     "text": [
      "\n"
     ]
    }
   ],
   "source": [
    "train['rougher.output.concentrate_sum'] = (train['rougher.output.concentrate_ag'] + \n",
    "                                           train['rougher.output.concentrate_pb'] + \n",
    "                                           train['rougher.output.concentrate_sol'] + \n",
    "                                           train['rougher.output.concentrate_au']\n",
    "                                          )\n",
    "\n",
    "column_info(train, 'rougher.output.concentrate_sum', quantitative=True)"
   ]
  },
  {
   "cell_type": "markdown",
   "metadata": {},
   "source": [
    "Суммарная концентрация всех веществ в на стадии `primary_cleaner` в выборке `train`."
   ]
  },
  {
   "cell_type": "code",
   "execution_count": 171,
   "metadata": {},
   "outputs": [
    {
     "name": "stdout",
     "output_type": "stream",
     "text": [
      "\n",
      "*** Информация по столбцу primary_cleaner.output.concentrate_sum ***\n",
      "\n",
      "Тип данных столбца primary_cleaner.output.concentrate_sum: float64:\n",
      "В столбце primary_cleaner.output.concentrate_sum пропущено 636 из 16860 строк, что составляет 3.77%\n",
      "Минимальное значение: 0.00\n",
      "Максимальное значение: 76.92\n",
      "Среднее значение: 54.44\n",
      "Медианное значение: 61.28\n"
     ]
    },
    {
     "data": {
      "image/png": "[encoded data removed]",
      "text/plain": [
       "<Figure size 1080x360 with 2 Axes>"
      ]
     },
     "metadata": {},
     "output_type": "display_data"
    },
    {
     "name": "stdout",
     "output_type": "stream",
     "text": [
      "\n"
     ]
    }
   ],
   "source": [
    "train['primary_cleaner.output.concentrate_sum'] = (train['primary_cleaner.output.concentrate_ag'] + \n",
    "                                                   train['primary_cleaner.output.concentrate_pb'] + \n",
    "                                                   train['primary_cleaner.output.concentrate_sol'] + \n",
    "                                                   train['primary_cleaner.output.concentrate_au']\n",
    "                                                  )\n",
    "\n",
    "column_info(train, 'primary_cleaner.output.concentrate_sum', quantitative=True)"
   ]
  },
  {
   "cell_type": "markdown",
   "metadata": {},
   "source": [
    "Суммарная концентрация всех веществ в на стадии `final` в выборке `train`."
   ]
  },
  {
   "cell_type": "code",
   "execution_count": 172,
   "metadata": {},
   "outputs": [
    {
     "name": "stdout",
     "output_type": "stream",
     "text": [
      "\n",
      "*** Информация по столбцу final.output.concentrate_sum ***\n",
      "\n",
      "Тип данных столбца final.output.concentrate_sum: float64:\n",
      "В столбце final.output.concentrate_sum пропущено 371 из 16860 строк, что составляет 2.20%\n",
      "Минимальное значение: 0.00\n",
      "Максимальное значение: 80.21\n",
      "Среднее значение: 61.52\n",
      "Медианное значение: 68.86\n"
     ]
    },
    {
     "data": {
      "image/png": "[encoded data removed]",
      "text/plain": [
       "<Figure size 1080x360 with 2 Axes>"
      ]
     },
     "metadata": {},
     "output_type": "display_data"
    },
    {
     "name": "stdout",
     "output_type": "stream",
     "text": [
      "\n"
     ]
    }
   ],
   "source": [
    "train['final.output.concentrate_sum'] = (train['final.output.concentrate_ag'] + \n",
    "                                         train['final.output.concentrate_pb'] + \n",
    "                                         train['final.output.concentrate_sol'] + \n",
    "                                         train['final.output.concentrate_au']\n",
    "                                         )\n",
    "\n",
    "column_info(train, 'final.output.concentrate_sum', quantitative=True)"
   ]
  },
  {
   "cell_type": "markdown",
   "metadata": {},
   "source": [
    "Суммарная концентрация всех веществ в на стадии `rougher` в выборке `test`."
   ]
  },
  {
   "cell_type": "code",
   "execution_count": 173,
   "metadata": {},
   "outputs": [
    {
     "name": "stdout",
     "output_type": "stream",
     "text": [
      "\n",
      "*** Информация по столбцу rougher.output.concentrate_sum ***\n",
      "\n",
      "Тип данных столбца rougher.output.concentrate_sum: float64:\n",
      "В столбце rougher.output.concentrate_sum пропущено 28 из 5856 строк, что составляет 0.48%\n",
      "Минимальное значение: 0.00\n",
      "Максимальное значение: 86.39\n",
      "Среднее значение: 66.08\n",
      "Медианное значение: 72.20\n"
     ]
    },
    {
     "data": {
      "image/png": "[encoded data removed]",
      "text/plain": [
       "<Figure size 1080x360 with 2 Axes>"
      ]
     },
     "metadata": {},
     "output_type": "display_data"
    },
    {
     "name": "stdout",
     "output_type": "stream",
     "text": [
      "\n"
     ]
    }
   ],
   "source": [
    "test['rougher.output.concentrate_sum'] = (test['rougher.output.concentrate_ag'] + \n",
    "                                          test['rougher.output.concentrate_pb'] + \n",
    "                                          test['rougher.output.concentrate_sol'] + \n",
    "                                          test['rougher.output.concentrate_au']\n",
    "                                          )\n",
    "\n",
    "column_info(test, 'rougher.output.concentrate_sum', quantitative=True)"
   ]
  },
  {
   "cell_type": "markdown",
   "metadata": {},
   "source": [
    "Суммарная концентрация всех веществ в на стадии `primary_cleaner` в выборке `test`."
   ]
  },
  {
   "cell_type": "code",
   "execution_count": 174,
   "metadata": {},
   "outputs": [
    {
     "name": "stdout",
     "output_type": "stream",
     "text": [
      "\n",
      "*** Информация по столбцу primary_cleaner.output.concentrate_sum ***\n",
      "\n",
      "Тип данных столбца primary_cleaner.output.concentrate_sum: float64:\n",
      "В столбце primary_cleaner.output.concentrate_sum пропущено 162 из 5856 строк, что составляет 2.77%\n",
      "Минимальное значение: 0.00\n",
      "Максимальное значение: 80.75\n",
      "Среднее значение: 58.42\n",
      "Медианное значение: 63.85\n"
     ]
    },
    {
     "data": {
      "image/png": "[encoded data removed]",
      "text/plain": [
       "<Figure size 1080x360 with 2 Axes>"
      ]
     },
     "metadata": {},
     "output_type": "display_data"
    },
    {
     "name": "stdout",
     "output_type": "stream",
     "text": [
      "\n"
     ]
    }
   ],
   "source": [
    "test['primary_cleaner.output.concentrate_sum'] = (test['primary_cleaner.output.concentrate_ag'] + \n",
    "                                                  test['primary_cleaner.output.concentrate_pb'] + \n",
    "                                                  test['primary_cleaner.output.concentrate_sol'] + \n",
    "                                                  test['primary_cleaner.output.concentrate_au']\n",
    "                                                  )\n",
    "\n",
    "column_info(test, 'primary_cleaner.output.concentrate_sum', quantitative=True)"
   ]
  },
  {
   "cell_type": "markdown",
   "metadata": {},
   "source": [
    "Суммарная концентрация всех веществ в на стадии `final` в выборке `test`."
   ]
  },
  {
   "cell_type": "code",
   "execution_count": 175,
   "metadata": {},
   "outputs": [
    {
     "name": "stdout",
     "output_type": "stream",
     "text": [
      "\n",
      "*** Информация по столбцу final.output.concentrate_sum ***\n",
      "\n",
      "Тип данных столбца final.output.concentrate_sum: float64:\n",
      "В столбце final.output.concentrate_sum пропущено 17 из 5856 строк, что составляет 0.29%\n",
      "Минимальное значение: 0.00\n",
      "Максимальное значение: 79.98\n",
      "Среднее значение: 65.16\n",
      "Медианное значение: 70.46\n"
     ]
    },
    {
     "data": {
      "image/png": "[encoded data removed]",
      "text/plain": [
       "<Figure size 1080x360 with 2 Axes>"
      ]
     },
     "metadata": {},
     "output_type": "display_data"
    },
    {
     "name": "stdout",
     "output_type": "stream",
     "text": [
      "\n"
     ]
    }
   ],
   "source": [
    "test['final.output.concentrate_sum'] = (test['final.output.concentrate_ag'] + \n",
    "                                        test['final.output.concentrate_pb'] + \n",
    "                                        test['final.output.concentrate_sol'] + \n",
    "                                        test['final.output.concentrate_au']\n",
    "                                        )\n",
    "\n",
    "column_info(test, 'final.output.concentrate_sum', quantitative=True)"
   ]
  },
  {
   "cell_type": "markdown",
   "metadata": {},
   "source": [
    "**Вывод** Удаляем те строки, где концентрация золота в сырье 0, помимо того, что при расчёте `recovery` нам не придётся делить на 0, итак ясно, что если изначально золота в серье не было, то на выходе его ждать не стоит."
   ]
  },
  {
   "cell_type": "code",
   "execution_count": 176,
   "metadata": {},
   "outputs": [
    {
     "name": "stdout",
     "output_type": "stream",
     "text": [
      "\n",
      "*** Информация по столбцу final.output.concentrate_sum ***\n",
      "\n",
      "Тип данных столбца final.output.concentrate_sum: float64:\n",
      "В столбце final.output.concentrate_sum пропущено 340 из 15111 строк, что составляет 2.25%\n",
      "Минимальное значение: 0.04\n",
      "Максимальное значение: 80.21\n",
      "Среднее значение: 66.64\n",
      "Медианное значение: 69.08\n"
     ]
    },
    {
     "data": {
      "image/png": "[encoded data removed]",
      "text/plain": [
       "<Figure size 1080x360 with 2 Axes>"
      ]
     },
     "metadata": {},
     "output_type": "display_data"
    },
    {
     "name": "stdout",
     "output_type": "stream",
     "text": [
      "\n"
     ]
    }
   ],
   "source": [
    "train = train[(train['rougher.output.concentrate_sum'] != 0) & \n",
    "              (train['primary_cleaner.output.concentrate_sum'] != 0) &\n",
    "              (train['final.output.concentrate_sum'] != 0)\n",
    "             ]\n",
    "\n",
    "column_info(train, 'final.output.concentrate_sum', quantitative=True)"
   ]
  },
  {
   "cell_type": "code",
   "execution_count": 177,
   "metadata": {},
   "outputs": [
    {
     "name": "stdout",
     "output_type": "stream",
     "text": [
      "\n",
      "*** Информация по столбцу final.output.concentrate_sum ***\n",
      "\n",
      "Тип данных столбца final.output.concentrate_sum: float64:\n",
      "В столбце final.output.concentrate_sum пропущено 17 из 5278 строк, что составляет 0.32%\n",
      "Минимальное значение: 0.04\n",
      "Максимальное значение: 79.98\n",
      "Среднее значение: 69.59\n",
      "Медианное значение: 70.68\n"
     ]
    },
    {
     "data": {
      "image/png": "[encoded data removed]",
      "text/plain": [
       "<Figure size 1080x360 with 2 Axes>"
      ]
     },
     "metadata": {},
     "output_type": "display_data"
    },
    {
     "name": "stdout",
     "output_type": "stream",
     "text": [
      "\n"
     ]
    }
   ],
   "source": [
    "test = test[(test['rougher.output.concentrate_sum'] != 0) & \n",
    "            (test['primary_cleaner.output.concentrate_sum'] != 0) &\n",
    "            (test['final.output.concentrate_sum'] != 0)\n",
    "           ]\n",
    "\n",
    "column_info(test, 'final.output.concentrate_sum', quantitative=True)"
   ]
  },
  {
   "cell_type": "markdown",
   "metadata": {},
   "source": [
    "**Вывод** Теперь выборки `train` и `test` без аномальных значений."
   ]
  },
  {
   "cell_type": "markdown",
   "metadata": {},
   "source": [
    "## 3. Прогноз rougher.recovery <a id='the_destination03'></a>"
   ]
  },
  {
   "cell_type": "markdown",
   "metadata": {},
   "source": [
    "### 3.1 Подготовка данных <a id='the_destination03.1'></a>"
   ]
  },
  {
   "cell_type": "code",
   "execution_count": 178,
   "metadata": {},
   "outputs": [],
   "source": [
    "train_features = train[features_var]"
   ]
  },
  {
   "cell_type": "markdown",
   "metadata": {},
   "source": [
    "Оставляем в `train` только переменные из `test`.\n",
    "\n",
    "Функция `not_very_correlated_features` оставляет только те переменные, которые имеют попарную корреляцию меньше определенного порога."
   ]
  },
  {
   "cell_type": "code",
   "execution_count": 179,
   "metadata": {},
   "outputs": [],
   "source": [
    "def not_very_correlated_features(data, threshold):\n",
    "    data_corr = data.corr()\n",
    "    \n",
    "    for i in data.columns:\n",
    "        data_corr = data_corr[(abs(data_corr[i]) < threshold) | (data_corr[i] == 1)]\n",
    "        \n",
    "    independent_features_var = data_corr.index.to_list()    \n",
    "        \n",
    "    print('Количество обучающих признаков с корреляций меньше {}: {}'.format(threshold, len(independent_features_var)))\n",
    "    print('Мы сократили количество признаков на {:.2%}'.format(1 - (len(independent_features_var) / len(data.columns))))\n",
    "    \n",
    "    return independent_features_var"
   ]
  },
  {
   "cell_type": "code",
   "execution_count": 180,
   "metadata": {},
   "outputs": [],
   "source": [
    "rougher_features = [i for i in features_var if 'rougher' in i]"
   ]
  },
  {
   "cell_type": "markdown",
   "metadata": {},
   "source": [
    "Отбираем только переменные, соответствующие этапу `rougher`, иначе возможны утечки.\n",
    "\n",
    "Среди них отбираем те, между которыми корреляция меньше 0.9. Попробовав значения от 0.5 до 1, я пришёл к выводу, что модель даёт наилучшие результаты на пороге 0.9. Кроме того, меньше переменных - меньше вычислений."
   ]
  },
  {
   "cell_type": "code",
   "execution_count": 181,
   "metadata": {},
   "outputs": [
    {
     "name": "stdout",
     "output_type": "stream",
     "text": [
      "Количество обучающих признаков с корреляций меньше 0.9: 10\n",
      "Мы сократили количество признаков на 54.55%\n"
     ]
    },
    {
     "data": {
      "text/plain": [
       "['rougher.input.feed_ag',\n",
       " 'rougher.input.feed_pb',\n",
       " 'rougher.input.feed_rate',\n",
       " 'rougher.input.feed_size',\n",
       " 'rougher.input.feed_sol',\n",
       " 'rougher.input.feed_au',\n",
       " 'rougher.input.floatbank10_sulfate',\n",
       " 'rougher.input.floatbank11_sulfate',\n",
       " 'rougher.state.floatbank10_a_air',\n",
       " 'rougher.state.floatbank10_a_level']"
      ]
     },
     "execution_count": 181,
     "metadata": {},
     "output_type": "execute_result"
    }
   ],
   "source": [
    "rougher_independent_features = not_very_correlated_features(train[rougher_features], 0.9)\n",
    "rougher_independent_features"
   ]
  },
  {
   "cell_type": "markdown",
   "metadata": {},
   "source": [
    "Добавляем целевую переменную к списку, чтобы сразу подгатавливать весь df."
   ]
  },
  {
   "cell_type": "code",
   "execution_count": 182,
   "metadata": {},
   "outputs": [],
   "source": [
    "rougher_features = rougher_independent_features\n",
    "rougher_features.append('rougher.output.recovery')"
   ]
  },
  {
   "cell_type": "markdown",
   "metadata": {},
   "source": [
    "Выкидываем строки с пропуском. Выборка при этом сокращается на 11%, что не критично.\n",
    "Второй возможный подход - заполнение пропусков предыдущими значениями."
   ]
  },
  {
   "cell_type": "code",
   "execution_count": 183,
   "metadata": {},
   "outputs": [
    {
     "name": "stdout",
     "output_type": "stream",
     "text": [
      "\n",
      "*** Информация по столбцу rougher.output.recovery ***\n",
      "\n",
      "Тип данных столбца rougher.output.recovery: float64:\n",
      "В столбце rougher.output.recovery пропущено 0 из 13449 строк, что составляет 0.00%\n",
      "Минимальное значение: 1.08\n",
      "Максимальное значение: 100.00\n",
      "Среднее значение: 84.63\n",
      "Медианное значение: 85.64\n"
     ]
    },
    {
     "data": {
      "image/png": "[encoded data removed]",
      "text/plain": [
       "<Figure size 1080x360 with 2 Axes>"
      ]
     },
     "metadata": {},
     "output_type": "display_data"
    },
    {
     "name": "stdout",
     "output_type": "stream",
     "text": [
      "\n",
      "Размер обучающей выборки сократился на 11.00%\n"
     ]
    }
   ],
   "source": [
    "len_before = len(train)\n",
    "train_rougher = train[rougher_features].dropna()\n",
    "column_info(train_rougher, 'rougher.output.recovery', quantitative=True)\n",
    "print('Размер обучающей выборки сократился на {:.2%}'.format(1 - (len(train_rougher) / len_before)))"
   ]
  },
  {
   "cell_type": "markdown",
   "metadata": {},
   "source": [
    "Разделяем выборку на обучающие и целевые признаки."
   ]
  },
  {
   "cell_type": "code",
   "execution_count": 184,
   "metadata": {},
   "outputs": [],
   "source": [
    "train_rougher_features = train_rougher.drop('rougher.output.recovery', axis=1)\n",
    "train_rougher_target = train_rougher['rougher.output.recovery']"
   ]
  },
  {
   "cell_type": "markdown",
   "metadata": {},
   "source": [
    "Проделываем всё тоже самое с выборкой `test`."
   ]
  },
  {
   "cell_type": "code",
   "execution_count": 185,
   "metadata": {},
   "outputs": [
    {
     "name": "stdout",
     "output_type": "stream",
     "text": [
      "\n",
      "*** Информация по столбцу rougher.output.recovery ***\n",
      "\n",
      "Тип данных столбца rougher.output.recovery: float64:\n",
      "В столбце rougher.output.recovery пропущено 0 из 5111 строк, что составляет 0.00%\n",
      "Минимальное значение: 0.99\n",
      "Максимальное значение: 99.17\n",
      "Среднее значение: 86.67\n",
      "Медианное значение: 87.47\n"
     ]
    },
    {
     "data": {
      "image/png": "[encoded data removed]",
      "text/plain": [
       "<Figure size 1080x360 with 2 Axes>"
      ]
     },
     "metadata": {},
     "output_type": "display_data"
    },
    {
     "name": "stdout",
     "output_type": "stream",
     "text": [
      "\n",
      "Размер обучающей выборки сократился на 3.16%\n"
     ]
    }
   ],
   "source": [
    "len_before = len(test)\n",
    "test_rougher = test[rougher_features].dropna()\n",
    "column_info(test_rougher, 'rougher.output.recovery', quantitative=True)\n",
    "print('Размер обучающей выборки сократился на {:.2%}'.format(1 - (len(test_rougher) / len_before)))"
   ]
  },
  {
   "cell_type": "code",
   "execution_count": 186,
   "metadata": {},
   "outputs": [],
   "source": [
    "test_rougher_features = test_rougher.drop('rougher.output.recovery', axis=1)\n",
    "test_rougher_target = test_rougher['rougher.output.recovery']"
   ]
  },
  {
   "cell_type": "markdown",
   "metadata": {},
   "source": [
    "### 3.2 Поиск оптимальной модели <a id='the_destination03.2'></a>"
   ]
  },
  {
   "cell_type": "markdown",
   "metadata": {},
   "source": [
    "Функция sMAPE считает соответствующую бизнес метрику. Затем создаём scorer. В силу устройтва метрики чем меньше - тем лучше, указываем это в параметрах."
   ]
  },
  {
   "cell_type": "code",
   "execution_count": 187,
   "metadata": {},
   "outputs": [],
   "source": [
    "def sMAPE(original, predicted):\n",
    "    sum = 0\n",
    "    for i in range(len(original)):\n",
    "        sum += abs(original[i] - predicted[i]) / (abs(original[i]) + abs(predicted[i]))\n",
    "    return 2 * sum / len(original)\n",
    "\n",
    "sMAPE_scorer = make_scorer(sMAPE, greater_is_better=False)"
   ]
  },
  {
   "cell_type": "markdown",
   "metadata": {},
   "source": [
    "Приведём все переменные к одному масштабу, для некоторых моделей это существенно."
   ]
  },
  {
   "cell_type": "code",
   "execution_count": 188,
   "metadata": {},
   "outputs": [],
   "source": [
    "scaler = StandardScaler()\n",
    "scaler.fit(train_rougher_features)\n",
    "\n",
    "train_rougher_features = scaler.transform(train_rougher_features)\n",
    "test_rougher_features = scaler.transform(test_rougher_features)"
   ]
  },
  {
   "cell_type": "markdown",
   "metadata": {},
   "source": [
    "Попробуем метод градиентного бустинга. С помощью GridSearchCV найдём подходящие гиперпараметры. Последние буквы в названии CV обозначают, что используется метод кросс-валидации для проверки."
   ]
  },
  {
   "cell_type": "code",
   "execution_count": 189,
   "metadata": {},
   "outputs": [
    {
     "name": "stdout",
     "output_type": "stream",
     "text": [
      "Лучший scoring среди всех параметров: -0.0819498567492214\n",
      "Лучшие параметры: {'learning_rate': 0.1, 'max_depth': 3, 'n_estimators': 40}\n"
     ]
    }
   ],
   "source": [
    "clf_rougher = GradientBoostingRegressor(random_state=state)\n",
    "\n",
    "parameters = {'learning_rate': [0.01, 0.1, 0.25, 0.5],              \n",
    "              'n_estimators': [40, 50, 60, 70],\n",
    "              'max_depth': [3, 4, 5]\n",
    "              }\n",
    "\n",
    "grid_clf_rougher = GridSearchCV(estimator=clf_rougher, param_grid = parameters, cv=3, scoring=sMAPE_scorer)\n",
    "grid_clf_rougher.fit(train_rougher_features, train_rougher_target)\n",
    "\n",
    "print('Лучший scoring среди всех параметров:', grid_clf_rougher.best_score_)\n",
    "print('Лучшие параметры:', grid_clf_rougher.best_params_)"
   ]
  },
  {
   "cell_type": "markdown",
   "metadata": {},
   "source": [
    "Обучаем clf-модель с лучшими параметрами и смотрим на её результаты."
   ]
  },
  {
   "cell_type": "code",
   "execution_count": 190,
   "metadata": {},
   "outputs": [
    {
     "name": "stdout",
     "output_type": "stream",
     "text": [
      "sMAPE clf на обучающей выборке: 0.043845804928085076\n",
      "sMAPE clf на тестовой выборке: 0.04174615031661829\n"
     ]
    }
   ],
   "source": [
    "clf_rougher = GradientBoostingRegressor(learning_rate=0.1,\n",
    "                                        max_depth=3,\n",
    "                                        n_estimators=40,\n",
    "                                        random_state=state\n",
    "                                        )\n",
    "\n",
    "clf_rougher.fit(train_rougher_features, train_rougher_target)\n",
    "test_rougher_predictions = clf_rougher.predict(test_rougher_features)\n",
    "sMAPE_rougher_clf = sMAPE(test_rougher_target, test_rougher_predictions)\n",
    "print('sMAPE clf на обучающей выборке:', sMAPE(train_rougher_target, clf_rougher.predict(train_rougher_features)))\n",
    "print('sMAPE clf на тестовой выборке:', sMAPE_rougher_clf)"
   ]
  },
  {
   "cell_type": "markdown",
   "metadata": {},
   "source": [
    "Попробум в качестве альтернативы Kernelized Support Vector Machines и посмотрим, какое именно ядро лучше всего справляется с нашей задачей."
   ]
  },
  {
   "cell_type": "code",
   "execution_count": 191,
   "metadata": {},
   "outputs": [
    {
     "name": "stdout",
     "output_type": "stream",
     "text": [
      "Лучший scoring среди всех параметров: -0.08047445689824538\n",
      "Лучшие параметры: {'kernel': 'rbf'}\n"
     ]
    }
   ],
   "source": [
    "svr_rougher = SVR(gamma='auto')\n",
    "\n",
    "parameters = {'kernel': ['linear', 'poly', 'rbf', 'sigmoid']}\n",
    "\n",
    "grid_svr_rougher = GridSearchCV(estimator=svr_rougher, param_grid = parameters, cv=3, scoring=sMAPE_scorer)\n",
    "grid_svr_rougher.fit(train_rougher_features, train_rougher_target)\n",
    "\n",
    "print('Лучший scoring среди всех параметров:', grid_svr_rougher.best_score_)\n",
    "print('Лучшие параметры:', grid_svr_rougher.best_params_)"
   ]
  },
  {
   "cell_type": "markdown",
   "metadata": {},
   "source": [
    "Выбираем ядро `rbf`. Подбираем гиперпараметры именно для этого ядра. Его не включаем в гиперпараметры, так как вычислительные ресурсы ограничены."
   ]
  },
  {
   "cell_type": "code",
   "execution_count": 192,
   "metadata": {},
   "outputs": [
    {
     "name": "stdout",
     "output_type": "stream",
     "text": [
      "Лучший scoring среди всех параметров: -0.07780771684166307\n",
      "Лучшие параметры: {'C': 0.1, 'gamma': 0.1}\n"
     ]
    }
   ],
   "source": [
    "svr_rougher = SVR(kernel='rbf')\n",
    "\n",
    "parameters = {'gamma': [0.01, 0.1, 1, 10],\n",
    "              'C': [0.01, 0.1, 1, 10]\n",
    "              }\n",
    "\n",
    "grid_svr_rougher = GridSearchCV(estimator=svr_rougher, param_grid = parameters, cv=3, scoring=sMAPE_scorer)\n",
    "grid_svr_rougher.fit(train_rougher_features, train_rougher_target)\n",
    "\n",
    "print('Лучший scoring среди всех параметров:', grid_svr_rougher.best_score_)\n",
    "print('Лучшие параметры:', grid_svr_rougher.best_params_)"
   ]
  },
  {
   "cell_type": "markdown",
   "metadata": {},
   "source": [
    "Обучаем svr-модель с лучшими параметрами и смотрим на её результаты."
   ]
  },
  {
   "cell_type": "code",
   "execution_count": 193,
   "metadata": {},
   "outputs": [
    {
     "name": "stdout",
     "output_type": "stream",
     "text": [
      "sMAPE svr на обучающей выборке: 0.045850940055865104\n",
      "sMAPE значение svr на тестовой выборке: 0.03944487924876587\n"
     ]
    }
   ],
   "source": [
    "svr_rougher = SVR(kernel='rbf',\n",
    "                  C=0.1,\n",
    "                  gamma=0.1\n",
    "                  )\n",
    "\n",
    "svr_rougher.fit(train_rougher_features, train_rougher_target)\n",
    "test_rougher_predictions = svr_rougher.predict(test_rougher_features)\n",
    "sMAPE_rougher_svr = sMAPE(test_rougher_target, test_rougher_predictions)\n",
    "print('sMAPE svr на обучающей выборке:', sMAPE(train_rougher_target, svr_rougher.predict(train_rougher_features)))\n",
    "print('sMAPE значение svr на тестовой выборке:', sMAPE_rougher_svr)"
   ]
  },
  {
   "cell_type": "markdown",
   "metadata": {},
   "source": [
    "Проверям модель на адекватность с помощью `DummyRegressor` c параметром `strategy='median'` (в данном случае он лучше)."
   ]
  },
  {
   "cell_type": "code",
   "execution_count": 194,
   "metadata": {},
   "outputs": [
    {
     "name": "stdout",
     "output_type": "stream",
     "text": [
      "sMAPE значение dummy на тестовой выборке: 0.04764499921155196\n"
     ]
    }
   ],
   "source": [
    "dummy_rougher = DummyRegressor(strategy='median')\n",
    "\n",
    "dummy_rougher.fit(train_rougher_features, train_rougher_target)\n",
    "sMAPE_rougher_dummy = sMAPE(test_rougher_target, dummy_rougher.predict(test_rougher_features))\n",
    "print('sMAPE значение dummy на тестовой выборке:', sMAPE_rougher_dummy)"
   ]
  },
  {
   "cell_type": "markdown",
   "metadata": {},
   "source": [
    "Собираем все результаты воедино."
   ]
  },
  {
   "cell_type": "code",
   "execution_count": 195,
   "metadata": {},
   "outputs": [
    {
     "data": {
      "image/png": "[encoded data removed]",
      "text/plain": [
       "<Figure size 432x288 with 1 Axes>"
      ]
     },
     "metadata": {},
     "output_type": "display_data"
    }
   ],
   "source": [
    "bar_chart([sMAPE_rougher_clf, sMAPE_rougher_svr, sMAPE_rougher_dummy], \n",
    "          ['clf', 'svr', 'dummy'], \n",
    "          'Результаты разных моделей на стадии rougher'\n",
    "         )"
   ]
  },
  {
   "cell_type": "markdown",
   "metadata": {},
   "source": [
    "**Вывод** svr-модель победила, её результат `sMAPE_rougher_svr` будем учитывать в финальной метрике."
   ]
  },
  {
   "cell_type": "markdown",
   "metadata": {},
   "source": [
    "## 4. Прогноз final.recovery <a id='the_destination04'></a>"
   ]
  },
  {
   "cell_type": "markdown",
   "metadata": {},
   "source": [
    "### 4.1 Подготовка данных <a id='the_destination04.1'></a>"
   ]
  },
  {
   "cell_type": "markdown",
   "metadata": {},
   "source": [
    "Делаем всё тоже самое, что и для случая rougher."
   ]
  },
  {
   "cell_type": "code",
   "execution_count": 196,
   "metadata": {},
   "outputs": [
    {
     "name": "stdout",
     "output_type": "stream",
     "text": [
      "Количество обучающих признаков с корреляций меньше 0.9: 28\n",
      "Мы сократили количество признаков на 46.15%\n"
     ]
    },
    {
     "data": {
      "text/plain": [
       "['primary_cleaner.input.sulfate',\n",
       " 'primary_cleaner.input.depressant',\n",
       " 'primary_cleaner.input.feed_size',\n",
       " 'primary_cleaner.input.xanthate',\n",
       " 'primary_cleaner.state.floatbank8_d_air',\n",
       " 'primary_cleaner.state.floatbank8_d_level',\n",
       " 'rougher.input.feed_ag',\n",
       " 'rougher.input.feed_pb',\n",
       " 'rougher.input.feed_rate',\n",
       " 'rougher.input.feed_size',\n",
       " 'rougher.input.feed_sol',\n",
       " 'rougher.input.feed_au',\n",
       " 'rougher.input.floatbank10_sulfate',\n",
       " 'rougher.input.floatbank11_sulfate',\n",
       " 'rougher.state.floatbank10_a_air',\n",
       " 'rougher.state.floatbank10_a_level',\n",
       " 'secondary_cleaner.state.floatbank3_a_air',\n",
       " 'secondary_cleaner.state.floatbank3_a_level',\n",
       " 'secondary_cleaner.state.floatbank3_b_air',\n",
       " 'secondary_cleaner.state.floatbank3_b_level',\n",
       " 'secondary_cleaner.state.floatbank4_a_air',\n",
       " 'secondary_cleaner.state.floatbank4_a_level',\n",
       " 'secondary_cleaner.state.floatbank4_b_air',\n",
       " 'secondary_cleaner.state.floatbank4_b_level',\n",
       " 'secondary_cleaner.state.floatbank5_a_air',\n",
       " 'secondary_cleaner.state.floatbank5_b_air',\n",
       " 'secondary_cleaner.state.floatbank6_a_air',\n",
       " 'secondary_cleaner.state.floatbank6_a_level']"
      ]
     },
     "execution_count": 196,
     "metadata": {},
     "output_type": "execute_result"
    }
   ],
   "source": [
    "final_independent_features = not_very_correlated_features(train[features_var], 0.9)\n",
    "final_independent_features"
   ]
  },
  {
   "cell_type": "code",
   "execution_count": 197,
   "metadata": {},
   "outputs": [],
   "source": [
    "final_features = final_independent_features\n",
    "final_features.append('final.output.recovery')"
   ]
  },
  {
   "cell_type": "code",
   "execution_count": 198,
   "metadata": {},
   "outputs": [
    {
     "name": "stdout",
     "output_type": "stream",
     "text": [
      "\n",
      "*** Информация по столбцу final.output.recovery ***\n",
      "\n",
      "Тип данных столбца final.output.recovery: float64:\n",
      "В столбце final.output.recovery пропущено 0 из 13978 строк, что составляет 0.00%\n",
      "Минимальное значение: 0.09\n",
      "Максимальное значение: 100.00\n",
      "Среднее значение: 67.12\n",
      "Медианное значение: 67.63\n"
     ]
    },
    {
     "data": {
      "image/png": "[encoded data removed]",
      "text/plain": [
       "<Figure size 1080x360 with 2 Axes>"
      ]
     },
     "metadata": {},
     "output_type": "display_data"
    },
    {
     "name": "stdout",
     "output_type": "stream",
     "text": [
      "\n",
      "Размер обучающей выборки сократился на 7.50%\n"
     ]
    }
   ],
   "source": [
    "len_before = len(train)\n",
    "train_final = train[final_features].dropna()\n",
    "column_info(train_final, 'final.output.recovery', quantitative=True)\n",
    "print('Размер обучающей выборки сократился на {:.2%}'.format(1 - (len(train_final) / len_before)))"
   ]
  },
  {
   "cell_type": "code",
   "execution_count": 199,
   "metadata": {},
   "outputs": [],
   "source": [
    "train_final_features = train_final.drop('final.output.recovery', axis=1)\n",
    "train_final_target = train_final['final.output.recovery']"
   ]
  },
  {
   "cell_type": "code",
   "execution_count": 200,
   "metadata": {},
   "outputs": [
    {
     "name": "stdout",
     "output_type": "stream",
     "text": [
      "\n",
      "*** Информация по столбцу final.output.recovery ***\n",
      "\n",
      "Тип данных столбца final.output.recovery: float64:\n",
      "В столбце final.output.recovery пропущено 0 из 5182 строк, что составляет 0.00%\n",
      "Минимальное значение: 2.03\n",
      "Максимальное значение: 100.00\n",
      "Среднее значение: 69.10\n",
      "Медианное значение: 69.96\n"
     ]
    },
    {
     "data": {
      "image/png": "[encoded data removed]",
      "text/plain": [
       "<Figure size 1080x360 with 2 Axes>"
      ]
     },
     "metadata": {},
     "output_type": "display_data"
    },
    {
     "name": "stdout",
     "output_type": "stream",
     "text": [
      "\n",
      "Размер обучающей выборки сократился на 1.82%\n"
     ]
    }
   ],
   "source": [
    "len_before = len(test)\n",
    "test_final = test[final_features].dropna()\n",
    "column_info(test_final, 'final.output.recovery', quantitative=True)\n",
    "print('Размер обучающей выборки сократился на {:.2%}'.format(1 - (len(test_final) / len_before)))"
   ]
  },
  {
   "cell_type": "code",
   "execution_count": 201,
   "metadata": {},
   "outputs": [],
   "source": [
    "test_final_features = test_final.drop('final.output.recovery', axis=1)\n",
    "test_final_target = test_final['final.output.recovery']"
   ]
  },
  {
   "cell_type": "markdown",
   "metadata": {},
   "source": [
    "### 4.2 Поиск оптимальной модели <a id='the_destination04.2'></a>"
   ]
  },
  {
   "cell_type": "code",
   "execution_count": 124,
   "metadata": {},
   "outputs": [],
   "source": [
    "scaler = StandardScaler()\n",
    "scaler.fit(train_final_features)\n",
    "\n",
    "train_final_features = scaler.transform(train_final_features)\n",
    "test_final_features = scaler.transform(test_final_features)"
   ]
  },
  {
   "cell_type": "code",
   "execution_count": 125,
   "metadata": {},
   "outputs": [
    {
     "name": "stdout",
     "output_type": "stream",
     "text": [
      "Лучший scoring среди всех параметров: -0.1031110390392229\n",
      "Лучшие параметры: {'learning_rate': 0.01, 'max_depth': 5, 'n_estimators': 70}\n"
     ]
    }
   ],
   "source": [
    "clf_final = GradientBoostingRegressor(random_state=state)\n",
    "\n",
    "parameters = {'learning_rate': [0.01, 0.1, 0.25, 0.5],              \n",
    "              'n_estimators': [40, 50, 60, 70],\n",
    "              'max_depth': [3, 4, 5]\n",
    "              }\n",
    "\n",
    "grid_clf_final = GridSearchCV(estimator=clf_final, param_grid = parameters, cv=3, scoring=sMAPE_scorer)\n",
    "grid_clf_final.fit(train_final_features, train_final_target)\n",
    "\n",
    "print('Лучший scoring среди всех параметров:', grid_clf_final.best_score_)\n",
    "print('Лучшие параметры:', grid_clf_final.best_params_)"
   ]
  },
  {
   "cell_type": "code",
   "execution_count": 126,
   "metadata": {},
   "outputs": [
    {
     "name": "stdout",
     "output_type": "stream",
     "text": [
      "sMAPE clf на обучающей выборке: 0.08099219959261024\n",
      "sMAPE clf на тестовой выборке: 0.07572501786852746\n"
     ]
    }
   ],
   "source": [
    "clf_final = GradientBoostingRegressor(learning_rate=0.01,\n",
    "                                        max_depth=5,\n",
    "                                        n_estimators=70,\n",
    "                                        random_state=state\n",
    "                                       )\n",
    "\n",
    "clf_final.fit(train_final_features, train_final_target)\n",
    "test_final_predictions = clf_final.predict(test_final_features)\n",
    "\n",
    "sMAPE_final_clf = sMAPE(test_final_target, test_final_predictions)\n",
    "print('sMAPE clf на обучающей выборке:', sMAPE(train_final_target, clf_final.predict(train_final_features)))\n",
    "print('sMAPE clf на тестовой выборке:', sMAPE_final_clf)"
   ]
  },
  {
   "cell_type": "code",
   "execution_count": 127,
   "metadata": {},
   "outputs": [
    {
     "name": "stdout",
     "output_type": "stream",
     "text": [
      "Лучший scoring среди всех параметров: -0.1036179173850702\n",
      "Лучшие параметры: {'C': 0.1, 'gamma': 0.01}\n"
     ]
    }
   ],
   "source": [
    "svr_final = SVR(kernel='rbf')\n",
    "\n",
    "parameters = {'gamma': [0.01, 0.1, 1, 10],\n",
    "              'C': [0.1, 1, 10, 100]\n",
    "              }\n",
    "\n",
    "grid_svr_final = GridSearchCV(estimator=svr_final, param_grid = parameters, cv=3, scoring=sMAPE_scorer)\n",
    "grid_svr_final.fit(train_final_features, train_final_target)\n",
    "\n",
    "print('Лучший scoring среди всех параметров:', grid_svr_final.best_score_)\n",
    "print('Лучшие параметры:', grid_svr_final.best_params_)"
   ]
  },
  {
   "cell_type": "code",
   "execution_count": 128,
   "metadata": {},
   "outputs": [
    {
     "name": "stdout",
     "output_type": "stream",
     "text": [
      "sMAPE svr на обучающей выборке: 0.07921211550385307\n",
      "sMAPE svr на тестовой выборке: 0.07209739130619343\n"
     ]
    }
   ],
   "source": [
    "svr_final = SVR(kernel='rbf',\n",
    "                  C=0.1,\n",
    "                  gamma=0.01\n",
    "                  )\n",
    "\n",
    "svr_final.fit(train_final_features, train_final_target)\n",
    "test_final_predictions = svr_final.predict(test_final_features)\n",
    "\n",
    "sMAPE_final_svr = sMAPE(test_final_target, test_final_predictions)\n",
    "print('sMAPE svr на обучающей выборке:', sMAPE(train_final_target, svr_final.predict(train_final_features)))\n",
    "print('sMAPE svr на тестовой выборке:', sMAPE_final_svr)"
   ]
  },
  {
   "cell_type": "code",
   "execution_count": 129,
   "metadata": {},
   "outputs": [
    {
     "name": "stdout",
     "output_type": "stream",
     "text": [
      "sMAPE dummy на обучающей выборке: 0.09898676578134195\n",
      "sMAPE dummy на тестовой выборке: 0.0815680180604258\n"
     ]
    }
   ],
   "source": [
    "dummy_final = DummyRegressor(strategy='median')\n",
    "\n",
    "dummy_final.fit(train_final_features, train_final_target)\n",
    "sMAPE_final_dummy = sMAPE(test_final_target, dummy_final.predict(test_final_features))\n",
    "print('sMAPE dummy на обучающей выборке:', sMAPE(train_final_target, dummy_final.predict(train_final_features)))\n",
    "print('sMAPE dummy на тестовой выборке:', sMAPE_final_dummy)"
   ]
  },
  {
   "cell_type": "code",
   "execution_count": 130,
   "metadata": {},
   "outputs": [
    {
     "data": {
      "image/png": "[encoded data removed]",
      "text/plain": [
       "<Figure size 432x288 with 1 Axes>"
      ]
     },
     "metadata": {
      "needs_background": "light"
     },
     "output_type": "display_data"
    }
   ],
   "source": [
    "bar_chart([sMAPE_final_clf, sMAPE_final_svr, sMAPE_final_dummy], \n",
    "          ['clf', 'svr', 'dummy'], \n",
    "          'Результаты разных моделей на стадии final'\n",
    "         )"
   ]
  },
  {
   "cell_type": "markdown",
   "metadata": {},
   "source": [
    "**Вывод** svr-модель опять победила, её результат `sMAPE_final_svr` будем учитывать в финальной метрике."
   ]
  },
  {
   "cell_type": "markdown",
   "metadata": {},
   "source": [
    "# 5. Вывод <a id='the_destination05'></a>"
   ]
  },
  {
   "cell_type": "code",
   "execution_count": 131,
   "metadata": {},
   "outputs": [
    {
     "name": "stdout",
     "output_type": "stream",
     "text": [
      "Результат работы svr-модели: 0.06393426329183655\n",
      "Результат работы clf-модели: 0.06723030098055016\n",
      "Результат работы dummy-модели: 0.07308726334820734\n",
      "Результат svr-модели лучше результата dummy-модели на 14.32%\n"
     ]
    }
   ],
   "source": [
    "sMAPE_combined_svr = sMAPE_rougher_svr * 0.25 + sMAPE_final_svr * 0.75\n",
    "sMAPE_combined_clf = sMAPE_rougher_clf * 0.25 + sMAPE_final_clf * 0.75\n",
    "sMAPE_combined_dummy = sMAPE_rougher_dummy * 0.25 + sMAPE_final_dummy * 0.75\n",
    "\n",
    "print('Результат работы svr-модели:', sMAPE_combined_svr)\n",
    "print('Результат работы clf-модели:', sMAPE_combined_clf)\n",
    "print('Результат работы dummy-модели:', sMAPE_combined_dummy)\n",
    "print('Результат svr-модели лучше результата dummy-модели на {:.2%}'.format(sMAPE_combined_dummy / sMAPE_combined_svr - 1))"
   ]
  },
  {
   "cell_type": "code",
   "execution_count": 132,
   "metadata": {},
   "outputs": [
    {
     "data": {
      "image/png": "[encoded data removed]",
      "text/plain": [
       "<Figure size 432x288 with 1 Axes>"
      ]
     },
     "metadata": {
      "needs_background": "light"
     },
     "output_type": "display_data"
    }
   ],
   "source": [
    "bar_chart([sMAPE_combined_svr, sMAPE_combined_clf, sMAPE_combined_dummy], ['svr', 'clf', 'dummy'], 'Комбинированные результаты')"
   ]
  },
  {
   "cell_type": "markdown",
   "metadata": {},
   "source": [
    "Модель Kernelized Support Vector Machines с ядром rbf способна предсказывает бизнес-метрику recovery на разных стадиях процесса и оказалась эффективнее градиентного бустинга и модели, которая всё время предсказывает медианное значение."
   ]
  }
 ],
 "metadata": {
  "kernelspec": {
   "display_name": "Python 3",
   "language": "python",
   "name": "python3"
  },
  "language_info": {
   "codemirror_mode": {
    "name": "ipython",
    "version": 3
   },
   "file_extension": ".py",
   "mimetype": "text/x-python",
   "name": "python",
   "nbconvert_exporter": "python",
   "pygments_lexer": "ipython3",
   "version": "3.7.9"
  }
 },
 "nbformat": 4,
 "nbformat_minor": 2
}
